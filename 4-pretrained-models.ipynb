{
 "cells": [
  {
   "cell_type": "markdown",
   "metadata": {},
   "source": [
    "## USING a pre-trained model ##\n",
    "\n",
    "Pytorch do not have pre-trained models such as GPT-1, GPT-2, BERT, etc. But! We are going to use a library called HuggingFace, that has all of these models + they also have other made by the community.\n",
    "\n",
    "https://huggingface.co/transformers/task_summary.html"
   ]
  },
  {
   "cell_type": "markdown",
   "metadata": {},
   "source": [
    "### Text classification ###"
   ]
  },
  {
   "cell_type": "code",
   "execution_count": 1,
   "metadata": {},
   "outputs": [
    {
     "name": "stderr",
     "output_type": "stream",
     "text": [
      "No model was supplied, defaulted to distilbert-base-uncased-finetuned-sst-2-english (https://huggingface.co/distilbert-base-uncased-finetuned-sst-2-english)\n"
     ]
    },
    {
     "name": "stdout",
     "output_type": "stream",
     "text": [
      "label: NEGATIVE, with score: 0.9991\n",
      "label: POSITIVE, with score: 0.9999\n"
     ]
    }
   ],
   "source": [
    "from transformers import pipeline\n",
    "\n",
    "# sst2 - GLUE TASK\n",
    "nlp = pipeline(\"sentiment-analysis\")\n",
    "\n",
    "result = nlp(\"I hate you\")[0]\n",
    "print(f\"label: {result['label']}, with score: {round(result['score'], 4)}\")\n",
    "\n",
    "result = nlp(\"I love you\")[0]\n",
    "print(f\"label: {result['label']}, with score: {round(result['score'], 4)}\")"
   ]
  },
  {
   "cell_type": "markdown",
   "metadata": {},
   "source": [
    "#### Native Pytorch ####"
   ]
  },
  {
   "cell_type": "code",
   "execution_count": 2,
   "metadata": {},
   "outputs": [
    {
     "name": "stdout",
     "output_type": "stream",
     "text": [
      "not paraphrase: 10%\n",
      "is paraphrase: 90%\n",
      "not paraphrase: 94%\n",
      "is paraphrase: 6%\n"
     ]
    }
   ],
   "source": [
    "from transformers import AutoTokenizer, AutoModelForSequenceClassification\n",
    "import torch\n",
    "\n",
    "# These two have to match\n",
    "tokenizer = AutoTokenizer.from_pretrained(\"bert-base-cased-finetuned-mrpc\")\n",
    "# Automodel instantiates the correct checkpoint based on the task! (defined by the automodel call)\n",
    "model = AutoModelForSequenceClassification.from_pretrained(\"bert-base-cased-finetuned-mrpc\")\n",
    "\n",
    "classes = [\"not paraphrase\", \"is paraphrase\"]\n",
    "\n",
    "sequence_0 = \"The company HuggingFace is based in New York City\"\n",
    "sequence_1 = \"Apples are especially bad for your health\"\n",
    "sequence_2 = \"HuggingFace's headquarters are situated in Manhattan\"\n",
    "\n",
    "paraphrase = tokenizer(sequence_0, sequence_2, return_tensors=\"pt\")\n",
    "not_paraphrase = tokenizer(sequence_0, sequence_1, return_tensors=\"pt\")\n",
    "\n",
    "# Get the results\n",
    "paraphrase_classification_logits = model(**paraphrase).logits\n",
    "not_paraphrase_classification_logits = model(**not_paraphrase).logits\n",
    "\n",
    "# Apply softmax to know probability\n",
    "paraphrase_results = torch.softmax(paraphrase_classification_logits, dim=1).tolist()[0]\n",
    "not_paraphrase_results = torch.softmax(not_paraphrase_classification_logits, dim=1).tolist()[0]\n",
    "\n",
    "# Should be paraphrase\n",
    "for i in range(len(classes)):\n",
    "    print(f\"{classes[i]}: {int(round(paraphrase_results[i] * 100))}%\")\n",
    "\n",
    "# Should not be paraphrase\n",
    "for i in range(len(classes)):\n",
    "    print(f\"{classes[i]}: {int(round(not_paraphrase_results[i] * 100))}%\")"
   ]
  },
  {
   "cell_type": "markdown",
   "metadata": {},
   "source": [
    "## Extractive question answering ##\n",
    "\n",
    "Based on a text, we ask questionn to the model and extract the answers from the text if any."
   ]
  },
  {
   "cell_type": "code",
   "execution_count": 3,
   "metadata": {},
   "outputs": [
    {
     "name": "stderr",
     "output_type": "stream",
     "text": [
      "No model was supplied, defaulted to distilbert-base-cased-distilled-squad (https://huggingface.co/distilbert-base-cased-distilled-squad)\n"
     ]
    }
   ],
   "source": [
    "from transformers import pipeline\n",
    "\n",
    "nlp = pipeline(\"question-answering\")\n",
    "\n",
    "context = r\"\"\"\n",
    "Extractive Question Answering is the task of extracting an answer from a text given a question. An example of a\n",
    "question answering dataset is the SQuAD dataset, which is entirely based on that task. If you would like to fine-tune\n",
    "a model on a SQuAD task, you may leverage the examples/question-answering/run_squad.py script.\n",
    "\"\"\""
   ]
  },
  {
   "cell_type": "code",
   "execution_count": 4,
   "metadata": {},
   "outputs": [
    {
     "name": "stdout",
     "output_type": "stream",
     "text": [
      "Answer: 'the task of extracting an answer from a text given a question', score: 0.6226, start: 34, end: 95\n",
      "Answer: 'SQuAD dataset', score: 0.5053, start: 147, end: 160\n"
     ]
    }
   ],
   "source": [
    "# Text, confidence, position (Start, end)\n",
    "result = nlp(question=\"What is extractive question answering?\", context=context)\n",
    "print(f\"Answer: '{result['answer']}', score: {round(result['score'], 4)}, start: {result['start']}, end: {result['end']}\")\n",
    "\n",
    "result = nlp(question=\"What is a good example of a question answering dataset?\", context=context)\n",
    "print(f\"Answer: '{result['answer']}', score: {round(result['score'], 4)}, start: {result['start']}, end: {result['end']}\")"
   ]
  },
  {
   "cell_type": "markdown",
   "metadata": {},
   "source": [
    "#### Pytorch ####"
   ]
  },
  {
   "cell_type": "code",
   "execution_count": 5,
   "metadata": {},
   "outputs": [
    {
     "name": "stdout",
     "output_type": "stream",
     "text": [
      "Question: How many pretrained models are available in 🤗 Transformers?\n",
      "Answer: over 32 +\n",
      "Question: What does 🤗 Transformers provide?\n",
      "Answer: general - purpose architectures\n",
      "Question: 🤗 Transformers provides interoperability between which frameworks?\n",
      "Answer: tensorflow 2. 0 and pytorch\n"
     ]
    }
   ],
   "source": [
    "from transformers import AutoTokenizer, AutoModelForQuestionAnswering\n",
    "import torch\n",
    "\n",
    "tokenizer = AutoTokenizer.from_pretrained(\"bert-large-uncased-whole-word-masking-finetuned-squad\")\n",
    "model = AutoModelForQuestionAnswering.from_pretrained(\"bert-large-uncased-whole-word-masking-finetuned-squad\")\n",
    "\n",
    "text = r\"\"\"\n",
    "🤗 Transformers (formerly known as pytorch-transformers and pytorch-pretrained-bert) provides general-purpose\n",
    "architectures (BERT, GPT-2, RoBERTa, XLM, DistilBert, XLNet…) for Natural Language Understanding (NLU) and Natural\n",
    "Language Generation (NLG) with over 32+ pretrained models in 100+ languages and deep interoperability between\n",
    "TensorFlow 2.0 and PyTorch.\n",
    "\"\"\"\n",
    "\n",
    "questions = [\n",
    "    \"How many pretrained models are available in 🤗 Transformers?\",\n",
    "    \"What does 🤗 Transformers provide?\",\n",
    "    \"🤗 Transformers provides interoperability between which frameworks?\",\n",
    "]\n",
    "\n",
    "for question in questions:\n",
    "    inputs = tokenizer(question, text, add_special_tokens=True, return_tensors=\"pt\")\n",
    "    input_ids = inputs[\"input_ids\"].tolist()[0]\n",
    "    \n",
    "#     print(input_ids) # The tokens per word. The first part is the question, the second is the text.\n",
    "\n",
    "    outputs = model(**inputs)\n",
    "    answer_start_scores = outputs.start_logits\n",
    "    answer_end_scores = outputs.end_logits\n",
    "\n",
    "    answer_start = torch.argmax(\n",
    "        answer_start_scores\n",
    "    )  # Get the most likely beginning of answer with the argmax of the score\n",
    "    answer_end = torch.argmax(answer_end_scores) + 1  # Get the most likely end of answer with the argmax of the score\n",
    "\n",
    "    answer = tokenizer.convert_tokens_to_string(tokenizer.convert_ids_to_tokens(input_ids[answer_start:answer_end]))\n",
    "\n",
    "    print(f\"Question: {question}\")\n",
    "    print(f\"Answer: {answer}\")"
   ]
  },
  {
   "cell_type": "markdown",
   "metadata": {},
   "source": [
    "## MASKED LANGUAGE MODELING ##\n",
    "\n",
    "Masked language modeling is the task of masking tokens in a sequence with a masking token, and prompting the model to fill that mask with an appropriate token. Similar objective to the CBOW model."
   ]
  },
  {
   "cell_type": "markdown",
   "metadata": {},
   "source": [
    "#### Pytorch ####"
   ]
  },
  {
   "cell_type": "code",
   "execution_count": 6,
   "metadata": {},
   "outputs": [],
   "source": [
    "from transformers import AutoModelForMaskedLM, AutoTokenizer\n",
    "import torch\n",
    "\n",
    "tokenizer = AutoTokenizer.from_pretrained(\"distilbert-base-cased\")\n",
    "model = AutoModelForMaskedLM.from_pretrained(\"distilbert-base-cased\")\n",
    "\n",
    "sequence = f\"Distilled models are smaller than the models they mimic. Using them instead of the large versions would help {tokenizer.mask_token} our carbon footprint.\"\n",
    "\n",
    "input = tokenizer.encode(sequence, return_tensors=\"pt\")\n",
    "mask_token_index = torch.where(input == tokenizer.mask_token_id)[1]\n",
    "\n",
    "token_logits = model(input).logits\n",
    "mask_token_logits = token_logits[0, mask_token_index, :]\n",
    "\n",
    "top_5_tokens = torch.topk(mask_token_logits, 5, dim=1).indices[0].tolist()"
   ]
  },
  {
   "cell_type": "code",
   "execution_count": 7,
   "metadata": {},
   "outputs": [
    {
     "name": "stdout",
     "output_type": "stream",
     "text": [
      "Distilled models are smaller than the models they mimic. Using them instead of the large versions would help reduce our carbon footprint.\n",
      "Distilled models are smaller than the models they mimic. Using them instead of the large versions would help increase our carbon footprint.\n",
      "Distilled models are smaller than the models they mimic. Using them instead of the large versions would help decrease our carbon footprint.\n",
      "Distilled models are smaller than the models they mimic. Using them instead of the large versions would help offset our carbon footprint.\n",
      "Distilled models are smaller than the models they mimic. Using them instead of the large versions would help improve our carbon footprint.\n"
     ]
    }
   ],
   "source": [
    "for token in top_5_tokens:\n",
    "    print(sequence.replace(tokenizer.mask_token, tokenizer.decode([token])))"
   ]
  },
  {
   "cell_type": "markdown",
   "metadata": {},
   "source": [
    "### Causal Language Modelling ###\n",
    "\n",
    "Causal language modeling is the task of predicting the token following a sequence of tokens. In this situation, the model only attends to the left context (tokens on the left of the mask). Such a training is particularly interesting for generation tasks, and is very similar so-to-say to what we have been previously focusing on during this lab"
   ]
  },
  {
   "cell_type": "code",
   "execution_count": 8,
   "metadata": {},
   "outputs": [
    {
     "name": "stderr",
     "output_type": "stream",
     "text": [
      "D:\\Anaconda\\envs\\AMLdl\\lib\\site-packages\\transformers\\models\\auto\\modeling_auto.py:694: FutureWarning: The class `AutoModelWithLMHead` is deprecated and will be removed in a future version. Please use `AutoModelForCausalLM` for causal language models, `AutoModelForMaskedLM` for masked language models and `AutoModelForSeq2SeqLM` for encoder-decoder models.\n",
      "  warnings.warn(\n"
     ]
    },
    {
     "name": "stdout",
     "output_type": "stream",
     "text": [
      "tensor([[48098,  2667, 15399,   318,  1912,   287,   360,  5883,  8202,    11,\n",
      "           968,  1971,  2254,    11,   290]])\n",
      "tensor([[-110.4284, -110.4649, -112.1736,  ..., -115.2662, -113.5503,\n",
      "         -107.8964]], grad_fn=<SliceBackward>)\n",
      "tensor([[262]])\n",
      " the\n"
     ]
    }
   ],
   "source": [
    "## NEEDS TO BE CHECKED ##\n",
    "from transformers import AutoModelWithLMHead, AutoTokenizer, top_k_top_p_filtering\n",
    "import torch\n",
    "from torch.nn import functional as F\n",
    "\n",
    "tokenizer = AutoTokenizer.from_pretrained(\"gpt2\")\n",
    "model = AutoModelWithLMHead.from_pretrained(\"gpt2\")\n",
    "\n",
    "sequence = f\"Hugging Face is based in DUMBO, New York City, and\"\n",
    "\n",
    "input_ids = tokenizer.encode(sequence, return_tensors=\"pt\")\n",
    "print(input_ids)\n",
    "\n",
    "# get logits of last hidden state\n",
    "next_token_logits = model(input_ids).logits[:, -1, :]\n",
    "print(next_token_logits)\n",
    "\n",
    "# filter the output\n",
    "filtered_next_token_logits = top_k_top_p_filtering(next_token_logits, top_k=50, top_p=1.0)\n",
    "\n",
    "# sample\n",
    "probs = F.softmax(next_token_logits, dim=-1)\n",
    "next_token = torch.multinomial(probs, num_samples=1)\n",
    "\n",
    "print(next_token)\n",
    "print(tokenizer.decode(next_token.item()))\n",
    "\n",
    "generated = torch.cat([input_ids, next_token], dim=-1)\n",
    "\n",
    "resulting_string = tokenizer.decode(generated.tolist()[0])"
   ]
  },
  {
   "cell_type": "code",
   "execution_count": 9,
   "metadata": {},
   "outputs": [
    {
     "name": "stdout",
     "output_type": "stream",
     "text": [
      "Hugging Face is based in DUMBO, New York City, and the\n"
     ]
    }
   ],
   "source": [
    "# Resulting string is simply the next word!\n",
    "print(resulting_string)"
   ]
  },
  {
   "cell_type": "markdown",
   "metadata": {},
   "source": [
    "## TEXT GENERAITON ##\n",
    "In text generation, the goal is to create coherent text, which can be started from zero (<BOS>) or a continuation from a prompt. GPT-2 (and GPT-3, if you get access) is one of the most used models for this type of task.\n",
    "\n",
    "In HuggingFace library, text generation is currently possible with GPT-2, OpenAi-GPT, CTRL, XLNet, Transfo-XL and Reformer in PyTorch. GPT-2 is usually a good choice for open-ended text generation because it was trained on millions of webpages with a causal language modeling objective.\n",
    "\n",
    "For more information on how to apply different decoding strategies for text generation, check this blog post! (https://huggingface.co/blog/how-to-generate)"
   ]
  },
  {
   "cell_type": "code",
   "execution_count": 10,
   "metadata": {},
   "outputs": [
    {
     "name": "stderr",
     "output_type": "stream",
     "text": [
      "No model was supplied, defaulted to gpt2 (https://huggingface.co/gpt2)\n",
      "Setting `pad_token_id` to `eos_token_id`:50256 for open-end generation.\n"
     ]
    },
    {
     "name": "stdout",
     "output_type": "stream",
     "text": [
      "[{'generated_text': 'As teachers, we need to do more. It\\'s a massive responsibility. Now [the issue is] one that teachers need to address in practice,\" he said.'}]\n"
     ]
    }
   ],
   "source": [
    "from transformers import pipeline\n",
    "\n",
    "text_generator = pipeline(\"text-generation\")\n",
    "print(text_generator(\"As teachers, we need to\", max_length=50, do_sample=True))"
   ]
  },
  {
   "cell_type": "markdown",
   "metadata": {},
   "source": [
    "# Pytorch ####"
   ]
  },
  {
   "cell_type": "code",
   "execution_count": 11,
   "metadata": {},
   "outputs": [],
   "source": [
    "from transformers import AutoModelWithLMHead, AutoTokenizer\n",
    "\n",
    "model = AutoModelWithLMHead.from_pretrained(\"xlnet-base-cased\")\n",
    "tokenizer = AutoTokenizer.from_pretrained(\"xlnet-base-cased\")\n",
    "\n",
    "# Padding text helps XLNet with short prompts - proposed by Aman Rusia in https://github.com/rusiaaman/XLNet-gen#methodology\n",
    "PADDING_TEXT = \"\"\"In 1991, the remains of Russian Tsar Nicholas II and his family\n",
    "(except for Alexei and Maria) are discovered.\n",
    "The voice of Nicholas's young son, Tsarevich Alexei Nikolaevich, narrates the\n",
    "remainder of the story. 1883 Western Siberia,\n",
    "a young Grigori Rasputin is asked by his father and a group of men to perform magic.\n",
    "Rasputin has a vision and denounces one of the men as a horse thief. Although his\n",
    "father initially slaps him for making such an accusation, Rasputin watches as the\n",
    "man is chased outside and beaten. Twenty years later, Rasputin sees a vision of\n",
    "the Virgin Mary, prompting him to become a priest. Rasputin quickly becomes famous,\n",
    "with people, even a bishop, begging for his blessing. <eod> </s> <eos>\"\"\"\n",
    "\n",
    "prompt = \"Today the weather is really nice and I am planning on \"\n",
    "inputs = tokenizer.encode(PADDING_TEXT + prompt, add_special_tokens=False, return_tensors=\"pt\")\n",
    "\n",
    "prompt_length = len(tokenizer.decode(inputs[0], skip_special_tokens=True, clean_up_tokenization_spaces=True))\n",
    "outputs = model.generate(inputs, max_length=250, do_sample=True, top_p=0.95, top_k=60)\n",
    "generated = prompt + tokenizer.decode(outputs[0])[prompt_length:]"
   ]
  },
  {
   "cell_type": "code",
   "execution_count": 12,
   "metadata": {},
   "outputs": [
    {
     "name": "stdout",
     "output_type": "stream",
     "text": [
      "Today the weather is really nice and I am planning on anning on going for a few more hours in the afternoon. The way to go is at a very cool hill, which is pretty cool for a hilly summer days. It is warm, but the temperature is also (very comfortable). The place is on the opposite end of the lake from the city, and it is nice, and quiet. In the afternoon you are\n"
     ]
    }
   ],
   "source": [
    "print(generated)"
   ]
  },
  {
   "cell_type": "markdown",
   "metadata": {},
   "source": [
    "## SUMMARIZATION ##\n",
    "\n",
    "Summarization is the task of summarizing a document or an article into a shorter text.\n",
    "\n",
    "An example of a summarization dataset is the CNN / Daily Mail dataset, which consists of long news articles and was created for the task of summarization. If you would like to fine-tune a model on a summarization task, various approaches are described in this document (https://github.com/huggingface/transformers/blob/master/examples/seq2seq/README.md)"
   ]
  },
  {
   "cell_type": "code",
   "execution_count": 13,
   "metadata": {},
   "outputs": [
    {
     "name": "stderr",
     "output_type": "stream",
     "text": [
      "No model was supplied, defaulted to sshleifer/distilbart-cnn-12-6 (https://huggingface.co/sshleifer/distilbart-cnn-12-6)\n"
     ]
    }
   ],
   "source": [
    "from transformers import pipeline\n",
    "\n",
    "# We use BERT here\n",
    "summarizer = pipeline(\"summarization\")\n",
    "\n",
    "ARTICLE = \"\"\" New York (CNN)When Liana Barrientos was 23 years old, she got married in Westchester County, New York.\n",
    "A year later, she got married again in Westchester County, but to a different man and without divorcing her first husband.\n",
    "Only 18 days after that marriage, she got hitched yet again. Then, Barrientos declared \"I do\" five more times, sometimes only within two weeks of each other.\n",
    "In 2010, she married once more, this time in the Bronx. In an application for a marriage license, she stated it was her \"first and only\" marriage.\n",
    "Barrientos, now 39, is facing two criminal counts of \"offering a false instrument for filing in the first degree,\" referring to her false statements on the\n",
    "2010 marriage license application, according to court documents.\n",
    "Prosecutors said the marriages were part of an immigration scam.\n",
    "On Friday, she pleaded not guilty at State Supreme Court in the Bronx, according to her attorney, Christopher Wright, who declined to comment further.\n",
    "After leaving court, Barrientos was arrested and charged with theft of service and criminal trespass for allegedly sneaking into the New York subway through an emergency exit, said Detective\n",
    "Annette Markowski, a police spokeswoman. In total, Barrientos has been married 10 times, with nine of her marriages occurring between 1999 and 2002.\n",
    "All occurred either in Westchester County, Long Island, New Jersey or the Bronx. She is believed to still be married to four men, and at one time, she was married to eight men at once, prosecutors say.\n",
    "Prosecutors said the immigration scam involved some of her husbands, who filed for permanent residence status shortly after the marriages.\n",
    "Any divorces happened only after such filings were approved. It was unclear whether any of the men will be prosecuted.\n",
    "The case was referred to the Bronx District Attorney\\'s Office by Immigration and Customs Enforcement and the Department of Homeland Security\\'s\n",
    "Investigation Division. Seven of the men are from so-called \"red-flagged\" countries, including Egypt, Turkey, Georgia, Pakistan and Mali.\n",
    "Her eighth husband, Rashid Rajput, was deported in 2006 to his native Pakistan after an investigation by the Joint Terrorism Task Force.\n",
    "If convicted, Barrientos faces up to four years in prison.  Her next court appearance is scheduled for May 18.\n",
    "\"\"\""
   ]
  },
  {
   "cell_type": "code",
   "execution_count": 14,
   "metadata": {},
   "outputs": [
    {
     "name": "stdout",
     "output_type": "stream",
     "text": [
      "[{'summary_text': ' Liana Barrientos, 39, has been married 10 times, nine of them between 1999 and 2002 . She is believed to still be married to four men, and at one time, she was married to eight men at once . She pleaded not guilty to two counts of \"offering a false instrument for filing in the first degree\"'}]\n"
     ]
    }
   ],
   "source": [
    "print(summarizer(ARTICLE, max_length=130, min_length=30, do_sample=True))"
   ]
  },
  {
   "cell_type": "markdown",
   "metadata": {},
   "source": [
    "#### Pytorch ####\n",
    "\n",
    "Here is an example of doing summarization using a model and a tokenizer. The process is the following:\n",
    "\n",
    "- Instantiate a tokenizer and a model from the checkpoint name. Summarization is usually done using an encoder-decoder model, such as Bart or T5.\n",
    "- Define the article that should be summarized.\n",
    "- Add the T5 specific prefix “summarize: “.\n",
    "- Use the PreTrainedModel.generate() method to generate the summary.\n",
    "- In this example we use Google`s T5 model. Even though it was pre-trained only on a multi-task mixed dataset (including CNN / Daily Mail), it yields very good results."
   ]
  },
  {
   "cell_type": "code",
   "execution_count": 15,
   "metadata": {},
   "outputs": [
    {
     "name": "stderr",
     "output_type": "stream",
     "text": [
      "Truncation was not explicitly activated but `max_length` is provided a specific value, please use `truncation=True` to explicitly truncate examples to max length. Defaulting to 'longest_first' truncation strategy. If you encode pairs of sequences (GLUE-style) with the tokenizer you can select this strategy more precisely by providing a specific strategy to `truncation`.\n"
     ]
    }
   ],
   "source": [
    "from transformers import AutoModelWithLMHead, AutoTokenizer\n",
    "\n",
    "model = AutoModelWithLMHead.from_pretrained(\"t5-base\")\n",
    "tokenizer = AutoTokenizer.from_pretrained(\"t5-base\")\n",
    "\n",
    "# T5 uses a max_length of 512 so we cut the article to 512 tokens.\n",
    "inputs = tokenizer.encode(\"summarize: \" + ARTICLE, return_tensors=\"pt\", max_length=512)\n",
    "outputs = model.generate(inputs, max_length=150, min_length=40, length_penalty=2.0, num_beams=4, early_stopping=True)"
   ]
  },
  {
   "cell_type": "code",
   "execution_count": 16,
   "metadata": {},
   "outputs": [
    {
     "name": "stdout",
     "output_type": "stream",
     "text": [
      "<pad> prosecutors say the marriages were part of an immigration scam. if convicted, barrientos faces two criminal counts of \"offering a false instrument for filing in the first degree\" she has been married 10 times, nine of them between 1999 and 2002.</s>\n",
      "tensor([[    0,     3, 29905,   497,     8,  5281,     7,   130,   294,    13,\n",
      "            46, 10653, 13236,     3,     5,     3,    99,     3, 21217,     6,\n",
      "          1207,  3483,   235,     7,  8519,   192,  4336, 12052,    13,    96,\n",
      "          1647,    49,    53,     3,     9,  6136,  5009,    21,  9479,    16,\n",
      "             8,   166,  1952,   121,   255,    65,   118,  4464,   335,   648,\n",
      "             6,  4169,    13,   135,   344,  5247,    11,  4407,     3,     5,\n",
      "             1]])\n"
     ]
    }
   ],
   "source": [
    "# print(tokenizer.decode(outputs))\n",
    "print(tokenizer.decode(outputs.tolist()[0]))\n",
    "print(outputs)"
   ]
  },
  {
   "cell_type": "markdown",
   "metadata": {},
   "source": [
    "## Translation ##\n",
    "\n",
    "Translation is the classic task for a Seq2Seq model."
   ]
  },
  {
   "cell_type": "code",
   "execution_count": 17,
   "metadata": {},
   "outputs": [
    {
     "name": "stderr",
     "output_type": "stream",
     "text": [
      "No model was supplied, defaulted to t5-base (https://huggingface.co/t5-base)\n"
     ]
    },
    {
     "name": "stdout",
     "output_type": "stream",
     "text": [
      "[{'translation_text': 'Hugging Face ist ein Technologieunternehmen mit Sitz in New York und Paris.'}]\n"
     ]
    }
   ],
   "source": [
    "from transformers import pipeline\n",
    "\n",
    "translator = pipeline(\"translation_en_to_de\")\n",
    "print(translator(\"Hugging Face is a technology company based in New York and Paris\", max_length=40))"
   ]
  },
  {
   "cell_type": "markdown",
   "metadata": {},
   "source": [
    "#### pytorch ####\n",
    "\n",
    "Here is an example of doing translation using a model and a tokenizer. The process is the following:\n",
    "\n",
    "- Instantiate a tokenizer and a model from the checkpoint name.\n",
    "- Add the T5 specific prefix “translate English to German: “\n",
    "- Use the PreTrainedModel.generate() method to perform the translation."
   ]
  },
  {
   "cell_type": "code",
   "execution_count": 18,
   "metadata": {},
   "outputs": [],
   "source": [
    "from transformers import AutoModelWithLMHead, AutoTokenizer\n",
    "\n",
    "model = AutoModelWithLMHead.from_pretrained(\"t5-base\")\n",
    "tokenizer = AutoTokenizer.from_pretrained(\"t5-base\")\n",
    "\n",
    "inputs = tokenizer.encode(\"translate English to German: Hugging Face is a technology company based in New York and Paris\", return_tensors=\"pt\")\n",
    "outputs = model.generate(inputs, max_length=40, num_beams=4, early_stopping=True)"
   ]
  },
  {
   "cell_type": "code",
   "execution_count": 19,
   "metadata": {},
   "outputs": [
    {
     "name": "stdout",
     "output_type": "stream",
     "text": [
      "<pad> Hugging Face ist ein Technologieunternehmen mit Sitz in New York und Paris.</s>\n"
     ]
    }
   ],
   "source": [
    "print(tokenizer.decode(outputs[0]))"
   ]
  },
  {
   "cell_type": "markdown",
   "metadata": {},
   "source": [
    "### GPT-2 ###"
   ]
  },
  {
   "cell_type": "code",
   "execution_count": 20,
   "metadata": {},
   "outputs": [
    {
     "name": "stderr",
     "output_type": "stream",
     "text": [
      "Setting `pad_token_id` to `eos_token_id`:50256 for open-end generation.\n"
     ]
    },
    {
     "data": {
      "text/plain": [
       "[{'generated_text': \"Hello, I'm a language model, I'm writing a new language for you. But first, I'd like to tell you about the language itself\"},\n",
       " {'generated_text': \"Hello, I'm a language model, and I'm trying to be as expressive as possible. In order to be expressive, it is necessary to know\"},\n",
       " {'generated_text': \"Hello, I'm a language model, so I don't get much of a license anymore, but I'm probably more familiar with other languages on that\"},\n",
       " {'generated_text': \"Hello, I'm a language model, a functional model... It's not me, it's me!\\n\\nI won't bore you with how\"},\n",
       " {'generated_text': \"Hello, I'm a language model, not an object model.\\n\\nIn a nutshell, I need to give language model a set of properties that\"}]"
      ]
     },
     "execution_count": 20,
     "metadata": {},
     "output_type": "execute_result"
    }
   ],
   "source": [
    "from transformers import pipeline, set_seed\n",
    "\n",
    "generator = pipeline('text-generation', model='gpt2')\n",
    "set_seed(42)\n",
    "generator(\"Hello, I'm a language model,\", max_length=30, num_return_sequences=5)"
   ]
  },
  {
   "cell_type": "code",
   "execution_count": 21,
   "metadata": {},
   "outputs": [],
   "source": [
    "from transformers import GPT2Tokenizer, GPT2Model, GPT2LMHeadModel\n",
    "\n",
    "tokenizer = GPT2Tokenizer.from_pretrained('gpt2')\n",
    "# model = GPT2Model.from_pretrained('gpt2', pad_token_id=tokenizer.eos_token_id)\n",
    "model = GPT2LMHeadModel.from_pretrained('gpt2', pad_token_id=tokenizer.eos_token_id)\n",
    "\n",
    "text = \"Replace me by any text you'd like.\"\n",
    "text = \"Water. Earth. Fire. Air. Long ago, the four nations lived together in harmony.\"\n",
    "encoded_input = tokenizer(text, return_tensors='pt')\n",
    "input_ids = encoded_input[\"input_ids\"]\n",
    "outputs = model.generate(input_ids, do_sample=True, top_k=50, max_length = 300, top_p=0.95, num_return_sequences=3)\n",
    "\n",
    "# output = model(**encoded_input)\n",
    "# print(type(output.logits))\n",
    "# print(tokenizer.decode(output))\n",
    "# generated = tokenizer.decode(output[0])[0:]\n",
    "# print(generated)"
   ]
  },
  {
   "cell_type": "code",
   "execution_count": 22,
   "metadata": {},
   "outputs": [
    {
     "name": "stdout",
     "output_type": "stream",
     "text": [
      "0: Water. Earth. Fire. Air. Long ago, the four nations lived together in harmony. The land was one in which, as we now know, there was no need for any kind of human interference in their daily lives. No more than there were now. This arrangement was broken by the treaty and the treaty's authors, who sought peace in times like these. In that context, we can clearly see why the peace treaty was signed.\n",
      "\n",
      "We can also see why the agreement was negotiated at every stage of its construction. A century before the treaty was signed, U.S. military forces, as well as the Europeans in Northern Europe, began working with one another in an effort to secure a common peace and the acceptance of international humanitarian law for the people of Afghanistan. These are not the same people today and in a world where the threat of terrorism has risen to unacceptable levels, it was necessary to see these efforts work in a positive light. It was only on March 1, 2012 that the United States and Britain signed a new, much more extensive, peace treaty that would provide a common peace and to end the Taliban insurgency in Afghanistan and the war on terror.\n",
      "\n",
      "The Obama Administration has no evidence of the president's intent to bring about peace on this matter. It is clear that he intended only to use force and be reckless in that endeavor. But this is how a president behaves when he acts in a manner that threatens the peace of the United States and other democracies around the\n",
      "\n",
      "\n",
      "1: Water. Earth. Fire. Air. Long ago, the four nations lived together in harmony. We've been to the moon once or twice in our lifetimes. Yet, when we die, we're not there to stay—a dead planet is buried. We are no longer alive for the same reason we were two centuries ago: it is buried to an everlasting doom. This is my only hope.\n",
      "\n",
      "When you were younger, you'd remember that you had all four of the planets you loved, then you'd become one, and then you'd die. And even then, I didn't even know how long each one of these four planets would be alive. It wasn't until two and a half thousand years ago that I began to remember that, like a young human, you were lost forever, and this planet is your last chance to find you.\n",
      "\n",
      "I don't want you to die.\n",
      "\n",
      "This planet's only surviving inhabitants are a collection of eight, named after the four planets in the universe called Tiamat, which means \"Earth.\" The planet they inhabit is not a living planet, and they are dead only of what they have eaten. It was in a world full of life in the past, and I thought that you had made it home. So, after two millennia of that, you came back.\n",
      "\n",
      "Earth had no food. It was too cold, and if you made it cold again, the planet will collapse, and that's how\n",
      "\n",
      "\n",
      "2: Water. Earth. Fire. Air. Long ago, the four nations lived together in harmony. Now, that harmony is broken.\n",
      "\n",
      "To understand the role that global warming will play in shaping our environmental future, one has to understand what is involved in global warming.\n",
      "\n",
      "\"Climate change is intimately associated with changes in how global temperatures are changing. Since 1850, natural cycles in Earth's atmosphere have increased exponentially as temperature increases,\" said Bruce Cogges, an atmospheric scientist at Arizona State University. \"This causes an increase in the ratio of heat and cold in the atmosphere, causing the Earth to become increasingly warm while also increasing the surface temperatures.\"\n",
      "\n",
      "The temperature-change link is also central to many parts of our global climate model. The planet's climate change process is known as \"manmade climate change,\" meaning that if we change our climate, the warming will result in significant decreases in water, snow and other carbon dioxide from the atmosphere, forcing us to move away from natural cycles.\n",
      "\n",
      "So what we do know is that climate change is happening. And that's exactly what we do know it will be for most of us. Climate change, however poorly understood, will continue to create a situation where people will live without food and water on average for around 90 years. That could affect nearly every living creature in the planet.\n",
      "\n",
      "Scientists at the National Center for Atmospheric Research and the U.S. Geological Survey estimate that approximately half of our natural ecosystems – or 1.\n",
      "\n",
      "\n"
     ]
    }
   ],
   "source": [
    "for i, sample_output in enumerate(outputs):\n",
    "    print(\"{}: {}\\n\\n\".format(i, tokenizer.decode(sample_output, skip_special_tokens=True)))"
   ]
  },
  {
   "cell_type": "markdown",
   "metadata": {},
   "source": [
    "# Lab assignment below"
   ]
  },
  {
   "cell_type": "markdown",
   "metadata": {},
   "source": [
    "download dataset from here: https://ai.stanford.edu/~amaas/data/sentiment/\n"
   ]
  },
  {
   "cell_type": "code",
   "execution_count": 23,
   "metadata": {},
   "outputs": [
    {
     "name": "stderr",
     "output_type": "stream",
     "text": [
      "<>:21: SyntaxWarning: \"is\" with a literal. Did you mean \"==\"?\n",
      "<>:21: SyntaxWarning: \"is\" with a literal. Did you mean \"==\"?\n",
      "Some weights of the model checkpoint at distilbert-base-uncased were not used when initializing DistilBertForSequenceClassification: ['vocab_transform.weight', 'vocab_projector.weight', 'vocab_layer_norm.bias', 'vocab_transform.bias', 'vocab_projector.bias', 'vocab_layer_norm.weight']\n",
      "- This IS expected if you are initializing DistilBertForSequenceClassification from the checkpoint of a model trained on another task or with another architecture (e.g. initializing a BertForSequenceClassification model from a BertForPreTraining model).\n",
      "- This IS NOT expected if you are initializing DistilBertForSequenceClassification from the checkpoint of a model that you expect to be exactly identical (initializing a BertForSequenceClassification model from a BertForSequenceClassification model).\n",
      "Some weights of DistilBertForSequenceClassification were not initialized from the model checkpoint at distilbert-base-uncased and are newly initialized: ['classifier.weight', 'pre_classifier.weight', 'pre_classifier.bias', 'classifier.bias']\n",
      "You should probably TRAIN this model on a down-stream task to be able to use it for predictions and inference.\n",
      "C:\\Users\\jason\\AppData\\Local\\Temp/ipykernel_14676/1652450946.py:21: SyntaxWarning: \"is\" with a literal. Did you mean \"==\"?\n",
      "  labels.append(0 if label_dir is \"neg\" else 1)\n",
      "***** Running training *****\n",
      "  Num examples = 18750\n",
      "  Num Epochs = 1\n",
      "  Instantaneous batch size per device = 16\n",
      "  Total train batch size (w. parallel, distributed & accumulation) = 16\n",
      "  Gradient Accumulation steps = 1\n",
      "  Total optimization steps = 1172\n"
     ]
    },
    {
     "data": {
      "text/html": [
       "\n",
       "    <div>\n",
       "      \n",
       "      <progress value='1172' max='1172' style='width:300px; height:20px; vertical-align: middle;'></progress>\n",
       "      [1172/1172 03:03, Epoch 1/1]\n",
       "    </div>\n",
       "    <table border=\"1\" class=\"dataframe\">\n",
       "  <thead>\n",
       "    <tr style=\"text-align: left;\">\n",
       "      <th>Step</th>\n",
       "      <th>Training Loss</th>\n",
       "    </tr>\n",
       "  </thead>\n",
       "  <tbody>\n",
       "    <tr>\n",
       "      <td>20</td>\n",
       "      <td>0.688300</td>\n",
       "    </tr>\n",
       "    <tr>\n",
       "      <td>40</td>\n",
       "      <td>0.690700</td>\n",
       "    </tr>\n",
       "    <tr>\n",
       "      <td>60</td>\n",
       "      <td>0.690100</td>\n",
       "    </tr>\n",
       "    <tr>\n",
       "      <td>80</td>\n",
       "      <td>0.675600</td>\n",
       "    </tr>\n",
       "    <tr>\n",
       "      <td>100</td>\n",
       "      <td>0.632100</td>\n",
       "    </tr>\n",
       "    <tr>\n",
       "      <td>120</td>\n",
       "      <td>0.532700</td>\n",
       "    </tr>\n",
       "    <tr>\n",
       "      <td>140</td>\n",
       "      <td>0.466500</td>\n",
       "    </tr>\n",
       "    <tr>\n",
       "      <td>160</td>\n",
       "      <td>0.416400</td>\n",
       "    </tr>\n",
       "    <tr>\n",
       "      <td>180</td>\n",
       "      <td>0.492600</td>\n",
       "    </tr>\n",
       "    <tr>\n",
       "      <td>200</td>\n",
       "      <td>0.433500</td>\n",
       "    </tr>\n",
       "    <tr>\n",
       "      <td>220</td>\n",
       "      <td>0.426000</td>\n",
       "    </tr>\n",
       "    <tr>\n",
       "      <td>240</td>\n",
       "      <td>0.463000</td>\n",
       "    </tr>\n",
       "    <tr>\n",
       "      <td>260</td>\n",
       "      <td>0.424300</td>\n",
       "    </tr>\n",
       "    <tr>\n",
       "      <td>280</td>\n",
       "      <td>0.457900</td>\n",
       "    </tr>\n",
       "    <tr>\n",
       "      <td>300</td>\n",
       "      <td>0.465900</td>\n",
       "    </tr>\n",
       "    <tr>\n",
       "      <td>320</td>\n",
       "      <td>0.408300</td>\n",
       "    </tr>\n",
       "    <tr>\n",
       "      <td>340</td>\n",
       "      <td>0.477300</td>\n",
       "    </tr>\n",
       "    <tr>\n",
       "      <td>360</td>\n",
       "      <td>0.366700</td>\n",
       "    </tr>\n",
       "    <tr>\n",
       "      <td>380</td>\n",
       "      <td>0.353900</td>\n",
       "    </tr>\n",
       "    <tr>\n",
       "      <td>400</td>\n",
       "      <td>0.415600</td>\n",
       "    </tr>\n",
       "    <tr>\n",
       "      <td>420</td>\n",
       "      <td>0.326000</td>\n",
       "    </tr>\n",
       "    <tr>\n",
       "      <td>440</td>\n",
       "      <td>0.364000</td>\n",
       "    </tr>\n",
       "    <tr>\n",
       "      <td>460</td>\n",
       "      <td>0.381700</td>\n",
       "    </tr>\n",
       "    <tr>\n",
       "      <td>480</td>\n",
       "      <td>0.428100</td>\n",
       "    </tr>\n",
       "    <tr>\n",
       "      <td>500</td>\n",
       "      <td>0.466200</td>\n",
       "    </tr>\n",
       "    <tr>\n",
       "      <td>520</td>\n",
       "      <td>0.468900</td>\n",
       "    </tr>\n",
       "    <tr>\n",
       "      <td>540</td>\n",
       "      <td>0.438700</td>\n",
       "    </tr>\n",
       "    <tr>\n",
       "      <td>560</td>\n",
       "      <td>0.415900</td>\n",
       "    </tr>\n",
       "    <tr>\n",
       "      <td>580</td>\n",
       "      <td>0.399000</td>\n",
       "    </tr>\n",
       "    <tr>\n",
       "      <td>600</td>\n",
       "      <td>0.325900</td>\n",
       "    </tr>\n",
       "    <tr>\n",
       "      <td>620</td>\n",
       "      <td>0.351800</td>\n",
       "    </tr>\n",
       "    <tr>\n",
       "      <td>640</td>\n",
       "      <td>0.414100</td>\n",
       "    </tr>\n",
       "    <tr>\n",
       "      <td>660</td>\n",
       "      <td>0.384400</td>\n",
       "    </tr>\n",
       "    <tr>\n",
       "      <td>680</td>\n",
       "      <td>0.379100</td>\n",
       "    </tr>\n",
       "    <tr>\n",
       "      <td>700</td>\n",
       "      <td>0.366200</td>\n",
       "    </tr>\n",
       "    <tr>\n",
       "      <td>720</td>\n",
       "      <td>0.357700</td>\n",
       "    </tr>\n",
       "    <tr>\n",
       "      <td>740</td>\n",
       "      <td>0.302700</td>\n",
       "    </tr>\n",
       "    <tr>\n",
       "      <td>760</td>\n",
       "      <td>0.334600</td>\n",
       "    </tr>\n",
       "    <tr>\n",
       "      <td>780</td>\n",
       "      <td>0.382000</td>\n",
       "    </tr>\n",
       "    <tr>\n",
       "      <td>800</td>\n",
       "      <td>0.382800</td>\n",
       "    </tr>\n",
       "    <tr>\n",
       "      <td>820</td>\n",
       "      <td>0.376500</td>\n",
       "    </tr>\n",
       "    <tr>\n",
       "      <td>840</td>\n",
       "      <td>0.315600</td>\n",
       "    </tr>\n",
       "    <tr>\n",
       "      <td>860</td>\n",
       "      <td>0.354400</td>\n",
       "    </tr>\n",
       "    <tr>\n",
       "      <td>880</td>\n",
       "      <td>0.369200</td>\n",
       "    </tr>\n",
       "    <tr>\n",
       "      <td>900</td>\n",
       "      <td>0.358400</td>\n",
       "    </tr>\n",
       "    <tr>\n",
       "      <td>920</td>\n",
       "      <td>0.427300</td>\n",
       "    </tr>\n",
       "    <tr>\n",
       "      <td>940</td>\n",
       "      <td>0.350600</td>\n",
       "    </tr>\n",
       "    <tr>\n",
       "      <td>960</td>\n",
       "      <td>0.370400</td>\n",
       "    </tr>\n",
       "    <tr>\n",
       "      <td>980</td>\n",
       "      <td>0.318000</td>\n",
       "    </tr>\n",
       "    <tr>\n",
       "      <td>1000</td>\n",
       "      <td>0.388700</td>\n",
       "    </tr>\n",
       "    <tr>\n",
       "      <td>1020</td>\n",
       "      <td>0.356400</td>\n",
       "    </tr>\n",
       "    <tr>\n",
       "      <td>1040</td>\n",
       "      <td>0.400500</td>\n",
       "    </tr>\n",
       "    <tr>\n",
       "      <td>1060</td>\n",
       "      <td>0.283400</td>\n",
       "    </tr>\n",
       "    <tr>\n",
       "      <td>1080</td>\n",
       "      <td>0.342000</td>\n",
       "    </tr>\n",
       "    <tr>\n",
       "      <td>1100</td>\n",
       "      <td>0.323600</td>\n",
       "    </tr>\n",
       "    <tr>\n",
       "      <td>1120</td>\n",
       "      <td>0.374200</td>\n",
       "    </tr>\n",
       "    <tr>\n",
       "      <td>1140</td>\n",
       "      <td>0.375200</td>\n",
       "    </tr>\n",
       "    <tr>\n",
       "      <td>1160</td>\n",
       "      <td>0.336300</td>\n",
       "    </tr>\n",
       "  </tbody>\n",
       "</table><p>"
      ],
      "text/plain": [
       "<IPython.core.display.HTML object>"
      ]
     },
     "metadata": {},
     "output_type": "display_data"
    },
    {
     "name": "stderr",
     "output_type": "stream",
     "text": [
      "Saving model checkpoint to ./results\\checkpoint-500\n",
      "Configuration saved in ./results\\checkpoint-500\\config.json\n",
      "Model weights saved in ./results\\checkpoint-500\\pytorch_model.bin\n",
      "Saving model checkpoint to ./results\\checkpoint-1000\n",
      "Configuration saved in ./results\\checkpoint-1000\\config.json\n",
      "Model weights saved in ./results\\checkpoint-1000\\pytorch_model.bin\n",
      "\n",
      "\n",
      "Training completed. Do not forget to share your model on huggingface.co/models =)\n",
      "\n",
      "\n",
      "***** Running Evaluation *****\n",
      "  Num examples = 25000\n",
      "  Batch size = 64\n"
     ]
    },
    {
     "data": {
      "text/html": [
       "\n",
       "    <div>\n",
       "      \n",
       "      <progress value='391' max='391' style='width:300px; height:20px; vertical-align: middle;'></progress>\n",
       "      [391/391 00:58]\n",
       "    </div>\n",
       "    "
      ],
      "text/plain": [
       "<IPython.core.display.HTML object>"
      ]
     },
     "metadata": {},
     "output_type": "display_data"
    },
    {
     "data": {
      "text/plain": [
       "{'eval_loss': 0.24788980185985565,\n",
       " 'eval_runtime': 58.4959,\n",
       " 'eval_samples_per_second': 427.381,\n",
       " 'eval_steps_per_second': 6.684,\n",
       " 'epoch': 1.0}"
      ]
     },
     "execution_count": 23,
     "metadata": {},
     "output_type": "execute_result"
    }
   ],
   "source": [
    "from pathlib import Path\n",
    "from sklearn.model_selection import train_test_split\n",
    "import torch\n",
    "from transformers import Trainer, TrainingArguments\n",
    "from transformers import AutoTokenizer, AutoModelForSequenceClassification\n",
    "from transformers import DistilBertTokenizerFast\n",
    "import torch\n",
    "from transformers import DistilBertForSequenceClassification, Trainer, TrainingArguments\n",
    "\n",
    "tokenizer = DistilBertTokenizerFast.from_pretrained('distilbert-base-uncased')\n",
    "model = DistilBertForSequenceClassification.from_pretrained(\"distilbert-base-uncased\")\n",
    "\n",
    "\n",
    "def read_imdb_split(split_dir):\n",
    "    split_dir = Path(split_dir)\n",
    "    texts = []\n",
    "    labels = []\n",
    "    for label_dir in [\"pos\", \"neg\"]:\n",
    "        for text_file in (split_dir/label_dir).iterdir():\n",
    "            texts.append(text_file.read_text(encoding=\"utf-8\"))\n",
    "            labels.append(0 if label_dir is \"neg\" else 1)\n",
    "    return texts, labels\n",
    "\n",
    "#Split the dataset into training, testing, and validation\n",
    "train_texts, train_labels = read_imdb_split('C:/Users/jason/Python/Jason/Done/2-language-models-lab/data/aclImdb/test')\n",
    "test_texts, test_labels = read_imdb_split('C:/Users/jason/Python/Jason/Done/2-language-models-lab/data/aclImdb/test')\n",
    "train_texts, val_texts, train_labels, val_labels = train_test_split(train_texts, train_labels, test_size=.25)\n",
    "\n",
    "\n",
    "train_encodings = tokenizer(train_texts, truncation=True, padding=True, max_length=100, verbose=False)\n",
    "val_encodings = tokenizer(val_texts, truncation=True, padding=True, max_length=100, verbose=False)\n",
    "test_encodings = tokenizer(test_texts, truncation=True, padding=True, max_length=100, verbose=False)\n",
    "\n",
    "\n",
    "\n",
    "class IMDbDataset(torch.utils.data.Dataset):\n",
    "    def __init__(self, encodings, labels):\n",
    "        self.encodings = encodings\n",
    "        self.labels = labels\n",
    "\n",
    "    def __getitem__(self, idx):\n",
    "        item = {key: torch.tensor(val[idx]) for key, val in self.encodings.items()}\n",
    "        item['labels'] = torch.tensor(self.labels[idx])\n",
    "        return item\n",
    "\n",
    "    def __len__(self):\n",
    "        return len(self.labels)\n",
    "\n",
    "train_dataset = IMDbDataset(train_encodings, train_labels)\n",
    "val_dataset = IMDbDataset(val_encodings, val_labels)\n",
    "test_dataset = IMDbDataset(test_encodings, test_labels)\n",
    "\n",
    "\n",
    "training_args = TrainingArguments(\n",
    "    output_dir='./results',          # output directory\n",
    "    num_train_epochs=1,              # total number of training epochs\n",
    "    per_device_train_batch_size=16,  # batch size per device during training\n",
    "    per_device_eval_batch_size=64,   # batch size for evaluation\n",
    "    warmup_steps=500,                # number of warmup steps for learning rate scheduler\n",
    "    weight_decay=0.01,               # strength of weight decay\n",
    "    logging_dir='./logs',            # directory for storing logs\n",
    "    logging_steps=20,\n",
    ")\n",
    "\n",
    "trainer = Trainer(\n",
    "    model=model,\n",
    "    args=training_args,\n",
    "    train_dataset=train_dataset,\n",
    "    eval_dataset=test_dataset\n",
    ")\n",
    "\n",
    "trainer.train()\n",
    "trainer.evaluate()"
   ]
  },
  {
   "cell_type": "code",
   "execution_count": 24,
   "metadata": {},
   "outputs": [],
   "source": [
    "#trainer.save_model(\"saved_model\")"
   ]
  },
  {
   "cell_type": "code",
   "execution_count": 29,
   "metadata": {},
   "outputs": [
    {
     "name": "stderr",
     "output_type": "stream",
     "text": [
      "No `TrainingArguments` passed, using `output_dir=tmp_trainer`.\n",
      "PyTorch: setting up devices\n",
      "The default value for the training argument `--report_to` will change in v5 (from all installed integrations to none). In v5, you will need to use `--report_to all` to get the same behavior as now. You should start updating your code and make this info disappear :-).\n",
      "***** Running Prediction *****\n",
      "  Num examples = 25000\n",
      "  Batch size = 8\n"
     ]
    },
    {
     "data": {
      "text/html": [
       "\n",
       "    <div>\n",
       "      \n",
       "      <progress value='3125' max='3125' style='width:300px; height:20px; vertical-align: middle;'></progress>\n",
       "      [3125/3125 01:17]\n",
       "    </div>\n",
       "    "
      ],
      "text/plain": [
       "<IPython.core.display.HTML object>"
      ]
     },
     "metadata": {},
     "output_type": "display_data"
    },
    {
     "name": "stdout",
     "output_type": "stream",
     "text": [
      "[1 1 1 ... 0 0 0]\n"
     ]
    }
   ],
   "source": [
    "import numpy as np\n",
    "\"\"\"\n",
    "test_trainer = Trainer(model)\n",
    "# Make prediction\n",
    "raw_pred, _, _ = test_trainer.predict(test_dataset)\n",
    "\n",
    "# Preprocess raw predictions\n",
    "y_pred = np.argmax(raw_pred, axis=1)\n",
    "print(y_pred)\n",
    "\"\"\""
   ]
  },
  {
   "cell_type": "code",
   "execution_count": 30,
   "metadata": {},
   "outputs": [
    {
     "name": "stdout",
     "output_type": "stream",
     "text": [
      "['pos' 'pos' 'pos' ... 'neg' 'neg' 'neg']\n"
     ]
    }
   ],
   "source": [
    "# Translate 1's and 0's to negative/positive reviews.\n",
    "\"\"\"\n",
    "preds = y_pred\n",
    "preds = np.where(preds, 'pos', 'neg')\n",
    "print(preds)\n",
    "\"\"\""
   ]
  },
  {
   "cell_type": "markdown",
   "metadata": {},
   "source": [
    "Train with native PyTorch. Below has been commented out due to taking too long time.\n",
    "Optimized with AdamW. Huggingface's own optimizer ( https://arxiv.org/abs/1711.05101 )"
   ]
  },
  {
   "cell_type": "code",
   "execution_count": 27,
   "metadata": {},
   "outputs": [
    {
     "data": {
      "text/plain": [
       "\"from torch.utils.data import DataLoader\\nfrom transformers import AdamW\\ndevice = torch.device('cuda') if torch.cuda.is_available() else torch.device('cpu')\\n\\nmodel = DistilBertForSequenceClassification.from_pretrained('distilbert-base-uncased')\\nmodel.to(device)\\nmodel.train()\\n\\ntrain_loader = DataLoader(train_dataset, batch_size=16, shuffle=True)\\n\\noptim = AdamW(model.parameters(), lr=5e-5)\\n\\nfor epoch in range(3):\\n    for batch in train_loader:\\n        optim.zero_grad()\\n        input_ids = batch['input_ids'].to(device)\\n        attention_mask = batch['attention_mask'].to(device)\\n        labels = batch['labels'].to(device)\\n        outputs = model(input_ids, attention_mask=attention_mask, labels=labels)\\n        loss = outputs[0]\\n        loss.backward()\\n        optim.step()\\n\\nmodel.eval()\\n\""
      ]
     },
     "execution_count": 27,
     "metadata": {},
     "output_type": "execute_result"
    }
   ],
   "source": [
    "\"\"\"from torch.utils.data import DataLoader\n",
    "from transformers import AdamW\n",
    "device = torch.device('cuda') if torch.cuda.is_available() else torch.device('cpu')\n",
    "\n",
    "model = DistilBertForSequenceClassification.from_pretrained('distilbert-base-uncased')\n",
    "model.to(device)\n",
    "model.train()\n",
    "\n",
    "train_loader = DataLoader(train_dataset, batch_size=16, shuffle=True)\n",
    "\n",
    "optim = AdamW(model.parameters(), lr=5e-5)\n",
    "\n",
    "for epoch in range(3):\n",
    "    for batch in train_loader:\n",
    "        optim.zero_grad()\n",
    "        input_ids = batch['input_ids'].to(device)\n",
    "        attention_mask = batch['attention_mask'].to(device)\n",
    "        labels = batch['labels'].to(device)\n",
    "        outputs = model(input_ids, attention_mask=attention_mask, labels=labels)\n",
    "        loss = outputs[0]\n",
    "        loss.backward()\n",
    "        optim.step()\n",
    "\n",
    "model.eval()\n",
    "\"\"\""
   ]
  },
  {
   "cell_type": "markdown",
   "metadata": {},
   "source": [
    "Output from model.eval()"
   ]
  },
  {
   "cell_type": "code",
   "execution_count": 28,
   "metadata": {},
   "outputs": [
    {
     "data": {
      "text/plain": [
       "'DistilBertForSequenceClassification(\\n  (distilbert): DistilBertModel(\\n    (embeddings): Embeddings(\\n      (word_embeddings): Embedding(30522, 768, padding_idx=0)\\n      (position_embeddings): Embedding(512, 768)\\n      (LayerNorm): LayerNorm((768,), eps=1e-12, elementwise_affine=True)\\n      (dropout): Dropout(p=0.1, inplace=False)\\n    )\\n    (transformer): Transformer(\\n      (layer): ModuleList(\\n        (0): TransformerBlock(\\n          (attention): MultiHeadSelfAttention(\\n            (dropout): Dropout(p=0.1, inplace=False)\\n            (q_lin): Linear(in_features=768, out_features=768, bias=True)\\n            (k_lin): Linear(in_features=768, out_features=768, bias=True)\\n            (v_lin): Linear(in_features=768, out_features=768, bias=True)\\n            (out_lin): Linear(in_features=768, out_features=768, bias=True)\\n          )\\n          (sa_layer_norm): LayerNorm((768,), eps=1e-12, elementwise_affine=True)\\n          (ffn): FFN(\\n            (dropout): Dropout(p=0.1, inplace=False)\\n            (lin1): Linear(in_features=768, out_features=3072, bias=True)\\n            (lin2): Linear(in_features=3072, out_features=768, bias=True)\\n          )\\n          (output_layer_norm): LayerNorm((768,), eps=1e-12, elementwise_affine=True)\\n        )\\n        (1): TransformerBlock(\\n          (attention): MultiHeadSelfAttention(\\n            (dropout): Dropout(p=0.1, inplace=False)\\n            (q_lin): Linear(in_features=768, out_features=768, bias=True)\\n            (k_lin): Linear(in_features=768, out_features=768, bias=True)\\n            (v_lin): Linear(in_features=768, out_features=768, bias=True)\\n            (out_lin): Linear(in_features=768, out_features=768, bias=True)\\n          )\\n          (sa_layer_norm): LayerNorm((768,), eps=1e-12, elementwise_affine=True)\\n          (ffn): FFN(\\n            (dropout): Dropout(p=0.1, inplace=False)\\n            (lin1): Linear(in_features=768, out_features=3072, bias=True)\\n            (lin2): Linear(in_features=3072, out_features=768, bias=True)\\n          )\\n          (output_layer_norm): LayerNorm((768,), eps=1e-12, elementwise_affine=True)\\n        )\\n        (2): TransformerBlock(\\n          (attention): MultiHeadSelfAttention(\\n            (dropout): Dropout(p=0.1, inplace=False)\\n            (q_lin): Linear(in_features=768, out_features=768, bias=True)\\n            (k_lin): Linear(in_features=768, out_features=768, bias=True)\\n            (v_lin): Linear(in_features=768, out_features=768, bias=True)\\n            (out_lin): Linear(in_features=768, out_features=768, bias=True)\\n          )\\n          (sa_layer_norm): LayerNorm((768,), eps=1e-12, elementwise_affine=True)\\n          (ffn): FFN(\\n            (dropout): Dropout(p=0.1, inplace=False)\\n            (lin1): Linear(in_features=768, out_features=3072, bias=True)\\n            (lin2): Linear(in_features=3072, out_features=768, bias=True)\\n          )\\n          (output_layer_norm): LayerNorm((768,), eps=1e-12, elementwise_affine=True)\\n        )\\n        (3): TransformerBlock(\\n          (attention): MultiHeadSelfAttention(\\n            (dropout): Dropout(p=0.1, inplace=False)\\n            (q_lin): Linear(in_features=768, out_features=768, bias=True)\\n            (k_lin): Linear(in_features=768, out_features=768, bias=True)\\n            (v_lin): Linear(in_features=768, out_features=768, bias=True)\\n            (out_lin): Linear(in_features=768, out_features=768, bias=True)\\n          )\\n          (sa_layer_norm): LayerNorm((768,), eps=1e-12, elementwise_affine=True)\\n          (ffn): FFN(\\n            (dropout): Dropout(p=0.1, inplace=False)\\n            (lin1): Linear(in_features=768, out_features=3072, bias=True)\\n            (lin2): Linear(in_features=3072, out_features=768, bias=True)\\n          )\\n          (output_layer_norm): LayerNorm((768,), eps=1e-12, elementwise_affine=True)\\n        )\\n        (4): TransformerBlock(\\n          (attention): MultiHeadSelfAttention(\\n            (dropout): Dropout(p=0.1, inplace=False)\\n            (q_lin): Linear(in_features=768, out_features=768, bias=True)\\n            (k_lin): Linear(in_features=768, out_features=768, bias=True)\\n            (v_lin): Linear(in_features=768, out_features=768, bias=True)\\n            (out_lin): Linear(in_features=768, out_features=768, bias=True)\\n          )\\n          (sa_layer_norm): LayerNorm((768,), eps=1e-12, elementwise_affine=True)\\n          (ffn): FFN(\\n            (dropout): Dropout(p=0.1, inplace=False)\\n            (lin1): Linear(in_features=768, out_features=3072, bias=True)\\n            (lin2): Linear(in_features=3072, out_features=768, bias=True)\\n          )\\n          (output_layer_norm): LayerNorm((768,), eps=1e-12, elementwise_affine=True)\\n        )\\n        (5): TransformerBlock(\\n          (attention): MultiHeadSelfAttention(\\n            (dropout): Dropout(p=0.1, inplace=False)\\n            (q_lin): Linear(in_features=768, out_features=768, bias=True)\\n            (k_lin): Linear(in_features=768, out_features=768, bias=True)\\n            (v_lin): Linear(in_features=768, out_features=768, bias=True)\\n            (out_lin): Linear(in_features=768, out_features=768, bias=True)\\n          )\\n          (sa_layer_norm): LayerNorm((768,), eps=1e-12, elementwise_affine=True)\\n          (ffn): FFN(\\n            (dropout): Dropout(p=0.1, inplace=False)\\n            (lin1): Linear(in_features=768, out_features=3072, bias=True)\\n            (lin2): Linear(in_features=3072, out_features=768, bias=True)\\n          )\\n          (output_layer_norm): LayerNorm((768,), eps=1e-12, elementwise_affine=True)\\n        )\\n      )\\n    )\\n  )\\n  (pre_classifier): Linear(in_features=768, out_features=768, bias=True)\\n  (classifier): Linear(in_features=768, out_features=2, bias=True)\\n  (dropout): Dropout(p=0.2, inplace=False)\\n)\\n\\u200b'"
      ]
     },
     "execution_count": 28,
     "metadata": {},
     "output_type": "execute_result"
    }
   ],
   "source": [
    "\"\"\"DistilBertForSequenceClassification(\n",
    "  (distilbert): DistilBertModel(\n",
    "    (embeddings): Embeddings(\n",
    "      (word_embeddings): Embedding(30522, 768, padding_idx=0)\n",
    "      (position_embeddings): Embedding(512, 768)\n",
    "      (LayerNorm): LayerNorm((768,), eps=1e-12, elementwise_affine=True)\n",
    "      (dropout): Dropout(p=0.1, inplace=False)\n",
    "    )\n",
    "    (transformer): Transformer(\n",
    "      (layer): ModuleList(\n",
    "        (0): TransformerBlock(\n",
    "          (attention): MultiHeadSelfAttention(\n",
    "            (dropout): Dropout(p=0.1, inplace=False)\n",
    "            (q_lin): Linear(in_features=768, out_features=768, bias=True)\n",
    "            (k_lin): Linear(in_features=768, out_features=768, bias=True)\n",
    "            (v_lin): Linear(in_features=768, out_features=768, bias=True)\n",
    "            (out_lin): Linear(in_features=768, out_features=768, bias=True)\n",
    "          )\n",
    "          (sa_layer_norm): LayerNorm((768,), eps=1e-12, elementwise_affine=True)\n",
    "          (ffn): FFN(\n",
    "            (dropout): Dropout(p=0.1, inplace=False)\n",
    "            (lin1): Linear(in_features=768, out_features=3072, bias=True)\n",
    "            (lin2): Linear(in_features=3072, out_features=768, bias=True)\n",
    "          )\n",
    "          (output_layer_norm): LayerNorm((768,), eps=1e-12, elementwise_affine=True)\n",
    "        )\n",
    "        (1): TransformerBlock(\n",
    "          (attention): MultiHeadSelfAttention(\n",
    "            (dropout): Dropout(p=0.1, inplace=False)\n",
    "            (q_lin): Linear(in_features=768, out_features=768, bias=True)\n",
    "            (k_lin): Linear(in_features=768, out_features=768, bias=True)\n",
    "            (v_lin): Linear(in_features=768, out_features=768, bias=True)\n",
    "            (out_lin): Linear(in_features=768, out_features=768, bias=True)\n",
    "          )\n",
    "          (sa_layer_norm): LayerNorm((768,), eps=1e-12, elementwise_affine=True)\n",
    "          (ffn): FFN(\n",
    "            (dropout): Dropout(p=0.1, inplace=False)\n",
    "            (lin1): Linear(in_features=768, out_features=3072, bias=True)\n",
    "            (lin2): Linear(in_features=3072, out_features=768, bias=True)\n",
    "          )\n",
    "          (output_layer_norm): LayerNorm((768,), eps=1e-12, elementwise_affine=True)\n",
    "        )\n",
    "        (2): TransformerBlock(\n",
    "          (attention): MultiHeadSelfAttention(\n",
    "            (dropout): Dropout(p=0.1, inplace=False)\n",
    "            (q_lin): Linear(in_features=768, out_features=768, bias=True)\n",
    "            (k_lin): Linear(in_features=768, out_features=768, bias=True)\n",
    "            (v_lin): Linear(in_features=768, out_features=768, bias=True)\n",
    "            (out_lin): Linear(in_features=768, out_features=768, bias=True)\n",
    "          )\n",
    "          (sa_layer_norm): LayerNorm((768,), eps=1e-12, elementwise_affine=True)\n",
    "          (ffn): FFN(\n",
    "            (dropout): Dropout(p=0.1, inplace=False)\n",
    "            (lin1): Linear(in_features=768, out_features=3072, bias=True)\n",
    "            (lin2): Linear(in_features=3072, out_features=768, bias=True)\n",
    "          )\n",
    "          (output_layer_norm): LayerNorm((768,), eps=1e-12, elementwise_affine=True)\n",
    "        )\n",
    "        (3): TransformerBlock(\n",
    "          (attention): MultiHeadSelfAttention(\n",
    "            (dropout): Dropout(p=0.1, inplace=False)\n",
    "            (q_lin): Linear(in_features=768, out_features=768, bias=True)\n",
    "            (k_lin): Linear(in_features=768, out_features=768, bias=True)\n",
    "            (v_lin): Linear(in_features=768, out_features=768, bias=True)\n",
    "            (out_lin): Linear(in_features=768, out_features=768, bias=True)\n",
    "          )\n",
    "          (sa_layer_norm): LayerNorm((768,), eps=1e-12, elementwise_affine=True)\n",
    "          (ffn): FFN(\n",
    "            (dropout): Dropout(p=0.1, inplace=False)\n",
    "            (lin1): Linear(in_features=768, out_features=3072, bias=True)\n",
    "            (lin2): Linear(in_features=3072, out_features=768, bias=True)\n",
    "          )\n",
    "          (output_layer_norm): LayerNorm((768,), eps=1e-12, elementwise_affine=True)\n",
    "        )\n",
    "        (4): TransformerBlock(\n",
    "          (attention): MultiHeadSelfAttention(\n",
    "            (dropout): Dropout(p=0.1, inplace=False)\n",
    "            (q_lin): Linear(in_features=768, out_features=768, bias=True)\n",
    "            (k_lin): Linear(in_features=768, out_features=768, bias=True)\n",
    "            (v_lin): Linear(in_features=768, out_features=768, bias=True)\n",
    "            (out_lin): Linear(in_features=768, out_features=768, bias=True)\n",
    "          )\n",
    "          (sa_layer_norm): LayerNorm((768,), eps=1e-12, elementwise_affine=True)\n",
    "          (ffn): FFN(\n",
    "            (dropout): Dropout(p=0.1, inplace=False)\n",
    "            (lin1): Linear(in_features=768, out_features=3072, bias=True)\n",
    "            (lin2): Linear(in_features=3072, out_features=768, bias=True)\n",
    "          )\n",
    "          (output_layer_norm): LayerNorm((768,), eps=1e-12, elementwise_affine=True)\n",
    "        )\n",
    "        (5): TransformerBlock(\n",
    "          (attention): MultiHeadSelfAttention(\n",
    "            (dropout): Dropout(p=0.1, inplace=False)\n",
    "            (q_lin): Linear(in_features=768, out_features=768, bias=True)\n",
    "            (k_lin): Linear(in_features=768, out_features=768, bias=True)\n",
    "            (v_lin): Linear(in_features=768, out_features=768, bias=True)\n",
    "            (out_lin): Linear(in_features=768, out_features=768, bias=True)\n",
    "          )\n",
    "          (sa_layer_norm): LayerNorm((768,), eps=1e-12, elementwise_affine=True)\n",
    "          (ffn): FFN(\n",
    "            (dropout): Dropout(p=0.1, inplace=False)\n",
    "            (lin1): Linear(in_features=768, out_features=3072, bias=True)\n",
    "            (lin2): Linear(in_features=3072, out_features=768, bias=True)\n",
    "          )\n",
    "          (output_layer_norm): LayerNorm((768,), eps=1e-12, elementwise_affine=True)\n",
    "        )\n",
    "      )\n",
    "    )\n",
    "  )\n",
    "  (pre_classifier): Linear(in_features=768, out_features=768, bias=True)\n",
    "  (classifier): Linear(in_features=768, out_features=2, bias=True)\n",
    "  (dropout): Dropout(p=0.2, inplace=False)\n",
    ")\n",
    "​\"\"\""
   ]
  }
 ],
 "metadata": {
  "kernelspec": {
   "display_name": "Python [conda env:AMLdl] *",
   "language": "python",
   "name": "conda-env-AMLdl-py"
  },
  "language_info": {
   "codemirror_mode": {
    "name": "ipython",
    "version": 3
   },
   "file_extension": ".py",
   "mimetype": "text/x-python",
   "name": "python",
   "nbconvert_exporter": "python",
   "pygments_lexer": "ipython3",
   "version": "3.8.5"
  }
 },
 "nbformat": 4,
 "nbformat_minor": 4
}
