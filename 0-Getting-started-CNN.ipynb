{
 "cells": [
  {
   "cell_type": "markdown",
   "metadata": {},
   "source": [
    "## Computer Vision Lab ##\n",
    "\n",
    "Through these notebooks, we will explore different important techniques, approaches, and uses of deep learning (especially Convolutional Neural Networks) for addressing computer vision labs.\n",
    "\n",
    "We will explore the following:\n",
    "\n",
    "- How to create a CNN to classify digits using MNIST dataset\n",
    "- Use transfer learning concepts to fine-tune pretrained models included in Pytorch\n",
    "- Different visualization techniques\n",
    "- Semantic segmentation"
   ]
  },
  {
   "cell_type": "markdown",
   "metadata": {},
   "source": [
    "### Assignments ###\n",
    "\n",
    "#### Mandatory: ####\n",
    "\n",
    "- Compare CNN with an MLP\n",
    "- Calculate, plot, analyse, and compare different metrics \n",
    "    - Loss, Accuracy, Precision, Recall, F1-score (when possible) --> Precision, recall, and F1-score are normally used in binary classification\n",
    "- Fine-tune pretrained models:\n",
    "    - by freezing weights\n",
    "    - reconstructing the layers\n",
    "- Data augmentation and pre-process\n",
    "    - For example dataset (bees and ants)\n",
    "    - For image (mario level)\n",
    "    \n",
    "#### Advanced: ####\n",
    "\n",
    "- Segmentation:\n",
    "    - Use Mask R-CNN (or other type of network) to do instance segmentation \n",
    "- CNN Visualization\n",
    "    - Apply occlusion to gather heatmap\n",
    "    - Do either:\n",
    "        - Visualize through Saliency maps (vanilla backpropagation saliency, or Grad-CAM, or Score-CAM)\n",
    "        - **OR**\n",
    "        - Visualize a pre-trained model with Deconvnets\n",
    "        \n",
    "#### Optional/if wanted: ####\n",
    "- Apply CNN to video data "
   ]
  },
  {
   "cell_type": "code",
   "execution_count": 1,
   "metadata": {},
   "outputs": [],
   "source": [
    "import torch\n",
    "import torch.nn as nn\n",
    "import torch.nn.functional as F\n",
    "import torch.optim as optim\n",
    "from torchvision import datasets, transforms\n",
    "import matplotlib.pyplot as plt\n",
    "import numpy as np"
   ]
  },
  {
   "cell_type": "code",
   "execution_count": 2,
   "metadata": {},
   "outputs": [
    {
     "data": {
      "text/plain": [
       "device(type='cuda', index=0)"
      ]
     },
     "execution_count": 2,
     "metadata": {},
     "output_type": "execute_result"
    }
   ],
   "source": [
    "device = torch.device(\"cuda:0\" if torch.cuda.is_available() else \"cpu\")\n",
    "device"
   ]
  },
  {
   "cell_type": "markdown",
   "metadata": {},
   "source": [
    "# Load the Dataset (MNIST)\n",
    "\n",
    "We will use the pytorch dataset and dataloader as seen in the previous lab. We will apply some needed transformation to the data"
   ]
  },
  {
   "cell_type": "code",
   "execution_count": 3,
   "metadata": {},
   "outputs": [],
   "source": [
    "input_size  = 28*28   # images are 28x28 pixels\n",
    "output_size = 10      # there are 10 classes (0 to 9)\n",
    "\n",
    "train_loader = torch.utils.data.DataLoader(\n",
    "    datasets.MNIST('../data', train=True, download=True,\n",
    "                   transform=transforms.Compose([\n",
    "                       transforms.ToTensor(),\n",
    "                       transforms.Normalize((0.1307,), (0.3081,))\n",
    "                   ])),\n",
    "    batch_size=64, shuffle=True)\n",
    "\n",
    "test_loader = torch.utils.data.DataLoader(\n",
    "    datasets.MNIST('../data', train=False, download=True, transform=transforms.Compose([\n",
    "                       transforms.ToTensor(),\n",
    "                       transforms.Normalize((0.1307,), (0.3081,))\n",
    "                   ])),\n",
    "    batch_size=1000, shuffle=True)"
   ]
  },
  {
   "cell_type": "code",
   "execution_count": 4,
   "metadata": {},
   "outputs": [
    {
     "data": {
      "image/png": "[encoded data removed]",
      "text/plain": [
       "<Figure size 1152x432 with 10 Axes>"
      ]
     },
     "metadata": {
      "needs_background": "light"
     },
     "output_type": "display_data"
    }
   ],
   "source": [
    "# The MNIST dataset is the handwritten dataset.\n",
    "plt.figure(figsize=(16, 6))\n",
    "for i in range(10):\n",
    "    plt.subplot(2, 5, i + 1)\n",
    "    image, _ = train_loader.dataset[i]\n",
    "    plt.imshow(image.squeeze().numpy())\n",
    "    plt.axis('off');"
   ]
  },
  {
   "cell_type": "markdown",
   "metadata": {},
   "source": [
    "# Create the model classes"
   ]
  },
  {
   "cell_type": "code",
   "execution_count": 5,
   "metadata": {},
   "outputs": [],
   "source": [
    "class CNN(nn.Module):\n",
    "    def __init__(self, input_size, n_feature, output_size):\n",
    "        super(CNN, self).__init__()\n",
    "        self.n_feature = n_feature\n",
    "        self.conv1 = nn.Conv2d(in_channels=1, out_channels=n_feature, kernel_size=5)\n",
    "        self.conv2 = nn.Conv2d(n_feature, n_feature, kernel_size=5) # 6 channels and kernel_size 5\n",
    "        \n",
    "        self.flatten = nn.Flatten()\n",
    "        self.fc1 = nn.Linear(n_feature*4*4, 50)\n",
    "        self.fc2 = nn.Linear(50, 10)\n",
    "        \n",
    "    def forward(self, x, verbose=False): # [batch_size, channel, width, height] - [64, 1, 28, 28]\n",
    "        # First CONV\n",
    "        x = self.conv1(x)\n",
    "        x = F.relu(x)\n",
    "        x = F.max_pool2d(x, kernel_size=2) # downdsample the data by half\n",
    "        \n",
    "        # Second CONV\n",
    "        x = self.conv2(x)\n",
    "        x = F.relu(x)\n",
    "        x = F.max_pool2d(x, kernel_size=2) # downdsample the data by half\n",
    "        # [64, 6, 4, 4]\n",
    "        \n",
    "#         x = x.view(-1, self.n_feature*4*4)\n",
    "        x = self.flatten(x) # [64, n_feature * 4 * 4]\n",
    "        x = self.fc1(x)\n",
    "        x = F.relu(x)\n",
    "        x = self.fc2(x)\n",
    "        x = F.log_softmax(x, dim=1)\n",
    "        return x"
   ]
  },
  {
   "cell_type": "markdown",
   "metadata": {},
   "source": [
    "## Lets go step by step ##"
   ]
  },
  {
   "cell_type": "code",
   "execution_count": 6,
   "metadata": {},
   "outputs": [
    {
     "name": "stdout",
     "output_type": "stream",
     "text": [
      "torch.Size([1, 1, 28, 28])\n"
     ]
    }
   ],
   "source": [
    "tensor = torch.rand([1, 1, 28, 28]) #Batch size, channel, width, height (what the network expect)\n",
    "print(tensor.shape)"
   ]
  },
  {
   "cell_type": "code",
   "execution_count": 7,
   "metadata": {},
   "outputs": [
    {
     "name": "stdout",
     "output_type": "stream",
     "text": [
      "after conv1:  torch.Size([1, 6, 24, 24])\n",
      "after relu1:  torch.Size([1, 6, 24, 24])\n",
      "after max_pooling_1:  torch.Size([1, 6, 12, 12])\n"
     ]
    }
   ],
   "source": [
    "conv_1 = nn.Conv2d(in_channels=1, out_channels=6, kernel_size=5)\n",
    "relu_1 = F.relu\n",
    "max_pool_1 = nn.MaxPool2d(kernel_size=2)\n",
    "\n",
    "result = conv_1(tensor)\n",
    "print(\"after conv1: \", result.shape) \n",
    "#Tensor is reshaped from [1, 1, 28, 28] to [1, 6, 24, 24]\n",
    "# 6 are the number of out_channels specified\n",
    "# and it reduces w and h to 24, 24 because of the kernel_size (kernel_size - 1) and stride (stride = 1)\n",
    "\n",
    "result = relu_1(result)\n",
    "print(\"after relu1: \", result.shape)\n",
    "\n",
    "result = max_pool_1(result)\n",
    "print(\"after max_pooling_1: \", result.shape) \n",
    "# tensor is reshaped from [1, 6, 24, 24] to [1, 6, 12, 12]\n",
    "# max pooling downsamples dividing by kernel_size"
   ]
  },
  {
   "cell_type": "code",
   "execution_count": 8,
   "metadata": {},
   "outputs": [
    {
     "name": "stdout",
     "output_type": "stream",
     "text": [
      "after conv2:  torch.Size([1, 6, 8, 8])\n",
      "after relu2:  torch.Size([1, 6, 8, 8])\n",
      "after max_pooling_2:  torch.Size([1, 6, 4, 4])\n",
      "shape is [1, 6*4*4]:  96\n"
     ]
    }
   ],
   "source": [
    "conv_2 = nn.Conv2d(in_channels=6, out_channels=6, kernel_size=5)\n",
    "relu_2 = F.relu\n",
    "max_pool_2 = nn.MaxPool2d(kernel_size=2)\n",
    "\n",
    "result = conv_2(result)\n",
    "print(\"after conv2: \", result.shape)\n",
    "\n",
    "result = relu_2(result)\n",
    "print(\"after relu2: \", result.shape)\n",
    "\n",
    "result = max_pool_2(result)\n",
    "print(\"after max_pooling_2: \", result.shape)\n",
    "print(\"shape is [1, 6*4*4]: \", 6*4*4)"
   ]
  },
  {
   "cell_type": "code",
   "execution_count": 9,
   "metadata": {},
   "outputs": [
    {
     "name": "stdout",
     "output_type": "stream",
     "text": [
      "after flattening:  torch.Size([1, 96])\n",
      "after view:  torch.Size([1, 96])\n"
     ]
    }
   ],
   "source": [
    "flatten_operation = nn.Flatten()\n",
    "\n",
    "result_flattened = flatten_operation(result)\n",
    "print(\"after flattening: \", result_flattened.shape)\n",
    "\n",
    "result_with_view = result.view(-1, 6*4*4)\n",
    "print(\"after view: \", result_with_view.shape)"
   ]
  },
  {
   "cell_type": "markdown",
   "metadata": {},
   "source": [
    "## Train and Test loop"
   ]
  },
  {
   "cell_type": "code",
   "execution_count": 10,
   "metadata": {},
   "outputs": [],
   "source": [
    "train_acc_list=[]\n",
    "train_loss_list=[]\n",
    "\n",
    "correct=0.0 #<----\n",
    "def train(epoch, model, perm=torch.arange(0, 784).long()):\n",
    "    model.train()\n",
    "    \n",
    "    for batch_idx, (data, target) in enumerate(train_loader):\n",
    "        # send to device\n",
    "        data, target = data.to(device), target.to(device) # [64, 1, 28, 28]\n",
    "        \n",
    "        # permute pixels\n",
    "        data = data.view(-1, 28*28)\n",
    "        data = data[:, perm]\n",
    "        data = data.view(-1, 1, 28, 28)\n",
    "\n",
    "        optimizer.zero_grad()\n",
    "        output = model(data)\n",
    "        loss = F.nll_loss(output, target)\n",
    "        #<----------------------------\n",
    "        pred = output.data.max(1, keepdim=True)[1] # get the index of the max log-probability\n",
    "        correct = pred.eq(target.data.view_as(pred)).cpu().sum().item()          \n",
    "        #<---------------------\n",
    "        loss.backward()\n",
    "        optimizer.step()\n",
    "      \n",
    "        if batch_idx % 100 == 0:\n",
    "            print('Train Epoch: {} [{}/{} ({:.0f}%)]\\tLoss: {:.6f} - Accuracy: {}'.format(\n",
    "                epoch, batch_idx * len(data), len(train_loader.dataset),\n",
    "                100. * batch_idx / len(train_loader), loss.item(),correct/len(target)))\n",
    "            \n",
    "            train_loss_list.append(loss.item())\n",
    "            train_acc_list.append(correct/len(target))\n",
    "            #correct=0\n",
    "            "
   ]
  },
  {
   "cell_type": "code",
   "execution_count": 11,
   "metadata": {},
   "outputs": [],
   "source": [
    "accuracy_list = []\n",
    "loss_list = []\n",
    "\n",
    "def test(model, perm=torch.arange(0, 784).long()):\n",
    "    model.eval()\n",
    "    test_loss = 0\n",
    "    correct = 0\n",
    "    for data, target in test_loader:\n",
    "        # send to device\n",
    "        data, target = data.to(device), target.to(device)\n",
    "        \n",
    "        # permute pixels\n",
    "        data = data.view(-1, 28*28)\n",
    "        data = data[:, perm]\n",
    "        data = data.view(-1, 1, 28, 28)\n",
    "        output = model(data)\n",
    "        test_loss += F.nll_loss(output, target, reduction='sum').item() # sum up batch loss                                                               \n",
    "        pred = output.data.max(1, keepdim=True)[1] # get the index of the max log-probability                                                                 \n",
    "        correct += pred.eq(target.data.view_as(pred)).cpu().sum().item()\n",
    "\n",
    "    test_loss /= len(test_loader.dataset)\n",
    "    accuracy = 100. * correct / len(test_loader.dataset)\n",
    "    accuracy_list.append(accuracy)\n",
    "    loss_list.append(test_loss)\n",
    "    print('\\nTest set: Average loss: {:.4f}, Accuracy: {}/{} ({:.0f}%)\\n'.format(\n",
    "        test_loss, correct, len(test_loader.dataset),\n",
    "        accuracy))"
   ]
  },
  {
   "cell_type": "markdown",
   "metadata": {},
   "source": [
    "# Train a ConvNet with the same number of parameters"
   ]
  },
  {
   "cell_type": "code",
   "execution_count": 12,
   "metadata": {},
   "outputs": [
    {
     "name": "stdout",
     "output_type": "stream",
     "text": [
      "CNN(\n",
      "  (conv1): Conv2d(1, 6, kernel_size=(5, 5), stride=(1, 1))\n",
      "  (conv2): Conv2d(6, 6, kernel_size=(5, 5), stride=(1, 1))\n",
      "  (flatten): Flatten(start_dim=1, end_dim=-1)\n",
      "  (fc1): Linear(in_features=96, out_features=50, bias=True)\n",
      "  (fc2): Linear(in_features=50, out_features=10, bias=True)\n",
      ")\n",
      "Number of parameters: 6422\n",
      "Train Epoch: 0 [0/60000 (0%)]\tLoss: 2.303270 - Accuracy: 0.078125\n",
      "Train Epoch: 0 [6400/60000 (11%)]\tLoss: 1.028854 - Accuracy: 0.734375\n",
      "Train Epoch: 0 [12800/60000 (21%)]\tLoss: 0.420274 - Accuracy: 0.875\n",
      "Train Epoch: 0 [19200/60000 (32%)]\tLoss: 0.435529 - Accuracy: 0.90625\n",
      "Train Epoch: 0 [25600/60000 (43%)]\tLoss: 0.381378 - Accuracy: 0.890625\n",
      "Train Epoch: 0 [32000/60000 (53%)]\tLoss: 0.260001 - Accuracy: 0.921875\n",
      "Train Epoch: 0 [38400/60000 (64%)]\tLoss: 0.112614 - Accuracy: 0.96875\n",
      "Train Epoch: 0 [44800/60000 (75%)]\tLoss: 0.177009 - Accuracy: 0.921875\n",
      "Train Epoch: 0 [51200/60000 (85%)]\tLoss: 0.081095 - Accuracy: 1.0\n",
      "Train Epoch: 0 [57600/60000 (96%)]\tLoss: 0.153884 - Accuracy: 0.953125\n",
      "\n",
      "Test set: Average loss: 0.1768, Accuracy: 9440/10000 (94%)\n",
      "\n",
      "Train Epoch: 1 [0/60000 (0%)]\tLoss: 0.186733 - Accuracy: 0.953125\n",
      "Train Epoch: 1 [6400/60000 (11%)]\tLoss: 0.145546 - Accuracy: 0.953125\n",
      "Train Epoch: 1 [12800/60000 (21%)]\tLoss: 0.085588 - Accuracy: 0.984375\n",
      "Train Epoch: 1 [19200/60000 (32%)]\tLoss: 0.211905 - Accuracy: 0.90625\n",
      "Train Epoch: 1 [25600/60000 (43%)]\tLoss: 0.091664 - Accuracy: 0.984375\n",
      "Train Epoch: 1 [32000/60000 (53%)]\tLoss: 0.207042 - Accuracy: 0.9375\n",
      "Train Epoch: 1 [38400/60000 (64%)]\tLoss: 0.153453 - Accuracy: 0.9375\n",
      "Train Epoch: 1 [44800/60000 (75%)]\tLoss: 0.115391 - Accuracy: 0.984375\n",
      "Train Epoch: 1 [51200/60000 (85%)]\tLoss: 0.051312 - Accuracy: 0.984375\n",
      "Train Epoch: 1 [57600/60000 (96%)]\tLoss: 0.114993 - Accuracy: 0.96875\n",
      "\n",
      "Test set: Average loss: 0.1288, Accuracy: 9591/10000 (96%)\n",
      "\n",
      "Train Epoch: 2 [0/60000 (0%)]\tLoss: 0.100247 - Accuracy: 0.96875\n",
      "Train Epoch: 2 [6400/60000 (11%)]\tLoss: 0.083662 - Accuracy: 0.984375\n",
      "Train Epoch: 2 [12800/60000 (21%)]\tLoss: 0.122113 - Accuracy: 0.953125\n",
      "Train Epoch: 2 [19200/60000 (32%)]\tLoss: 0.156858 - Accuracy: 0.953125\n",
      "Train Epoch: 2 [25600/60000 (43%)]\tLoss: 0.416285 - Accuracy: 0.984375\n",
      "Train Epoch: 2 [32000/60000 (53%)]\tLoss: 0.023271 - Accuracy: 1.0\n",
      "Train Epoch: 2 [38400/60000 (64%)]\tLoss: 0.042776 - Accuracy: 0.984375\n",
      "Train Epoch: 2 [44800/60000 (75%)]\tLoss: 0.169933 - Accuracy: 0.96875\n",
      "Train Epoch: 2 [51200/60000 (85%)]\tLoss: 0.110418 - Accuracy: 0.953125\n",
      "Train Epoch: 2 [57600/60000 (96%)]\tLoss: 0.028505 - Accuracy: 1.0\n",
      "\n",
      "Test set: Average loss: 0.0975, Accuracy: 9680/10000 (97%)\n",
      "\n",
      "Train Epoch: 3 [0/60000 (0%)]\tLoss: 0.057452 - Accuracy: 0.984375\n",
      "Train Epoch: 3 [6400/60000 (11%)]\tLoss: 0.117641 - Accuracy: 0.984375\n",
      "Train Epoch: 3 [12800/60000 (21%)]\tLoss: 0.028804 - Accuracy: 1.0\n",
      "Train Epoch: 3 [19200/60000 (32%)]\tLoss: 0.025686 - Accuracy: 1.0\n",
      "Train Epoch: 3 [25600/60000 (43%)]\tLoss: 0.020184 - Accuracy: 1.0\n",
      "Train Epoch: 3 [32000/60000 (53%)]\tLoss: 0.128324 - Accuracy: 0.953125\n",
      "Train Epoch: 3 [38400/60000 (64%)]\tLoss: 0.045515 - Accuracy: 0.984375\n",
      "Train Epoch: 3 [44800/60000 (75%)]\tLoss: 0.137542 - Accuracy: 0.953125\n",
      "Train Epoch: 3 [51200/60000 (85%)]\tLoss: 0.115965 - Accuracy: 0.953125\n",
      "Train Epoch: 3 [57600/60000 (96%)]\tLoss: 0.036684 - Accuracy: 1.0\n",
      "\n",
      "Test set: Average loss: 0.0733, Accuracy: 9751/10000 (98%)\n",
      "\n"
     ]
    }
   ],
   "source": [
    "# Training settings \n",
    "n_features = 6 # number of feature maps\n",
    "\n",
    "model_cnn = CNN(input_size, n_features, output_size)\n",
    "print(model_cnn)\n",
    "model_cnn.to(device)\n",
    "optimizer = optim.SGD(model_cnn.parameters(), lr=0.01, momentum=0.5)\n",
    "print('Number of parameters: {}'.format(sum(p.numel() for p in model_cnn.parameters() if p.requires_grad)))\n",
    "\n",
    "for epoch in range(0, 4):\n",
    "    train(epoch, model_cnn)\n",
    "    test(model_cnn)"
   ]
  },
  {
   "cell_type": "markdown",
   "metadata": {},
   "source": [
    "# Lab Assignments below:"
   ]
  },
  {
   "cell_type": "markdown",
   "metadata": {},
   "source": [
    "## PLOT Loss, Accuracy, and compare! ##"
   ]
  },
  {
   "cell_type": "code",
   "execution_count": 13,
   "metadata": {},
   "outputs": [
    {
     "data": {
      "image/png": "[encoded data removed]",
      "text/plain": [
       "<Figure size 432x288 with 1 Axes>"
      ]
     },
     "metadata": {
      "needs_background": "light"
     },
     "output_type": "display_data"
    }
   ],
   "source": [
    "plt.plot(train_loss_list)\n",
    "plt.xlabel(\"Iteration\")\n",
    "plt.ylabel(\"Loss\")\n",
    "plt.title('Loss change during training')\n",
    "plt.show()"
   ]
  },
  {
   "cell_type": "code",
   "execution_count": 14,
   "metadata": {},
   "outputs": [
    {
     "name": "stdout",
     "output_type": "stream",
     "text": [
      "[2.303270101547241, 1.0288541316986084, 0.4202743172645569, 0.4355294704437256, 0.3813776671886444, 0.26000145077705383, 0.11261448264122009, 0.17700888216495514, 0.08109540492296219, 0.15388429164886475, 0.18673337996006012, 0.14554645121097565, 0.08558809757232666, 0.2119045853614807, 0.09166381508111954, 0.2070424109697342, 0.15345340967178345, 0.11539099365472794, 0.05131187662482262, 0.11499284207820892, 0.10024721175432205, 0.08366245031356812, 0.12211283296346664, 0.15685796737670898, 0.4162845313549042, 0.02327086217701435, 0.04277625307440758, 0.16993258893489838, 0.11041760444641113, 0.02850467525422573, 0.05745190754532814, 0.11764111369848251, 0.02880392037332058, 0.025686096400022507, 0.02018415741622448, 0.12832407653331757, 0.0455147810280323, 0.13754239678382874, 0.11596544086933136, 0.03668423742055893]\n"
     ]
    }
   ],
   "source": [
    "print(train_loss_list)"
   ]
  },
  {
   "cell_type": "code",
   "execution_count": 15,
   "metadata": {},
   "outputs": [
    {
     "name": "stdout",
     "output_type": "stream",
     "text": [
      "[0.078125, 0.734375, 0.875, 0.90625, 0.890625, 0.921875, 0.96875, 0.921875, 1.0, 0.953125, 0.953125, 0.953125, 0.984375, 0.90625, 0.984375, 0.9375, 0.9375, 0.984375, 0.984375, 0.96875, 0.96875, 0.984375, 0.953125, 0.953125, 0.984375, 1.0, 0.984375, 0.96875, 0.953125, 1.0, 0.984375, 0.984375, 1.0, 1.0, 1.0, 0.953125, 0.984375, 0.953125, 0.953125, 1.0]\n"
     ]
    },
    {
     "data": {
      "image/png": "[encoded data removed]",
      "text/plain": [
       "<Figure size 432x288 with 1 Axes>"
      ]
     },
     "metadata": {
      "needs_background": "light"
     },
     "output_type": "display_data"
    }
   ],
   "source": [
    "print(train_acc_list)\n",
    "plt.plot(train_acc_list)\n",
    "plt.xlabel(\"Iteration\")\n",
    "plt.ylabel(\"Accuracy\")\n",
    "plt.title('Accuracy change during training')\n",
    "plt.show()"
   ]
  },
  {
   "cell_type": "markdown",
   "metadata": {},
   "source": [
    "# Create and Train a small fully-connected network on the same task\n",
    "\n",
    "Compare and plot as well for it!"
   ]
  },
  {
   "cell_type": "markdown",
   "metadata": {},
   "source": [
    "Fully connected neural network FCNN"
   ]
  },
  {
   "cell_type": "code",
   "execution_count": 16,
   "metadata": {},
   "outputs": [],
   "source": [
    "class FCNN(nn.Module):\n",
    "    def __init__(self, input_width, input_height, label_dim):\n",
    "        super(FCNN, self).__init__()\n",
    "        self.flatten = nn.Flatten() # Used to convert the 2D input into 1D (28x28 to 784)\n",
    "        self.linear_relu_stack = nn.Sequential( # a fully connected layers\n",
    "            nn.Linear(input_width*input_height, 256), \n",
    "            nn.ReLU(),\n",
    "            nn.Linear(256, 256),\n",
    "            nn.ReLU(),\n",
    "            nn.Linear(256, label_dim), #scale down to class size\n",
    "            nn.ReLU()\n",
    "    )\n",
    "        self.softmax = nn.Softmax(dim=1) #activation for classification\n",
    "        self.softmax_result = 0\n",
    "        \n",
    "    def forward(self, x):\n",
    "        x = self.flatten(x)\n",
    "        #print(\"x shape: \", x.shape)\n",
    "        logits = self.linear_relu_stack(x)\n",
    "       # print(\"logits shape: \", logits.shape)\n",
    "        self.softmax_result = self.softmax(logits)\n",
    "       # print(\"Softmax shape: \", self.softmax_result.shape)\n",
    "        return logits"
   ]
  },
  {
   "cell_type": "code",
   "execution_count": 17,
   "metadata": {},
   "outputs": [
    {
     "name": "stdout",
     "output_type": "stream",
     "text": [
      "Number of parameters: 6422\n",
      "Epoch: 0\n",
      "loss: 2.301397 [0/60000] - Accuracy: 0.109375\n",
      "loss: 2.306262 [6400/60000] - Accuracy: 0.046875\n",
      "loss: 2.284998 [12800/60000] - Accuracy: 0.1875\n",
      "loss: 2.281528 [19200/60000] - Accuracy: 0.1875\n",
      "loss: 2.227472 [25600/60000] - Accuracy: 0.40625\n",
      "loss: 2.243810 [32000/60000] - Accuracy: 0.34375\n",
      "loss: 2.182443 [38400/60000] - Accuracy: 0.453125\n",
      "loss: 2.111557 [44800/60000] - Accuracy: 0.59375\n",
      "loss: 2.157881 [51200/60000] - Accuracy: 0.46875\n",
      "loss: 2.130417 [57600/60000] - Accuracy: 0.4375\n",
      "Epoch: 1\n",
      "loss: 2.084952 [0/60000] - Accuracy: 0.515625\n",
      "loss: 1.982574 [6400/60000] - Accuracy: 0.625\n",
      "loss: 1.939301 [12800/60000] - Accuracy: 0.5625\n",
      "loss: 1.920284 [19200/60000] - Accuracy: 0.53125\n",
      "loss: 1.795302 [25600/60000] - Accuracy: 0.65625\n",
      "loss: 1.827626 [32000/60000] - Accuracy: 0.59375\n",
      "loss: 1.827386 [38400/60000] - Accuracy: 0.53125\n",
      "loss: 1.831297 [44800/60000] - Accuracy: 0.5625\n",
      "loss: 1.695543 [51200/60000] - Accuracy: 0.59375\n",
      "loss: 1.782311 [57600/60000] - Accuracy: 0.53125\n",
      "Epoch: 2\n",
      "loss: 1.678379 [0/60000] - Accuracy: 0.5625\n",
      "loss: 1.733119 [6400/60000] - Accuracy: 0.5\n",
      "loss: 1.886400 [12800/60000] - Accuracy: 0.421875\n",
      "loss: 1.700070 [19200/60000] - Accuracy: 0.546875\n",
      "loss: 1.465480 [25600/60000] - Accuracy: 0.6875\n",
      "loss: 1.461089 [32000/60000] - Accuracy: 0.6875\n",
      "loss: 1.592105 [38400/60000] - Accuracy: 0.5625\n",
      "loss: 1.454756 [44800/60000] - Accuracy: 0.625\n",
      "loss: 1.304469 [51200/60000] - Accuracy: 0.6875\n",
      "loss: 1.426131 [57600/60000] - Accuracy: 0.625\n",
      "Epoch: 3\n",
      "loss: 1.544470 [0/60000] - Accuracy: 0.578125\n",
      "loss: 1.360480 [6400/60000] - Accuracy: 0.640625\n",
      "loss: 1.329213 [12800/60000] - Accuracy: 0.640625\n",
      "loss: 1.288856 [19200/60000] - Accuracy: 0.671875\n",
      "loss: 1.447561 [25600/60000] - Accuracy: 0.5625\n",
      "loss: 1.241120 [32000/60000] - Accuracy: 0.65625\n",
      "loss: 1.201058 [38400/60000] - Accuracy: 0.65625\n",
      "loss: 1.180839 [44800/60000] - Accuracy: 0.65625\n",
      "loss: 1.331128 [51200/60000] - Accuracy: 0.5625\n",
      "loss: 1.398315 [57600/60000] - Accuracy: 0.53125\n"
     ]
    }
   ],
   "source": [
    "\n",
    "model = FCNN(28,28,10) #width, height,class_size\n",
    "model.to(device)\n",
    "loss_fun=nn.CrossEntropyLoss()\n",
    "optimizer = torch.optim.SGD(model.parameters(),lr=0.001)#params, learning rate\n",
    "\n",
    "print('Number of parameters: {}'.format(sum(p.numel() for p in model_cnn.parameters() if p.requires_grad)))\n",
    "\n",
    "#epoch=0\n",
    "last_loss=100 #should be sys.maxint\n",
    "running =True\n",
    "train_loss_list=[]\n",
    "train_acc_list=[]\n",
    "correct=0\n",
    "\n",
    "#while running and epoch<max_epochs:\n",
    "for epoch in range(0,4):\n",
    "    print(f\"Epoch: {epoch}\")\n",
    "    \n",
    "    for batch, (input,target) in enumerate(train_loader):\n",
    "        input,target=input.to(device),target.to(device) # extract vars from data point\n",
    "        output = model(input)\n",
    "        loss = loss_fun(output,target)   \n",
    "        \n",
    "        #backprop\n",
    "        optimizer.zero_grad()\n",
    "        loss.backward()\n",
    "        optimizer.step()\n",
    "        pred = output.data.max(1, keepdim=True)[1] # get the index of the max log-probability\n",
    "        correct = pred.eq(target.data.view_as(pred)).cpu().sum().item()\n",
    "        \n",
    "        if batch %100 == 0:\n",
    "            train_loss_list.append(loss.item())\n",
    "            train_acc_list.append(correct/len(target))\n",
    "            print(f\"loss: {loss.item():>7f} [{batch*len(input)}/{len(train_loader.dataset)}] - Accuracy: {correct/len(target)}\")\n",
    "            if loss.item()>last_loss+last_loss*0.8:\n",
    "                running=False\n",
    "            else :\n",
    "                last_loss=loss.item()\n",
    "            #correct=0\n",
    "    epoch = epoch + 1\n",
    "\n",
    "\n",
    "\n"
   ]
  },
  {
   "cell_type": "code",
   "execution_count": 18,
   "metadata": {},
   "outputs": [
    {
     "data": {
      "image/png": "[encoded data removed]",
      "text/plain": [
       "<Figure size 432x288 with 1 Axes>"
      ]
     },
     "metadata": {
      "needs_background": "light"
     },
     "output_type": "display_data"
    }
   ],
   "source": [
    "plt.plot(train_loss_list)\n",
    "plt.xlabel(\"Iteration\")\n",
    "plt.ylabel(\"Loss\")\n",
    "plt.title('Loss change during training')\n",
    "plt.show()\n"
   ]
  },
  {
   "cell_type": "code",
   "execution_count": 19,
   "metadata": {},
   "outputs": [
    {
     "data": {
      "image/png": "[encoded data removed]",
      "text/plain": [
       "<Figure size 432x288 with 1 Axes>"
      ]
     },
     "metadata": {
      "needs_background": "light"
     },
     "output_type": "display_data"
    }
   ],
   "source": [
    "plt.plot(train_acc_list)\n",
    "plt.xlabel(\"Iteration\")\n",
    "plt.ylabel(\"Accuracy\")\n",
    "plt.title('Accuracy change during training')\n",
    "plt.show()"
   ]
  },
  {
   "cell_type": "markdown",
   "metadata": {},
   "source": [
    "## Experiment ##\n",
    "\n",
    "### What happens when the data (imgs) does not make sense anymore - all assumptions are removed ###"
   ]
  },
  {
   "cell_type": "code",
   "execution_count": 20,
   "metadata": {},
   "outputs": [
    {
     "data": {
      "image/png": "[encoded data removed]",
      "text/plain": [
       "<Figure size 1152x864 with 20 Axes>"
      ]
     },
     "metadata": {
      "needs_background": "light"
     },
     "output_type": "display_data"
    }
   ],
   "source": [
    "perm = torch.randperm(784)\n",
    "plt.figure(figsize=(16, 12))\n",
    "for i in range(10):\n",
    "    image, _ = train_loader.dataset[i]\n",
    "    # permute pixels\n",
    "    image_perm = image.view(-1, 28*28).clone()\n",
    "    image_perm = image_perm[:, perm]\n",
    "    image_perm = image_perm.view(-1, 1, 28, 28)\n",
    "    plt.subplot(4, 5, i + 1)\n",
    "    plt.imshow(image.squeeze().numpy())\n",
    "    plt.axis('off')\n",
    "    plt.subplot(4, 5, i + 11)\n",
    "    plt.imshow(image_perm.squeeze().numpy())\n",
    "    plt.axis('off')"
   ]
  },
  {
   "cell_type": "code",
   "execution_count": 21,
   "metadata": {},
   "outputs": [
    {
     "name": "stdout",
     "output_type": "stream",
     "text": [
      "Train Epoch: 0 [0/60000 (0%)]\tLoss: 2.307157 - Accuracy: 0.15625\n",
      "Train Epoch: 0 [6400/60000 (11%)]\tLoss: 2.251169 - Accuracy: 0.25\n",
      "Train Epoch: 0 [12800/60000 (21%)]\tLoss: 2.211548 - Accuracy: 0.25\n",
      "Train Epoch: 0 [19200/60000 (32%)]\tLoss: 1.770429 - Accuracy: 0.4375\n",
      "Train Epoch: 0 [25600/60000 (43%)]\tLoss: 1.343527 - Accuracy: 0.65625\n",
      "Train Epoch: 0 [32000/60000 (53%)]\tLoss: 1.043012 - Accuracy: 0.671875\n",
      "Train Epoch: 0 [38400/60000 (64%)]\tLoss: 0.698111 - Accuracy: 0.859375\n",
      "Train Epoch: 0 [44800/60000 (75%)]\tLoss: 0.849192 - Accuracy: 0.734375\n",
      "Train Epoch: 0 [51200/60000 (85%)]\tLoss: 0.785370 - Accuracy: 0.75\n",
      "Train Epoch: 0 [57600/60000 (96%)]\tLoss: 0.498250 - Accuracy: 0.859375\n",
      "\n",
      "Test set: Average loss: 0.6155, Accuracy: 7963/10000 (80%)\n",
      "\n"
     ]
    }
   ],
   "source": [
    "# Training settings \n",
    "n_features = 6 # number of feature maps\n",
    "\n",
    "model_cnn = CNN(input_size, n_features, output_size)\n",
    "model_cnn.to(device)\n",
    "optimizer = optim.SGD(model_cnn.parameters(), lr=0.01, momentum=0.5)\n",
    "\n",
    "for epoch in range(0, 1):\n",
    "    train(epoch, model_cnn, perm)\n",
    "    test(model_cnn, perm)"
   ]
  },
  {
   "cell_type": "markdown",
   "metadata": {},
   "source": [
    "## Do the same with the MLP ##"
   ]
  },
  {
   "cell_type": "code",
   "execution_count": 22,
   "metadata": {},
   "outputs": [
    {
     "name": "stdout",
     "output_type": "stream",
     "text": [
      "Number of parameters: 6422\n",
      "Epoch: 0\n",
      "loss: 2.303118 [0/60000] - Accuracy: 0.078125\n",
      "loss: 2.280248 [6400/60000] - Accuracy: 0.234375\n",
      "loss: 2.263074 [12800/60000] - Accuracy: 0.265625\n",
      "loss: 2.266038 [19200/60000] - Accuracy: 0.25\n",
      "loss: 2.221956 [25600/60000] - Accuracy: 0.390625\n",
      "loss: 2.225135 [32000/60000] - Accuracy: 0.34375\n",
      "loss: 2.195729 [38400/60000] - Accuracy: 0.40625\n",
      "loss: 2.177325 [44800/60000] - Accuracy: 0.375\n",
      "loss: 2.107154 [51200/60000] - Accuracy: 0.4375\n",
      "loss: 2.082121 [57600/60000] - Accuracy: 0.484375\n",
      "Epoch: 1\n",
      "loss: 2.012161 [0/60000] - Accuracy: 0.53125\n",
      "loss: 2.079353 [6400/60000] - Accuracy: 0.421875\n",
      "loss: 1.975938 [12800/60000] - Accuracy: 0.515625\n",
      "loss: 1.989992 [19200/60000] - Accuracy: 0.421875\n",
      "loss: 1.820059 [25600/60000] - Accuracy: 0.578125\n",
      "loss: 1.770519 [32000/60000] - Accuracy: 0.59375\n",
      "loss: 1.741502 [38400/60000] - Accuracy: 0.609375\n",
      "loss: 1.600123 [44800/60000] - Accuracy: 0.75\n",
      "loss: 1.456180 [51200/60000] - Accuracy: 0.765625\n",
      "loss: 1.411585 [57600/60000] - Accuracy: 0.71875\n",
      "Epoch: 2\n",
      "loss: 1.340981 [0/60000] - Accuracy: 0.765625\n",
      "loss: 1.289081 [6400/60000] - Accuracy: 0.671875\n",
      "loss: 1.218389 [12800/60000] - Accuracy: 0.734375\n",
      "loss: 1.204749 [19200/60000] - Accuracy: 0.71875\n",
      "loss: 1.054091 [25600/60000] - Accuracy: 0.8125\n",
      "loss: 1.027891 [32000/60000] - Accuracy: 0.8125\n",
      "loss: 0.882270 [38400/60000] - Accuracy: 0.890625\n",
      "loss: 0.944808 [44800/60000] - Accuracy: 0.765625\n",
      "loss: 0.917204 [51200/60000] - Accuracy: 0.765625\n",
      "loss: 0.864529 [57600/60000] - Accuracy: 0.765625\n",
      "Epoch: 3\n",
      "loss: 0.794212 [0/60000] - Accuracy: 0.828125\n",
      "loss: 1.003996 [6400/60000] - Accuracy: 0.6875\n",
      "loss: 0.747936 [12800/60000] - Accuracy: 0.859375\n",
      "loss: 0.862928 [19200/60000] - Accuracy: 0.796875\n",
      "loss: 0.764078 [25600/60000] - Accuracy: 0.859375\n",
      "loss: 0.752695 [32000/60000] - Accuracy: 0.796875\n",
      "loss: 0.616003 [38400/60000] - Accuracy: 0.8125\n",
      "loss: 0.598321 [44800/60000] - Accuracy: 0.90625\n",
      "loss: 0.685854 [51200/60000] - Accuracy: 0.84375\n",
      "loss: 0.564266 [57600/60000] - Accuracy: 0.875\n"
     ]
    }
   ],
   "source": [
    "# create network, train, compare!\n",
    "perm = torch.randperm(784)\n",
    "\n",
    "model = FCNN(28,28,10) #width, height,class_size\n",
    "model.to(device)\n",
    "loss_fun=nn.CrossEntropyLoss()\n",
    "optimizer = torch.optim.SGD(model.parameters(),lr=0.001)#params, learning rate\n",
    "\n",
    "print('Number of parameters: {}'.format(sum(p.numel() for p in model_cnn.parameters() if p.requires_grad)))\n",
    "\n",
    "\n",
    "last_loss=100 #should be sys.maxint\n",
    "running =True\n",
    "train_loss_list=[]\n",
    "train_acc_list=[]\n",
    "correct=0\n",
    "\n",
    "for epoch in range(0,4):\n",
    "    print(f\"Epoch: {epoch}\")\n",
    "    \n",
    "    for batch, (input,target) in enumerate(train_loader):\n",
    "        input,target=input.to(device),target.to(device) # extract vars from data point\n",
    "        \n",
    "        for i in range(0,len(input)):\n",
    "            # permute pixels\n",
    "            image_perm = image.view(-1, 28*28).clone()\n",
    "            image_perm = image_perm[:, perm]\n",
    "            image_perm = image_perm.view(-1, 1, 28, 28)\n",
    "        \n",
    "        \n",
    "        output = model(input)\n",
    "        loss = loss_fun(output,target)   \n",
    "        \n",
    "        #backprop\n",
    "        optimizer.zero_grad()\n",
    "        loss.backward()\n",
    "        optimizer.step()\n",
    "        pred = output.data.max(1, keepdim=True)[1] # get the index of the max log-probability\n",
    "        correct = pred.eq(target.data.view_as(pred)).cpu().sum().item()\n",
    "        \n",
    "        if batch %100 == 0:\n",
    "            train_loss_list.append(loss.item())\n",
    "            train_acc_list.append(correct/len(target))\n",
    "            print(f\"loss: {loss.item():>7f} [{batch*len(input)}/{len(train_loader.dataset)}] - Accuracy: {correct/len(target)}\")\n",
    "            if loss.item()>last_loss+last_loss*0.8:\n",
    "                running=False\n",
    "            else :\n",
    "                last_loss=loss.item()\n",
    "                \n",
    "    epoch = epoch + 1\n"
   ]
  },
  {
   "cell_type": "code",
   "execution_count": 23,
   "metadata": {},
   "outputs": [
    {
     "data": {
      "image/png": "[encoded data removed]",
      "text/plain": [
       "<Figure size 432x288 with 1 Axes>"
      ]
     },
     "metadata": {
      "needs_background": "light"
     },
     "output_type": "display_data"
    }
   ],
   "source": [
    "plt.plot(train_loss_list)\n",
    "plt.xlabel(\"Iteration\")\n",
    "plt.ylabel(\"Loss\")\n",
    "plt.title('Loss change during training')\n",
    "plt.show()\n"
   ]
  },
  {
   "cell_type": "code",
   "execution_count": 24,
   "metadata": {},
   "outputs": [
    {
     "data": {
      "image/png": "[encoded data removed]",
      "text/plain": [
       "<Figure size 432x288 with 1 Axes>"
      ]
     },
     "metadata": {
      "needs_background": "light"
     },
     "output_type": "display_data"
    }
   ],
   "source": [
    "plt.plot(train_acc_list)\n",
    "plt.xlabel(\"Iteration\")\n",
    "plt.ylabel(\"Accuracy\")\n",
    "plt.title('Accuracy change during training')\n",
    "plt.show()"
   ]
  },
  {
   "cell_type": "markdown",
   "metadata": {},
   "source": [
    "## What to do next? ##\n",
    "\n",
    "- Change the task\n",
    "- upload your handwriten work.\n",
    "- Fine-tune the network so it learn your handwritting?"
   ]
  },
  {
   "cell_type": "code",
   "execution_count": null,
   "metadata": {},
   "outputs": [],
   "source": []
  },
  {
   "cell_type": "code",
   "execution_count": null,
   "metadata": {},
   "outputs": [],
   "source": []
  }
 ],
 "metadata": {
  "kernelspec": {
   "display_name": "Python [conda env:AMLdl] *",
   "language": "python",
   "name": "conda-env-AMLdl-py"
  },
  "language_info": {
   "codemirror_mode": {
    "name": "ipython",
    "version": 3
   },
   "file_extension": ".py",
   "mimetype": "text/x-python",
   "name": "python",
   "nbconvert_exporter": "python",
   "pygments_lexer": "ipython3",
   "version": "3.8.5"
  }
 },
 "nbformat": 4,
 "nbformat_minor": 4
}
