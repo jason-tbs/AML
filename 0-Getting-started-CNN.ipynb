{
 "cells": [
  {
   "cell_type": "markdown",
   "metadata": {},
   "source": [
    "## Computer Vision Lab ##\n",
    "\n",
    "Through these notebooks, we will explore different important techniques, approaches, and uses of deep learning (especially Convolutional Neural Networks) for addressing computer vision labs.\n",
    "\n",
    "We will explore the following:\n",
    "\n",
    "- How to create a CNN to classify digits using MNIST dataset\n",
    "- Use transfer learning concepts to fine-tune pretrained models included in Pytorch\n",
    "- Different visualization techniques\n",
    "- Semantic segmentation"
   ]
  },
  {
   "cell_type": "markdown",
   "metadata": {},
   "source": [
    "### Assignments ###\n",
    "\n",
    "#### Mandatory: ####\n",
    "\n",
    "- Compare CNN with an MLP\n",
    "- Calculate, plot, analyse, and compare different metrics \n",
    "    - Loss, Accuracy, Precision, Recall, F1-score (when possible) --> Precision, recall, and F1-score are normally used in binary classification\n",
    "- Fine-tune pretrained models:\n",
    "    - by freezing weights\n",
    "    - reconstructing the layers\n",
    "- Data augmentation and pre-process\n",
    "    - For example dataset (bees and ants)\n",
    "    - For image (mario level)\n",
    "    \n",
    "#### Advanced: ####\n",
    "\n",
    "- Segmentation:\n",
    "    - Use Mask R-CNN (or other type of network) to do instance segmentation \n",
    "- CNN Visualization\n",
    "    - Apply occlusion to gather heatmap\n",
    "    - Do either:\n",
    "        - Visualize through Saliency maps (vanilla backpropagation saliency, or Grad-CAM, or Score-CAM)\n",
    "        - **OR**\n",
    "        - Visualize a pre-trained model with Deconvnets\n",
    "        \n",
    "#### Optional/if wanted: ####\n",
    "- Apply CNN to video data "
   ]
  },
  {
   "cell_type": "code",
   "execution_count": 1,
   "metadata": {},
   "outputs": [],
   "source": [
    "import torch\n",
    "import torch.nn as nn\n",
    "import torch.nn.functional as F\n",
    "import torch.optim as optim\n",
    "from torchvision import datasets, transforms\n",
    "import matplotlib.pyplot as plt\n",
    "import numpy as np"
   ]
  },
  {
   "cell_type": "code",
   "execution_count": 2,
   "metadata": {},
   "outputs": [
    {
     "data": {
      "text/plain": [
       "device(type='cuda', index=0)"
      ]
     },
     "execution_count": 2,
     "metadata": {},
     "output_type": "execute_result"
    }
   ],
   "source": [
    "device = torch.device(\"cuda:0\" if torch.cuda.is_available() else \"cpu\")\n",
    "device"
   ]
  },
  {
   "cell_type": "markdown",
   "metadata": {},
   "source": [
    "# Load the Dataset (MNIST)\n",
    "\n",
    "We will use the pytorch dataset and dataloader as seen in the previous lab. We will apply some needed transformation to the data"
   ]
  },
  {
   "cell_type": "code",
   "execution_count": 3,
   "metadata": {},
   "outputs": [],
   "source": [
    "input_size  = 28*28   # images are 28x28 pixels\n",
    "output_size = 10      # there are 10 classes (0 to 9)\n",
    "\n",
    "train_loader = torch.utils.data.DataLoader(\n",
    "    datasets.MNIST('../data', train=True, download=True,\n",
    "                   transform=transforms.Compose([\n",
    "                       transforms.ToTensor(),\n",
    "                       transforms.Normalize((0.1307,), (0.3081,))\n",
    "                   ])),\n",
    "    batch_size=64, shuffle=True)\n",
    "\n",
    "test_loader = torch.utils.data.DataLoader(\n",
    "    datasets.MNIST('../data', train=False, download=True, transform=transforms.Compose([\n",
    "                       transforms.ToTensor(),\n",
    "                       transforms.Normalize((0.1307,), (0.3081,))\n",
    "                   ])),\n",
    "    batch_size=1000, shuffle=True)"
   ]
  },
  {
   "cell_type": "code",
   "execution_count": 4,
   "metadata": {},
   "outputs": [
    {
     "data": {
      "image/png": "[encoded data removed]",
      "text/plain": [
       "<Figure size 1152x432 with 10 Axes>"
      ]
     },
     "metadata": {
      "needs_background": "light"
     },
     "output_type": "display_data"
    }
   ],
   "source": [
    "# The MNIST dataset is the handwritten dataset.\n",
    "plt.figure(figsize=(16, 6))\n",
    "for i in range(10):\n",
    "    plt.subplot(2, 5, i + 1)\n",
    "    image, _ = train_loader.dataset[i]\n",
    "    plt.imshow(image.squeeze().numpy())\n",
    "    plt.axis('off');"
   ]
  },
  {
   "cell_type": "markdown",
   "metadata": {},
   "source": [
    "# Create the model classes"
   ]
  },
  {
   "cell_type": "code",
   "execution_count": 5,
   "metadata": {},
   "outputs": [],
   "source": [
    "class CNN(nn.Module):\n",
    "    def __init__(self, input_size, n_feature, output_size):\n",
    "        super(CNN, self).__init__()\n",
    "        self.n_feature = n_feature\n",
    "        self.conv1 = nn.Conv2d(in_channels=1, out_channels=n_feature, kernel_size=5)\n",
    "        self.conv2 = nn.Conv2d(n_feature, n_feature, kernel_size=5) # 6 channels and kernel_size 5\n",
    "        \n",
    "        self.flatten = nn.Flatten()\n",
    "        self.fc1 = nn.Linear(n_feature*4*4, 50)\n",
    "        self.fc2 = nn.Linear(50, 10)\n",
    "        \n",
    "    def forward(self, x, verbose=False): # [batch_size, channel, width, height] - [64, 1, 28, 28]\n",
    "        # First CONV\n",
    "        x = self.conv1(x)\n",
    "        x = F.relu(x)\n",
    "        x = F.max_pool2d(x, kernel_size=2) # downdsample the data by half\n",
    "        \n",
    "        # Second CONV\n",
    "        x = self.conv2(x)\n",
    "        x = F.relu(x)\n",
    "        x = F.max_pool2d(x, kernel_size=2) # downdsample the data by half\n",
    "        # [64, 6, 4, 4]\n",
    "        \n",
    "#         x = x.view(-1, self.n_feature*4*4)\n",
    "        x = self.flatten(x) # [64, n_feature * 4 * 4]\n",
    "        x = self.fc1(x)\n",
    "        x = F.relu(x)\n",
    "        x = self.fc2(x)\n",
    "        x = F.log_softmax(x, dim=1)\n",
    "        return x"
   ]
  },
  {
   "cell_type": "markdown",
   "metadata": {},
   "source": [
    "## Lets go step by step ##"
   ]
  },
  {
   "cell_type": "code",
   "execution_count": 6,
   "metadata": {},
   "outputs": [
    {
     "name": "stdout",
     "output_type": "stream",
     "text": [
      "torch.Size([1, 1, 28, 28])\n"
     ]
    }
   ],
   "source": [
    "tensor = torch.rand([1, 1, 28, 28]) #Batch size, channel, width, height (what the network expect)\n",
    "print(tensor.shape)"
   ]
  },
  {
   "cell_type": "code",
   "execution_count": 7,
   "metadata": {},
   "outputs": [
    {
     "name": "stdout",
     "output_type": "stream",
     "text": [
      "after conv1:  torch.Size([1, 6, 24, 24])\n",
      "after relu1:  torch.Size([1, 6, 24, 24])\n",
      "after max_pooling_1:  torch.Size([1, 6, 12, 12])\n"
     ]
    }
   ],
   "source": [
    "conv_1 = nn.Conv2d(in_channels=1, out_channels=6, kernel_size=5)\n",
    "relu_1 = F.relu\n",
    "max_pool_1 = nn.MaxPool2d(kernel_size=2)\n",
    "\n",
    "result = conv_1(tensor)\n",
    "print(\"after conv1: \", result.shape) \n",
    "#Tensor is reshaped from [1, 1, 28, 28] to [1, 6, 24, 24]\n",
    "# 6 are the number of out_channels specified\n",
    "# and it reduces w and h to 24, 24 because of the kernel_size (kernel_size - 1) and stride (stride = 1)\n",
    "\n",
    "result = relu_1(result)\n",
    "print(\"after relu1: \", result.shape)\n",
    "\n",
    "result = max_pool_1(result)\n",
    "print(\"after max_pooling_1: \", result.shape) \n",
    "# tensor is reshaped from [1, 6, 24, 24] to [1, 6, 12, 12]\n",
    "# max pooling downsamples dividing by kernel_size"
   ]
  },
  {
   "cell_type": "code",
   "execution_count": 8,
   "metadata": {},
   "outputs": [
    {
     "name": "stdout",
     "output_type": "stream",
     "text": [
      "after conv2:  torch.Size([1, 6, 8, 8])\n",
      "after relu2:  torch.Size([1, 6, 8, 8])\n",
      "after max_pooling_2:  torch.Size([1, 6, 4, 4])\n",
      "shape is [1, 6*4*4]:  96\n"
     ]
    }
   ],
   "source": [
    "conv_2 = nn.Conv2d(in_channels=6, out_channels=6, kernel_size=5)\n",
    "relu_2 = F.relu\n",
    "max_pool_2 = nn.MaxPool2d(kernel_size=2)\n",
    "\n",
    "result = conv_2(result)\n",
    "print(\"after conv2: \", result.shape)\n",
    "\n",
    "result = relu_2(result)\n",
    "print(\"after relu2: \", result.shape)\n",
    "\n",
    "result = max_pool_2(result)\n",
    "print(\"after max_pooling_2: \", result.shape)\n",
    "print(\"shape is [1, 6*4*4]: \", 6*4*4)"
   ]
  },
  {
   "cell_type": "code",
   "execution_count": 9,
   "metadata": {},
   "outputs": [
    {
     "name": "stdout",
     "output_type": "stream",
     "text": [
      "after flattening:  torch.Size([1, 96])\n",
      "after view:  torch.Size([1, 96])\n"
     ]
    }
   ],
   "source": [
    "flatten_operation = nn.Flatten()\n",
    "\n",
    "result_flattened = flatten_operation(result)\n",
    "print(\"after flattening: \", result_flattened.shape)\n",
    "\n",
    "result_with_view = result.view(-1, 6*4*4)\n",
    "print(\"after view: \", result_with_view.shape)"
   ]
  },
  {
   "cell_type": "markdown",
   "metadata": {},
   "source": [
    "## Train and Test loop"
   ]
  },
  {
   "cell_type": "code",
   "execution_count": 10,
   "metadata": {},
   "outputs": [],
   "source": [
    "train_acc_list=[]\n",
    "train_loss_list=[]\n",
    "\n",
    "correct=0.0 #<----\n",
    "def train(epoch, model, perm=torch.arange(0, 784).long()):\n",
    "    model.train()\n",
    "    \n",
    "    for batch_idx, (data, target) in enumerate(train_loader):\n",
    "        # send to device\n",
    "        data, target = data.to(device), target.to(device) # [64, 1, 28, 28]\n",
    "        \n",
    "        # permute pixels\n",
    "        data = data.view(-1, 28*28)\n",
    "        data = data[:, perm]\n",
    "        data = data.view(-1, 1, 28, 28)\n",
    "\n",
    "        optimizer.zero_grad()\n",
    "        output = model(data)\n",
    "        loss = F.nll_loss(output, target)\n",
    "        #<----------------------------\n",
    "        pred = output.data.max(1, keepdim=True)[1] # get the index of the max log-probability\n",
    "        correct = pred.eq(target.data.view_as(pred)).cpu().sum().item()          \n",
    "        #<---------------------\n",
    "        loss.backward()\n",
    "        optimizer.step()\n",
    "      \n",
    "        if batch_idx % 100 == 0:\n",
    "            print('Train Epoch: {} [{}/{} ({:.0f}%)]\\tLoss: {:.6f} - Accuracy: {}'.format(\n",
    "                epoch, batch_idx * len(data), len(train_loader.dataset),\n",
    "                100. * batch_idx / len(train_loader), loss.item(),correct/len(target)))\n",
    "            \n",
    "            train_loss_list.append(loss.item())\n",
    "            train_acc_list.append(correct/len(target))\n",
    "            #correct=0\n",
    "            "
   ]
  },
  {
   "cell_type": "code",
   "execution_count": 11,
   "metadata": {},
   "outputs": [],
   "source": [
    "accuracy_list = []\n",
    "loss_list = []\n",
    "\n",
    "def test(model, perm=torch.arange(0, 784).long()):\n",
    "    model.eval()\n",
    "    test_loss = 0\n",
    "    correct = 0\n",
    "    for data, target in test_loader:\n",
    "        # send to device\n",
    "        data, target = data.to(device), target.to(device)\n",
    "        \n",
    "        # permute pixels\n",
    "        data = data.view(-1, 28*28)\n",
    "        data = data[:, perm]\n",
    "        data = data.view(-1, 1, 28, 28)\n",
    "        output = model(data)\n",
    "        test_loss += F.nll_loss(output, target, reduction='sum').item() # sum up batch loss                                                               \n",
    "        pred = output.data.max(1, keepdim=True)[1] # get the index of the max log-probability                                                                 \n",
    "        correct += pred.eq(target.data.view_as(pred)).cpu().sum().item()\n",
    "\n",
    "    test_loss /= len(test_loader.dataset)\n",
    "    accuracy = 100. * correct / len(test_loader.dataset)\n",
    "    accuracy_list.append(accuracy)\n",
    "    loss_list.append(test_loss)\n",
    "    print('\\nTest set: Average loss: {:.4f}, Accuracy: {}/{} ({:.0f}%)\\n'.format(\n",
    "        test_loss, correct, len(test_loader.dataset),\n",
    "        accuracy))"
   ]
  },
  {
   "cell_type": "markdown",
   "metadata": {},
   "source": [
    "# Train a ConvNet with the same number of parameters"
   ]
  },
  {
   "cell_type": "code",
   "execution_count": 12,
   "metadata": {},
   "outputs": [
    {
     "name": "stdout",
     "output_type": "stream",
     "text": [
      "CNN(\n",
      "  (conv1): Conv2d(1, 6, kernel_size=(5, 5), stride=(1, 1))\n",
      "  (conv2): Conv2d(6, 6, kernel_size=(5, 5), stride=(1, 1))\n",
      "  (flatten): Flatten(start_dim=1, end_dim=-1)\n",
      "  (fc1): Linear(in_features=96, out_features=50, bias=True)\n",
      "  (fc2): Linear(in_features=50, out_features=10, bias=True)\n",
      ")\n",
      "Number of parameters: 6422\n",
      "Train Epoch: 0 [0/60000 (0%)]\tLoss: 2.317856 - Accuracy: 0.0\n",
      "Train Epoch: 0 [6400/60000 (11%)]\tLoss: 1.733426 - Accuracy: 0.578125\n",
      "Train Epoch: 0 [12800/60000 (21%)]\tLoss: 0.824955 - Accuracy: 0.75\n",
      "Train Epoch: 0 [19200/60000 (32%)]\tLoss: 0.515064 - Accuracy: 0.828125\n",
      "Train Epoch: 0 [25600/60000 (43%)]\tLoss: 0.274706 - Accuracy: 0.890625\n",
      "Train Epoch: 0 [32000/60000 (53%)]\tLoss: 0.274238 - Accuracy: 0.875\n",
      "Train Epoch: 0 [38400/60000 (64%)]\tLoss: 0.255374 - Accuracy: 0.9375\n",
      "Train Epoch: 0 [44800/60000 (75%)]\tLoss: 0.076803 - Accuracy: 0.984375\n",
      "Train Epoch: 0 [51200/60000 (85%)]\tLoss: 0.225038 - Accuracy: 0.90625\n",
      "Train Epoch: 0 [57600/60000 (96%)]\tLoss: 0.205559 - Accuracy: 0.921875\n",
      "\n",
      "Test set: Average loss: 0.1801, Accuracy: 9456/10000 (95%)\n",
      "\n",
      "Train Epoch: 1 [0/60000 (0%)]\tLoss: 0.191090 - Accuracy: 0.9375\n",
      "Train Epoch: 1 [6400/60000 (11%)]\tLoss: 0.108607 - Accuracy: 0.96875\n",
      "Train Epoch: 1 [12800/60000 (21%)]\tLoss: 0.138901 - Accuracy: 0.9375\n",
      "Train Epoch: 1 [19200/60000 (32%)]\tLoss: 0.117437 - Accuracy: 0.96875\n",
      "Train Epoch: 1 [25600/60000 (43%)]\tLoss: 0.139807 - Accuracy: 0.96875\n",
      "Train Epoch: 1 [32000/60000 (53%)]\tLoss: 0.078411 - Accuracy: 0.96875\n",
      "Train Epoch: 1 [38400/60000 (64%)]\tLoss: 0.376230 - Accuracy: 0.9375\n",
      "Train Epoch: 1 [44800/60000 (75%)]\tLoss: 0.167334 - Accuracy: 0.9375\n",
      "Train Epoch: 1 [51200/60000 (85%)]\tLoss: 0.068291 - Accuracy: 0.984375\n",
      "Train Epoch: 1 [57600/60000 (96%)]\tLoss: 0.120416 - Accuracy: 0.953125\n",
      "\n",
      "Test set: Average loss: 0.1334, Accuracy: 9562/10000 (96%)\n",
      "\n",
      "Train Epoch: 2 [0/60000 (0%)]\tLoss: 0.287207 - Accuracy: 0.890625\n",
      "Train Epoch: 2 [6400/60000 (11%)]\tLoss: 0.441591 - Accuracy: 0.953125\n",
      "Train Epoch: 2 [12800/60000 (21%)]\tLoss: 0.144724 - Accuracy: 0.9375\n",
      "Train Epoch: 2 [19200/60000 (32%)]\tLoss: 0.038591 - Accuracy: 1.0\n",
      "Train Epoch: 2 [25600/60000 (43%)]\tLoss: 0.133516 - Accuracy: 0.9375\n",
      "Train Epoch: 2 [32000/60000 (53%)]\tLoss: 0.149333 - Accuracy: 0.921875\n",
      "Train Epoch: 2 [38400/60000 (64%)]\tLoss: 0.023758 - Accuracy: 1.0\n",
      "Train Epoch: 2 [44800/60000 (75%)]\tLoss: 0.096357 - Accuracy: 0.96875\n",
      "Train Epoch: 2 [51200/60000 (85%)]\tLoss: 0.024322 - Accuracy: 1.0\n",
      "Train Epoch: 2 [57600/60000 (96%)]\tLoss: 0.063187 - Accuracy: 0.984375\n",
      "\n",
      "Test set: Average loss: 0.0951, Accuracy: 9677/10000 (97%)\n",
      "\n",
      "Train Epoch: 3 [0/60000 (0%)]\tLoss: 0.023357 - Accuracy: 1.0\n",
      "Train Epoch: 3 [6400/60000 (11%)]\tLoss: 0.048250 - Accuracy: 0.984375\n",
      "Train Epoch: 3 [12800/60000 (21%)]\tLoss: 0.074748 - Accuracy: 0.984375\n",
      "Train Epoch: 3 [19200/60000 (32%)]\tLoss: 0.077603 - Accuracy: 0.96875\n",
      "Train Epoch: 3 [25600/60000 (43%)]\tLoss: 0.096465 - Accuracy: 0.96875\n",
      "Train Epoch: 3 [32000/60000 (53%)]\tLoss: 0.078765 - Accuracy: 0.96875\n",
      "Train Epoch: 3 [38400/60000 (64%)]\tLoss: 0.199437 - Accuracy: 0.96875\n",
      "Train Epoch: 3 [44800/60000 (75%)]\tLoss: 0.076482 - Accuracy: 0.96875\n",
      "Train Epoch: 3 [51200/60000 (85%)]\tLoss: 0.077528 - Accuracy: 0.984375\n",
      "Train Epoch: 3 [57600/60000 (96%)]\tLoss: 0.006849 - Accuracy: 1.0\n",
      "\n",
      "Test set: Average loss: 0.0810, Accuracy: 9729/10000 (97%)\n",
      "\n"
     ]
    }
   ],
   "source": [
    "# Training settings \n",
    "n_features = 6 # number of feature maps\n",
    "\n",
    "model_cnn = CNN(input_size, n_features, output_size)\n",
    "print(model_cnn)\n",
    "model_cnn.to(device)\n",
    "optimizer = optim.SGD(model_cnn.parameters(), lr=0.01, momentum=0.5)\n",
    "print('Number of parameters: {}'.format(sum(p.numel() for p in model_cnn.parameters() if p.requires_grad)))\n",
    "\n",
    "for epoch in range(0, 4):\n",
    "    train(epoch, model_cnn)\n",
    "    test(model_cnn)"
   ]
  },
  {
   "cell_type": "markdown",
   "metadata": {},
   "source": [
    "# Lab Assignments below:"
   ]
  },
  {
   "cell_type": "markdown",
   "metadata": {},
   "source": [
    "## PLOT Loss, Accuracy, and compare! ##"
   ]
  },
  {
   "cell_type": "code",
   "execution_count": 13,
   "metadata": {},
   "outputs": [
    {
     "data": {
      "image/png": "[encoded data removed]",
      "text/plain": [
       "<Figure size 432x288 with 1 Axes>"
      ]
     },
     "metadata": {
      "needs_background": "light"
     },
     "output_type": "display_data"
    }
   ],
   "source": [
    "plt.plot(train_loss_list)\n",
    "plt.xlabel(\"Iteration\")\n",
    "plt.ylabel(\"Loss\")\n",
    "plt.title('Loss change during training')\n",
    "plt.show()"
   ]
  },
  {
   "cell_type": "code",
   "execution_count": 14,
   "metadata": {},
   "outputs": [
    {
     "name": "stdout",
     "output_type": "stream",
     "text": [
      "[2.3178563117980957, 1.7334260940551758, 0.8249548077583313, 0.5150644183158875, 0.27470579743385315, 0.2742376923561096, 0.25537434220314026, 0.07680286467075348, 0.22503754496574402, 0.2055593580007553, 0.19108998775482178, 0.10860668867826462, 0.13890114426612854, 0.11743667721748352, 0.13980691134929657, 0.07841126620769501, 0.3762301802635193, 0.16733400523662567, 0.06829050928354263, 0.12041567265987396, 0.28720733523368835, 0.44159117341041565, 0.14472399652004242, 0.03859126940369606, 0.1335158795118332, 0.14933334290981293, 0.02375815622508526, 0.09635691344738007, 0.024322403594851494, 0.06318693608045578, 0.023357322439551353, 0.04824981465935707, 0.07474751025438309, 0.07760310173034668, 0.09646491706371307, 0.0787651315331459, 0.19943706691265106, 0.07648225873708725, 0.07752763479948044, 0.006849472410976887]\n"
     ]
    }
   ],
   "source": [
    "print(train_loss_list)"
   ]
  },
  {
   "cell_type": "code",
   "execution_count": 15,
   "metadata": {},
   "outputs": [
    {
     "data": {
      "image/png": "[encoded data removed]",
      "text/plain": [
       "<Figure size 432x288 with 1 Axes>"
      ]
     },
     "metadata": {
      "needs_background": "light"
     },
     "output_type": "display_data"
    }
   ],
   "source": [
    "plt.plot(train_acc_list)\n",
    "plt.xlabel(\"Iteration\")\n",
    "plt.ylabel(\"Accuracy\")\n",
    "plt.title('Accuracy change during training')\n",
    "plt.show()"
   ]
  },
  {
   "cell_type": "markdown",
   "metadata": {},
   "source": [
    "# Create and Train a small fully-connected network on the same task\n",
    "\n",
    "Compare and plot as well for it!"
   ]
  },
  {
   "cell_type": "code",
   "execution_count": 16,
   "metadata": {},
   "outputs": [],
   "source": [
    "class FCNN(nn.Module):\n",
    "    def __init__(self, input_width, input_height, label_dim):\n",
    "        super(FCNN, self).__init__()\n",
    "        self.flatten = nn.Flatten() # Used to convert the 2D input into 1D (28x28 to 784)\n",
    "        self.linear_relu_stack = nn.Sequential(\n",
    "            nn.Linear(input_width*input_height, 256),\n",
    "            nn.ReLU(),\n",
    "            nn.Linear(256, 256),\n",
    "            nn.ReLU(),\n",
    "            nn.Linear(256, label_dim), #scale down to class size\n",
    "            nn.ReLU()\n",
    "    )\n",
    "        self.softmax = nn.Softmax(dim=1) #activation for classification\n",
    "        self.softmax_result = 0\n",
    "        \n",
    "    def forward(self, x):\n",
    "        x = self.flatten(x)\n",
    "        #print(\"x shape: \", x.shape)\n",
    "        logits = self.linear_relu_stack(x)\n",
    "       # print(\"logits shape: \", logits.shape)\n",
    "        self.softmax_result = self.softmax(logits)\n",
    "       # print(\"Softmax shape: \", self.softmax_result.shape)\n",
    "        return logits"
   ]
  },
  {
   "cell_type": "code",
   "execution_count": 17,
   "metadata": {},
   "outputs": [
    {
     "name": "stdout",
     "output_type": "stream",
     "text": [
      "Number of parameters: 6422\n",
      "Epoch: 0\n",
      "loss: 2.304099 [0/60000] - Accuracy: 0.109375\n",
      "loss: 2.294729 [6400/60000] - Accuracy: 0.171875\n",
      "loss: 2.272756 [12800/60000] - Accuracy: 0.25\n",
      "loss: 2.252517 [19200/60000] - Accuracy: 0.359375\n",
      "loss: 2.236745 [25600/60000] - Accuracy: 0.390625\n",
      "loss: 2.222432 [32000/60000] - Accuracy: 0.375\n",
      "loss: 2.182126 [38400/60000] - Accuracy: 0.4375\n",
      "loss: 2.172838 [44800/60000] - Accuracy: 0.4375\n",
      "loss: 2.124978 [51200/60000] - Accuracy: 0.484375\n",
      "loss: 2.047700 [57600/60000] - Accuracy: 0.609375\n",
      "Epoch: 1\n",
      "loss: 2.066844 [0/60000] - Accuracy: 0.453125\n",
      "loss: 1.985565 [6400/60000] - Accuracy: 0.5625\n",
      "loss: 1.965661 [12800/60000] - Accuracy: 0.515625\n",
      "loss: 1.865249 [19200/60000] - Accuracy: 0.609375\n",
      "loss: 1.855428 [25600/60000] - Accuracy: 0.515625\n",
      "loss: 1.792557 [32000/60000] - Accuracy: 0.515625\n",
      "loss: 1.645036 [38400/60000] - Accuracy: 0.71875\n",
      "loss: 1.626644 [44800/60000] - Accuracy: 0.703125\n",
      "loss: 1.523804 [51200/60000] - Accuracy: 0.65625\n",
      "loss: 1.327163 [57600/60000] - Accuracy: 0.78125\n",
      "Epoch: 2\n",
      "loss: 1.360851 [0/60000] - Accuracy: 0.6875\n",
      "loss: 1.314796 [6400/60000] - Accuracy: 0.75\n",
      "loss: 1.293628 [12800/60000] - Accuracy: 0.6875\n",
      "loss: 1.308007 [19200/60000] - Accuracy: 0.71875\n",
      "loss: 1.108075 [25600/60000] - Accuracy: 0.765625\n",
      "loss: 1.028211 [32000/60000] - Accuracy: 0.765625\n",
      "loss: 0.997252 [38400/60000] - Accuracy: 0.75\n",
      "loss: 0.856525 [44800/60000] - Accuracy: 0.78125\n",
      "loss: 0.777476 [51200/60000] - Accuracy: 0.828125\n",
      "loss: 0.754836 [57600/60000] - Accuracy: 0.84375\n",
      "Epoch: 3\n",
      "loss: 0.786324 [0/60000] - Accuracy: 0.84375\n",
      "loss: 0.712028 [6400/60000] - Accuracy: 0.859375\n",
      "loss: 0.834259 [12800/60000] - Accuracy: 0.765625\n",
      "loss: 0.648645 [19200/60000] - Accuracy: 0.875\n",
      "loss: 0.776446 [25600/60000] - Accuracy: 0.828125\n",
      "loss: 0.661265 [32000/60000] - Accuracy: 0.84375\n",
      "loss: 0.598327 [38400/60000] - Accuracy: 0.875\n",
      "loss: 0.547905 [44800/60000] - Accuracy: 0.84375\n",
      "loss: 0.560328 [51200/60000] - Accuracy: 0.875\n",
      "loss: 0.514561 [57600/60000] - Accuracy: 0.875\n"
     ]
    }
   ],
   "source": [
    "\n",
    "model = FCNN(28,28,10) #width, height,class_size\n",
    "model.to(device)\n",
    "loss_fun=nn.CrossEntropyLoss()\n",
    "optimizer = torch.optim.SGD(model.parameters(),lr=0.001)#params, learning rate\n",
    "\n",
    "print('Number of parameters: {}'.format(sum(p.numel() for p in model_cnn.parameters() if p.requires_grad)))\n",
    "\n",
    "#epoch=0\n",
    "last_loss=100 #should be sys.maxint\n",
    "running =True\n",
    "train_loss_list=[]\n",
    "train_acc_list=[]\n",
    "correct=0\n",
    "\n",
    "#while running and epoch<max_epochs:\n",
    "for epoch in range(0,4):\n",
    "    print(f\"Epoch: {epoch}\")\n",
    "    \n",
    "    for batch, (input,target) in enumerate(train_loader):\n",
    "        input,target=input.to(device),target.to(device) # extract vars from data point\n",
    "        output = model(input)\n",
    "        loss = loss_fun(output,target)   \n",
    "        \n",
    "        #backprop\n",
    "        optimizer.zero_grad()\n",
    "        loss.backward()\n",
    "        optimizer.step()\n",
    "        pred = output.data.max(1, keepdim=True)[1] # get the index of the max log-probability\n",
    "        correct = pred.eq(target.data.view_as(pred)).cpu().sum().item()\n",
    "        \n",
    "        if batch %100 == 0:\n",
    "            train_loss_list.append(loss.item())\n",
    "            train_acc_list.append(correct/len(target))\n",
    "            print(f\"loss: {loss.item():>7f} [{batch*len(input)}/{len(train_loader.dataset)}] - Accuracy: {correct/len(target)}\")\n",
    "            if loss.item()>last_loss+last_loss*0.8:\n",
    "                running=False\n",
    "            else :\n",
    "                last_loss=loss.item()\n",
    "            #correct=0\n",
    "    epoch = epoch + 1\n",
    "\n",
    "\n",
    "\n"
   ]
  },
  {
   "cell_type": "code",
   "execution_count": 18,
   "metadata": {},
   "outputs": [
    {
     "data": {
      "image/png": "[encoded data removed]",
      "text/plain": [
       "<Figure size 432x288 with 1 Axes>"
      ]
     },
     "metadata": {
      "needs_background": "light"
     },
     "output_type": "display_data"
    },
    {
     "data": {
      "image/png": "[encoded data removed]",
      "text/plain": [
       "<Figure size 432x288 with 1 Axes>"
      ]
     },
     "metadata": {
      "needs_background": "light"
     },
     "output_type": "display_data"
    }
   ],
   "source": [
    "plt.plot(train_loss_list)\n",
    "#plt.xticks(range(0, len(l_list)))\n",
    "plt.xlabel(\"Iteration\")\n",
    "plt.ylabel(\"Loss\")\n",
    "plt.title('Loss change during training')\n",
    "plt.show()\n",
    "\n",
    "\n",
    "plt.plot(train_acc_list)\n",
    "#plt.xticks(range(0, len(l_list)))\n",
    "plt.xlabel(\"Iteration\")\n",
    "plt.ylabel(\"Accuracy\")\n",
    "plt.title('Accuracy change during training')\n",
    "plt.show()"
   ]
  },
  {
   "cell_type": "markdown",
   "metadata": {},
   "source": [
    "## Experiment ##\n",
    "\n",
    "### What happens when the data (imgs) does not make sense anymore - all assumptions are removed ###"
   ]
  },
  {
   "cell_type": "code",
   "execution_count": 19,
   "metadata": {},
   "outputs": [
    {
     "data": {
      "image/png": "[encoded data removed]",
      "text/plain": [
       "<Figure size 1152x864 with 20 Axes>"
      ]
     },
     "metadata": {
      "needs_background": "light"
     },
     "output_type": "display_data"
    }
   ],
   "source": [
    "perm = torch.randperm(784)\n",
    "plt.figure(figsize=(16, 12))\n",
    "for i in range(10):\n",
    "    image, _ = train_loader.dataset[i]\n",
    "    # permute pixels\n",
    "    image_perm = image.view(-1, 28*28).clone()\n",
    "    image_perm = image_perm[:, perm]\n",
    "    image_perm = image_perm.view(-1, 1, 28, 28)\n",
    "    plt.subplot(4, 5, i + 1)\n",
    "    plt.imshow(image.squeeze().numpy())\n",
    "    plt.axis('off')\n",
    "    plt.subplot(4, 5, i + 11)\n",
    "    plt.imshow(image_perm.squeeze().numpy())\n",
    "    plt.axis('off')"
   ]
  },
  {
   "cell_type": "code",
   "execution_count": 20,
   "metadata": {},
   "outputs": [
    {
     "name": "stdout",
     "output_type": "stream",
     "text": [
      "Train Epoch: 0 [0/60000 (0%)]\tLoss: 2.317741 - Accuracy: 0.109375\n",
      "Train Epoch: 0 [6400/60000 (11%)]\tLoss: 2.287796 - Accuracy: 0.21875\n",
      "Train Epoch: 0 [12800/60000 (21%)]\tLoss: 2.260956 - Accuracy: 0.25\n",
      "Train Epoch: 0 [19200/60000 (32%)]\tLoss: 2.085322 - Accuracy: 0.5\n",
      "Train Epoch: 0 [25600/60000 (43%)]\tLoss: 1.575283 - Accuracy: 0.453125\n",
      "Train Epoch: 0 [32000/60000 (53%)]\tLoss: 1.076320 - Accuracy: 0.65625\n",
      "Train Epoch: 0 [38400/60000 (64%)]\tLoss: 0.921412 - Accuracy: 0.703125\n",
      "Train Epoch: 0 [44800/60000 (75%)]\tLoss: 0.889015 - Accuracy: 0.71875\n",
      "Train Epoch: 0 [51200/60000 (85%)]\tLoss: 0.502713 - Accuracy: 0.859375\n",
      "Train Epoch: 0 [57600/60000 (96%)]\tLoss: 0.475019 - Accuracy: 0.84375\n",
      "\n",
      "Test set: Average loss: 0.5499, Accuracy: 8247/10000 (82%)\n",
      "\n"
     ]
    }
   ],
   "source": [
    "# Training settings \n",
    "n_features = 6 # number of feature maps\n",
    "\n",
    "model_cnn = CNN(input_size, n_features, output_size)\n",
    "model_cnn.to(device)\n",
    "optimizer = optim.SGD(model_cnn.parameters(), lr=0.01, momentum=0.5)\n",
    "\n",
    "for epoch in range(0, 1):\n",
    "    train(epoch, model_cnn, perm)\n",
    "    test(model_cnn, perm)"
   ]
  },
  {
   "cell_type": "markdown",
   "metadata": {},
   "source": [
    "## Do the same with the MLP ##"
   ]
  },
  {
   "cell_type": "code",
   "execution_count": 21,
   "metadata": {},
   "outputs": [
    {
     "name": "stdout",
     "output_type": "stream",
     "text": [
      "Number of parameters: 6422\n",
      "Epoch: 0\n",
      "loss: 2.310866 [0/60000] - Accuracy: 0.078125\n",
      "loss: 2.286028 [6400/60000] - Accuracy: 0.25\n",
      "loss: 2.273604 [12800/60000] - Accuracy: 0.28125\n",
      "loss: 2.254966 [19200/60000] - Accuracy: 0.28125\n",
      "loss: 2.237976 [25600/60000] - Accuracy: 0.28125\n",
      "loss: 2.214057 [32000/60000] - Accuracy: 0.421875\n",
      "loss: 2.167281 [38400/60000] - Accuracy: 0.484375\n",
      "loss: 2.178395 [44800/60000] - Accuracy: 0.359375\n",
      "loss: 2.081311 [51200/60000] - Accuracy: 0.59375\n",
      "loss: 2.083690 [57600/60000] - Accuracy: 0.53125\n",
      "Epoch: 1\n",
      "loss: 2.098747 [0/60000] - Accuracy: 0.5625\n",
      "loss: 2.009391 [6400/60000] - Accuracy: 0.578125\n",
      "loss: 1.960016 [12800/60000] - Accuracy: 0.546875\n",
      "loss: 1.938747 [19200/60000] - Accuracy: 0.5625\n",
      "loss: 1.783260 [25600/60000] - Accuracy: 0.65625\n",
      "loss: 1.872834 [32000/60000] - Accuracy: 0.5\n",
      "loss: 1.644702 [38400/60000] - Accuracy: 0.6875\n",
      "loss: 1.657645 [44800/60000] - Accuracy: 0.546875\n",
      "loss: 1.712451 [51200/60000] - Accuracy: 0.578125\n",
      "loss: 1.490619 [57600/60000] - Accuracy: 0.640625\n",
      "Epoch: 2\n",
      "loss: 1.587803 [0/60000] - Accuracy: 0.59375\n",
      "loss: 1.471063 [6400/60000] - Accuracy: 0.59375\n",
      "loss: 1.263239 [12800/60000] - Accuracy: 0.703125\n",
      "loss: 1.289750 [19200/60000] - Accuracy: 0.71875\n",
      "loss: 1.214531 [25600/60000] - Accuracy: 0.6875\n",
      "loss: 1.352722 [32000/60000] - Accuracy: 0.65625\n",
      "loss: 1.166807 [38400/60000] - Accuracy: 0.703125\n",
      "loss: 1.165654 [44800/60000] - Accuracy: 0.640625\n",
      "loss: 1.068446 [51200/60000] - Accuracy: 0.6875\n",
      "loss: 1.134139 [57600/60000] - Accuracy: 0.6875\n",
      "Epoch: 3\n",
      "loss: 0.969272 [0/60000] - Accuracy: 0.78125\n",
      "loss: 1.143003 [6400/60000] - Accuracy: 0.703125\n",
      "loss: 1.120108 [12800/60000] - Accuracy: 0.65625\n",
      "loss: 0.975617 [19200/60000] - Accuracy: 0.8125\n",
      "loss: 0.806718 [25600/60000] - Accuracy: 0.8125\n",
      "loss: 0.853481 [32000/60000] - Accuracy: 0.78125\n",
      "loss: 0.958485 [38400/60000] - Accuracy: 0.75\n",
      "loss: 0.939715 [44800/60000] - Accuracy: 0.703125\n",
      "loss: 0.796363 [51200/60000] - Accuracy: 0.765625\n",
      "loss: 0.910137 [57600/60000] - Accuracy: 0.71875\n"
     ]
    }
   ],
   "source": [
    "# create network, train, compare!\n",
    "perm = torch.randperm(784)\n",
    "\n",
    "model = FCNN(28,28,10) #width, height,class_size\n",
    "model.to(device)\n",
    "loss_fun=nn.CrossEntropyLoss()\n",
    "optimizer = torch.optim.SGD(model.parameters(),lr=0.001)#params, learning rate\n",
    "\n",
    "print('Number of parameters: {}'.format(sum(p.numel() for p in model_cnn.parameters() if p.requires_grad)))\n",
    "\n",
    "\n",
    "last_loss=100 #should be sys.maxint\n",
    "running =True\n",
    "train_loss_list=[]\n",
    "train_acc_list=[]\n",
    "correct=0\n",
    "\n",
    "for epoch in range(0,4):\n",
    "    print(f\"Epoch: {epoch}\")\n",
    "    \n",
    "    for batch, (input,target) in enumerate(train_loader):\n",
    "        input,target=input.to(device),target.to(device) # extract vars from data point\n",
    "        \n",
    "        for i in range(0,len(input)):\n",
    "            # permute pixels\n",
    "            image_perm = image.view(-1, 28*28).clone()\n",
    "            image_perm = image_perm[:, perm]\n",
    "            image_perm = image_perm.view(-1, 1, 28, 28)\n",
    "        \n",
    "        output = model(input)\n",
    "        loss = loss_fun(output,target)   \n",
    "        \n",
    "        #backprop\n",
    "        optimizer.zero_grad()\n",
    "        loss.backward()\n",
    "        optimizer.step()\n",
    "        pred = output.data.max(1, keepdim=True)[1] # get the index of the max log-probability\n",
    "        correct = pred.eq(target.data.view_as(pred)).cpu().sum().item()\n",
    "        \n",
    "        if batch %100 == 0:\n",
    "            train_loss_list.append(loss.item())\n",
    "            train_acc_list.append(correct/len(target))\n",
    "            print(f\"loss: {loss.item():>7f} [{batch*len(input)}/{len(train_loader.dataset)}] - Accuracy: {correct/len(target)}\")\n",
    "            if loss.item()>last_loss+last_loss*0.8:\n",
    "                running=False\n",
    "            else :\n",
    "                last_loss=loss.item()\n",
    "            #correct=0\n",
    "    epoch = epoch + 1\n"
   ]
  },
  {
   "cell_type": "code",
   "execution_count": 22,
   "metadata": {},
   "outputs": [
    {
     "data": {
      "image/png": "[encoded data removed]",
      "text/plain": [
       "<Figure size 432x288 with 1 Axes>"
      ]
     },
     "metadata": {
      "needs_background": "light"
     },
     "output_type": "display_data"
    },
    {
     "data": {
      "image/png": "[encoded data removed]",
      "text/plain": [
       "<Figure size 432x288 with 1 Axes>"
      ]
     },
     "metadata": {
      "needs_background": "light"
     },
     "output_type": "display_data"
    }
   ],
   "source": [
    "plt.plot(train_loss_list)\n",
    "#plt.xticks(range(0, len(l_list)))\n",
    "plt.xlabel(\"Iteration\")\n",
    "plt.ylabel(\"Loss\")\n",
    "plt.title('Loss change during training')\n",
    "plt.show()\n",
    "\n",
    "\n",
    "plt.plot(train_acc_list)\n",
    "#plt.xticks(range(0, len(l_list)))\n",
    "plt.xlabel(\"Iteration\")\n",
    "plt.ylabel(\"Accuracy\")\n",
    "plt.title('Accuracy change during training')\n",
    "plt.show()"
   ]
  },
  {
   "cell_type": "markdown",
   "metadata": {},
   "source": [
    "## What to do next? ##\n",
    "\n",
    "- Change the task\n",
    "- upload your handwriten work.\n",
    "- Fine-tune the network so it learn your handwritting?"
   ]
  },
  {
   "cell_type": "code",
   "execution_count": null,
   "metadata": {},
   "outputs": [],
   "source": []
  },
  {
   "cell_type": "code",
   "execution_count": null,
   "metadata": {},
   "outputs": [],
   "source": []
  }
 ],
 "metadata": {
  "kernelspec": {
   "display_name": "Python [conda env:AMLdl] *",
   "language": "python",
   "name": "conda-env-AMLdl-py"
  },
  "language_info": {
   "codemirror_mode": {
    "name": "ipython",
    "version": 3
   },
   "file_extension": ".py",
   "mimetype": "text/x-python",
   "name": "python",
   "nbconvert_exporter": "python",
   "pygments_lexer": "ipython3",
   "version": "3.8.5"
  }
 },
 "nbformat": 4,
 "nbformat_minor": 4
}
