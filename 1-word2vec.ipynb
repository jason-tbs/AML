{
 "cells": [
  {
   "cell_type": "markdown",
   "metadata": {},
   "source": [
    "## Word2Vec ## \n",
    "\n",
    "In this notebook we will go through the step by step creation of the Continouous Bag Of Words (CBOW).\n",
    "CBOW is an embedded model that makes use of a \"fake task\" -> [within short window, predict the current word] to extract a vector that shows the relationship between words."
   ]
  },
  {
   "cell_type": "markdown",
   "metadata": {},
   "source": [
    "### Continuous Bag Of Words ###\n",
    "\n",
    "Adapted from Robert Guthrie"
   ]
  },
  {
   "cell_type": "code",
   "execution_count": 1,
   "metadata": {},
   "outputs": [],
   "source": [
    "import math\n",
    "import torch\n",
    "import torch.nn as nn\n",
    "import torch.nn.functional as F\n",
    "import torch.optim as optim\n",
    "import torch.linalg"
   ]
  },
  {
   "cell_type": "code",
   "execution_count": 2,
   "metadata": {},
   "outputs": [
    {
     "data": {
      "text/plain": [
       "device(type='cuda')"
      ]
     },
     "execution_count": 2,
     "metadata": {},
     "output_type": "execute_result"
    }
   ],
   "source": [
    "device = torch.device(\"cuda\" if torch.cuda.is_available() else \"cpu\")\n",
    "device"
   ]
  },
  {
   "cell_type": "code",
   "execution_count": 3,
   "metadata": {},
   "outputs": [
    {
     "name": "stdout",
     "output_type": "stream",
     "text": [
      "152\n",
      "106\n"
     ]
    }
   ],
   "source": [
    "# CBOW is a window view; we are trying to infer the word in the middle.\n",
    "CONTEXT_SIZE = 2  # 2 words to the left, 2 to the right\n",
    "\n",
    "raw_text= \"\"\"Long Short-Term Memory (LSTM) is a recurrent neural network (RNN) architecture that has been designed\n",
    "to address the vanishing and exploding gradient problems of conventional RNNs. Unlike feedforward neural networks,\n",
    "RNNs have cyclic connections making them powerful for modeling sequences. \n",
    "They have been successfully used for sequence labeling and sequence prediction tasks,\n",
    "such as handwriting recognition, language modeling, phonetic labeling of acoustic frames. However, in contrast to the deep neural\n",
    "networks, the use of RNNs in speech recognition has been limited to phone recognition in small scale tasks. \n",
    "In this paper, we present novel LSTM based RNN architectures which make more effective\n",
    "use of model parameters to train acoustic models for large vocabulary speech recognition. \n",
    "We train and compare LSTM, RNN and DNN models at various numbers of parameters and configurations.\n",
    "We show that LSTM models converge quickly and give state of the art speech recognition performance for relatively small sized models.\"\"\".split()\n",
    "\n",
    "# By deriving a set from \"raw_text\", we deduplicate the array\n",
    "vocab = set(raw_text)\n",
    "vocab_size = len(vocab)\n",
    "\n",
    "# Basic Tokenizer\n",
    "word_to_ix = {word: i for i, word in enumerate(vocab)}\n",
    "\n",
    "print(len(raw_text))\n",
    "print(vocab_size)"
   ]
  },
  {
   "cell_type": "code",
   "execution_count": 4,
   "metadata": {},
   "outputs": [
    {
     "name": "stdout",
     "output_type": "stream",
     "text": [
      "[(['Long', 'Short-Term', '(LSTM)', 'is'], 'Memory'), (['Short-Term', 'Memory', 'is', 'a'], '(LSTM)'), (['Memory', '(LSTM)', 'a', 'recurrent'], 'is'), (['(LSTM)', 'is', 'recurrent', 'neural'], 'a'), (['is', 'a', 'neural', 'network'], 'recurrent')]\n"
     ]
    }
   ],
   "source": [
    "# Now lets create a \"dataset\"\n",
    "data = []\n",
    "for i in range(CONTEXT_SIZE, len(raw_text) - CONTEXT_SIZE):\n",
    "    context = []\n",
    "    for j in range(CONTEXT_SIZE, 0, -1):\n",
    "        context.append(raw_text[i - j])\n",
    "\n",
    "    for j in range(1, CONTEXT_SIZE + 1):\n",
    "        context.append(raw_text[i + j])\n",
    "        \n",
    "    target = raw_text[i]\n",
    "    data.append((context, target))\n",
    "print(data[:5])\n"
   ]
  },
  {
   "cell_type": "markdown",
   "metadata": {},
   "source": [
    "### Create the CBOW Model (as we have seen already other ANN) ###\n",
    "\n",
    "We have to extend from nn.Module as all the other ANN"
   ]
  },
  {
   "cell_type": "code",
   "execution_count": 5,
   "metadata": {},
   "outputs": [],
   "source": [
    "class CBOW(nn.Module):\n",
    "\n",
    "    def __init__(self, vocab_size, embed_dim, context, hidden_size):\n",
    "        super(CBOW, self).__init__()\n",
    "        self.embedding = nn.Embedding(vocab_size, embed_dim)\n",
    "        self.linear = nn.Sequential(\n",
    "            nn.Linear(context*embed_dim, hidden_size),\n",
    "            nn.ReLU(),\n",
    "            nn.Linear(hidden_size, vocab_size),\n",
    "            nn.LogSoftmax(dim = -1)\n",
    "        )\n",
    "        \n",
    "    def forward(self, inputs):\n",
    "#         print(inputs.shape)\n",
    "#         print(inputs)\n",
    "        out = self.embedding(inputs)\n",
    "#         print(out.shape)\n",
    "        out = out.view(1, -1)\n",
    "#         print(out.shape)\n",
    "        out = self.linear(out)\n",
    "#         print(out.shape)\n",
    "        return out\n",
    "    \n",
    "    # This is what we are actually interested on\n",
    "    def get_word_vector(self, word):\n",
    "        out = self.embedding(word)\n",
    "        return out\n"
   ]
  },
  {
   "cell_type": "markdown",
   "metadata": {},
   "source": [
    "#### Lets break it down! ####"
   ]
  },
  {
   "cell_type": "code",
   "execution_count": 6,
   "metadata": {},
   "outputs": [
    {
     "name": "stdout",
     "output_type": "stream",
     "text": [
      "tensor([[  0,  60,  31,  54],\n",
      "        [ 34,  16,   6,  60],\n",
      "        [ 61,  26,  72, 101],\n",
      "        [ 98,  87,  81,  52],\n",
      "        [ 97,  50,  86,  47],\n",
      "        [ 66,  75,   0,  72]])\n",
      "torch.Size([6, 4])\n"
     ]
    }
   ],
   "source": [
    "VOCAB_SIZE = len(vocab)\n",
    "EMBEDD_DIM = 10\n",
    "BATCH_SIZE = 6\n",
    "FULL_CONTEXT_SIZE = CONTEXT_SIZE * 2\n",
    "HIDDEN_SIZE = 256\n",
    "\n",
    "example_tensor = torch.randint(0, VOCAB_SIZE, [BATCH_SIZE, FULL_CONTEXT_SIZE])\n",
    "print(example_tensor)\n",
    "print(example_tensor.shape)"
   ]
  },
  {
   "cell_type": "code",
   "execution_count": 7,
   "metadata": {},
   "outputs": [
    {
     "name": "stdout",
     "output_type": "stream",
     "text": [
      "torch.Size([6, 4, 10])\n",
      "torch.Size([6, 40])\n"
     ]
    }
   ],
   "source": [
    "CBOW_embedding = nn.Embedding(VOCAB_SIZE, EMBEDD_DIM)\n",
    "example_result = CBOW_embedding(example_tensor)\n",
    "\n",
    "# Now we have a representation of the words in a vector of EMBEDD_DIM Dimensions\n",
    "print(example_result.shape) # [batch_size, context_size*2, EMBEDD_DIM]\n",
    "\n",
    "# example_result = torch.flatten(example_result, start_dim=1)\n",
    "example_result = example_result.view(BATCH_SIZE, -1)\n",
    "print(example_result.shape)"
   ]
  },
  {
   "cell_type": "code",
   "execution_count": 8,
   "metadata": {},
   "outputs": [
    {
     "name": "stdout",
     "output_type": "stream",
     "text": [
      "torch.Size([6, 256])\n"
     ]
    }
   ],
   "source": [
    "CBOW_hidden = nn.Linear(EMBEDD_DIM * FULL_CONTEXT_SIZE, HIDDEN_SIZE)\n",
    "CBOW_hidden_relu = nn.ReLU()\n",
    "\n",
    "example_result = CBOW_hidden(example_result)\n",
    "example_result = CBOW_hidden_relu(example_result)\n",
    "print(example_result.shape)"
   ]
  },
  {
   "cell_type": "code",
   "execution_count": 9,
   "metadata": {},
   "outputs": [
    {
     "name": "stdout",
     "output_type": "stream",
     "text": [
      "torch.Size([6, 106])\n"
     ]
    }
   ],
   "source": [
    "CBOW_output = nn.Linear(HIDDEN_SIZE, VOCAB_SIZE)\n",
    "CBOW_output_soft = nn.LogSoftmax(dim = -1)\n",
    "\n",
    "example_result = CBOW_output(example_result)\n",
    "example_result = CBOW_output_soft(example_result)\n",
    "print(example_result.shape) # 106 (vocab_size) -> [0.002, 0.003, 0.02, ... , n] see which one of the elements are the highest"
   ]
  },
  {
   "cell_type": "code",
   "execution_count": 10,
   "metadata": {},
   "outputs": [
    {
     "name": "stdout",
     "output_type": "stream",
     "text": [
      "tensor(72)\n",
      "tensor([-4.7508, -4.3116, -4.8388, -4.9742, -4.7032, -4.9129, -4.4857, -4.8750,\n",
      "        -4.9746, -4.8454, -4.7147, -4.7026, -4.6719, -4.7485, -4.9168, -4.9041,\n",
      "        -5.0626, -4.6345, -4.3543, -4.4781, -4.8308, -4.8335, -5.0236, -4.7701,\n",
      "        -4.5072, -4.8972, -4.6358, -4.4334, -4.4260, -4.8470, -4.5422, -4.5713,\n",
      "        -4.5250, -4.9929, -4.7054, -4.8444, -4.2976, -4.6372, -4.7281, -4.6088,\n",
      "        -4.5065, -4.3125, -4.7630, -5.0298, -4.3554, -4.3312, -4.5655, -4.9850,\n",
      "        -4.5924, -4.2130, -4.8103, -4.3189, -4.4505, -5.0468, -4.8018, -4.5481,\n",
      "        -5.2290, -4.6892, -4.6284, -4.5324, -4.4145, -4.8371, -4.6775, -4.3782,\n",
      "        -5.1181, -4.8188, -5.2095, -4.5977, -4.4670, -4.4855, -5.0328, -4.6065,\n",
      "        -4.1777, -4.9149, -4.5627, -4.7859, -4.5433, -4.9432, -4.7474, -4.9997,\n",
      "        -4.9390, -4.5285, -5.0326, -4.9508, -4.4573, -4.6170, -4.3230, -4.6923,\n",
      "        -4.6697, -4.4527, -4.7838, -4.7805, -4.7263, -4.6637, -4.4790, -4.5909,\n",
      "        -4.4835, -4.9858, -4.4721, -4.8382, -4.4565, -4.6294, -4.5292, -4.4722,\n",
      "        -4.9131, -5.1941], grad_fn=<SelectBackward>)\n",
      "tensor(20)\n",
      "tensor([-4.8572, -4.6254, -4.7137, -4.7769, -4.4937, -4.6866, -4.8342, -4.7764,\n",
      "        -4.6569, -4.6304, -4.8307, -4.5109, -4.3508, -5.0748, -4.6740, -5.0844,\n",
      "        -4.5743, -5.0742, -4.2960, -4.2284, -4.1847, -4.7602, -4.7151, -4.9170,\n",
      "        -4.7155, -5.0562, -4.6128, -4.2751, -4.9749, -4.9222, -4.7807, -4.4899,\n",
      "        -4.5447, -4.9065, -4.5504, -4.7330, -4.8152, -4.5253, -4.9553, -4.9588,\n",
      "        -4.2231, -4.3228, -4.5606, -4.8117, -4.3149, -4.6803, -4.7998, -4.6359,\n",
      "        -5.1706, -4.5910, -4.5859, -4.2993, -4.8385, -4.7749, -4.6991, -4.8718,\n",
      "        -4.6535, -4.5968, -4.4151, -4.3382, -4.6911, -4.7996, -4.5710, -4.5520,\n",
      "        -4.7702, -4.5685, -4.8383, -4.9620, -5.1710, -4.5792, -4.9614, -4.5076,\n",
      "        -4.2822, -5.2137, -4.4894, -4.9181, -4.5917, -4.7111, -4.7930, -4.8134,\n",
      "        -4.6660, -4.7168, -5.4038, -4.5836, -5.1223, -4.5737, -4.5759, -4.6585,\n",
      "        -4.7421, -4.5627, -4.5086, -4.9979, -4.6550, -5.0464, -4.5249, -4.5067,\n",
      "        -4.4332, -4.6135, -4.7240, -4.8838, -4.7014, -4.5063, -4.4735, -4.3636,\n",
      "        -5.0442, -4.5648], grad_fn=<SelectBackward>)\n"
     ]
    }
   ],
   "source": [
    "print(example_result[0].argmax(-1))\n",
    "print(example_result[0])\n",
    "print(example_result[1].argmax(-1))\n",
    "print(example_result[1])\n",
    "# print(example_result[2].argmax(-1))\n",
    "# print(example_result[3].argmax(-1))\n",
    "# print(example_result[4].argmax(-1))"
   ]
  },
  {
   "cell_type": "markdown",
   "metadata": {},
   "source": [
    "## Back to the notebook ##"
   ]
  },
  {
   "cell_type": "code",
   "execution_count": 11,
   "metadata": {},
   "outputs": [
    {
     "data": {
      "text/plain": [
       "tensor([63, 89, 33, 60])"
      ]
     },
     "execution_count": 11,
     "metadata": {},
     "output_type": "execute_result"
    }
   ],
   "source": [
    "# Simple helper method to transform the context to the expected int vector - tensor\n",
    "\n",
    "def make_context_vector(context, word_to_ix):\n",
    "    idxs = [word_to_ix[w] for w in context]\n",
    "    return torch.tensor(idxs, dtype=torch.long)\n",
    "\n",
    "make_context_vector(data[0][0], word_to_ix)"
   ]
  },
  {
   "cell_type": "code",
   "execution_count": 12,
   "metadata": {},
   "outputs": [],
   "source": [
    "def train(model, epochs, data, optimizer, loss_fn):\n",
    "    model.train()\n",
    "    losses = []\n",
    "    for epoch in range(epochs):\n",
    "        total_loss = 0\n",
    "        for context, target in data:\n",
    "\n",
    "            # Prepare inputs and targets \n",
    "            context_idxs = make_context_vector(context, word_to_ix)\n",
    "            context_idxs = context_idxs.to(device)\n",
    "            \n",
    "            target_id = make_context_vector([target], word_to_ix)\n",
    "            target_id = target_id.to(device)\n",
    "\n",
    "            # Do not accumulate \n",
    "            model.zero_grad()\n",
    "\n",
    "            # Step 3. Run the forward pass\n",
    "            log_probs = model(context_idxs)\n",
    "    #         break\n",
    "\n",
    "            # Step 4. Compute your loss function.\n",
    "            loss = loss_fn(log_probs, target_id)\n",
    "\n",
    "    #         loss = loss_function(log_probs, torch.tensor([word_to_ix[target]], dtype=torch.long))\n",
    "\n",
    "            # Step 5. Do the backward pass and update the gradient\n",
    "            loss.backward()\n",
    "            optimizer.step()\n",
    "\n",
    "            # Get the Python number from a 1-element Tensor by calling tensor.item()\n",
    "            total_loss += loss.item()\n",
    "        losses.append(total_loss)\n",
    "    return losses\n",
    "    "
   ]
  },
  {
   "cell_type": "code",
   "execution_count": 13,
   "metadata": {},
   "outputs": [
    {
     "name": "stdout",
     "output_type": "stream",
     "text": [
      "[696.5410079956055, 690.024829864502, 683.5933752059937, 677.2429785728455, 670.9677383899689, 664.7610003948212, 658.6181926727295, 652.5369682312012, 646.5131125450134, 640.5408644676208, 634.617128610611, 628.7403244972229, 622.905074596405, 617.1078517436981, 611.3453333377838, 605.6135358810425, 599.9097530841827, 594.2266871929169, 588.5661828517914, 582.9253082275391, 577.3002414703369, 571.6864535808563, 566.0819356441498, 560.4866931438446, 554.8949990272522, 549.3098056316376, 543.7241456508636, 538.1383891105652, 532.5465577840805, 526.9513831138611, 521.3494460582733, 515.7381641864777, 510.11786460876465, 504.48786973953247, 498.8487138748169, 493.19515311717987, 487.5297852754593, 481.8497380018234, 476.15810215473175, 470.4516968727112, 464.7282450199127, 458.98999309539795, 453.23730194568634, 447.46762907505035, 441.68490517139435, 435.8833876848221, 430.0674341917038, 424.2374038696289, 418.395822763443, 412.5411710739136, 406.6766719222069, 400.80423736572266, 394.9221847653389, 389.0358395576477, 383.14311587810516, 377.24887520074844, 371.34881925582886, 365.4499277472496, 359.5538091659546, 353.6596034169197, 347.77479714155197, 341.8949018716812, 336.0276370048523, 330.1701010465622, 324.3284515738487, 318.497838973999, 312.6872178912163, 306.89840975403786, 301.13363590836525, 295.3913076221943, 289.678239941597, 283.995318621397, 278.34655153751373, 272.7345143556595, 267.1595195233822, 261.62402790784836, 256.13148990273476, 250.6884707212448, 245.29331794381142, 239.9506770670414, 234.6649091243744, 229.4366092979908, 224.26878517866135, 219.1601728796959, 214.11755350232124, 209.14011698961258, 204.23350286483765, 199.39566326141357, 194.63213929533958, 189.9389464855194, 185.32444214820862, 180.78462263941765, 176.32476276159286, 171.94356961548328, 167.64174795150757, 163.42348644137383, 159.28441680967808, 155.23191882669926, 151.26118099689484, 147.3762816786766]\n"
     ]
    }
   ],
   "source": [
    "VOCAB_SIZE = len(vocab)\n",
    "EMBEDD_DIM = 10\n",
    "BATCH_SIZE = 6\n",
    "FULL_CONTEXT_SIZE = CONTEXT_SIZE * 2\n",
    "HIDDEN_SIZE = 256\n",
    "\n",
    "loss_function = nn.NLLLoss() # Because we are using Log_softmax\n",
    "model = CBOW(vocab_size, EMBEDD_DIM, FULL_CONTEXT_SIZE, HIDDEN_SIZE)\n",
    "model = model.to(device)\n",
    "optimizer = optim.SGD(model.parameters(), lr=0.001)\n",
    "\n",
    "losses = train(model, 100, data, optimizer, loss_function)\n",
    "model.eval()\n",
    "\n",
    "print(losses)  # The loss decreased every iteration over the training data!"
   ]
  },
  {
   "cell_type": "code",
   "execution_count": 14,
   "metadata": {},
   "outputs": [],
   "source": [
    "# list out keys and values separately\n",
    "key_list = list(word_to_ix.keys())\n",
    "val_list = list(word_to_ix.values())"
   ]
  },
  {
   "cell_type": "code",
   "execution_count": 15,
   "metadata": {},
   "outputs": [],
   "source": [
    "def similarity_cbow(word_1, word_2):\n",
    "    \n",
    "    # test word similarity\n",
    "    print(word_1)\n",
    "    print(word_2)\n",
    "    w1_id = torch.tensor(word_to_ix[word_1], dtype=torch.long)\n",
    "    w2_id = torch.tensor(word_to_ix[word_2], dtype=torch.long)\n",
    "    w1_id = w1_id.to(device)\n",
    "    w2_id = w2_id.to(device)\n",
    "    \n",
    "    word_1_vec = model.get_word_vector(w1_id)\n",
    "    word_2_vec = model.get_word_vector(w2_id)\n",
    "    \n",
    "    # The norm of a vector (1D-matrix) is the square root of the sum of all the squared values within the vector.\n",
    "    print(math.sqrt(torch.square(word_1_vec).sum()))    \n",
    "    print(torch.linalg.norm(word_1_vec))\n",
    "    print(torch.linalg.norm(word_2_vec))\n",
    "    print(word_1_vec.dot(word_2_vec))\n",
    "    \n",
    "    word_distance = torch.linalg.norm(word_1_vec - word_2_vec)\n",
    "    print(\"Distance between '{}' & '{}' : {:0.4f}\".format(word_1, word_2, word_distance))\n",
    "    word_similarity = (word_1_vec.dot(word_2_vec) / (torch.linalg.norm(word_1_vec) * torch.linalg.norm(word_2_vec)))\n",
    "    print(\"Similarity between '{}' & '{}' : {:0.4f}\".format(word_1, word_2, word_similarity))\n"
   ]
  },
  {
   "cell_type": "code",
   "execution_count": 16,
   "metadata": {},
   "outputs": [
    {
     "name": "stdout",
     "output_type": "stream",
     "text": [
      "neural\n",
      "network\n",
      "3.9110193052739572\n",
      "tensor(3.9110, device='cuda:0', grad_fn=<CopyBackwards>)\n",
      "tensor(3.1197, device='cuda:0', grad_fn=<CopyBackwards>)\n",
      "tensor(4.2350, device='cuda:0', grad_fn=<DotBackward>)\n",
      "Distance between 'neural' & 'network' : 4.0692\n",
      "Similarity between 'neural' & 'network' : 0.3471\n"
     ]
    }
   ],
   "source": [
    "similarity_cbow(\"neural\", \"network\")"
   ]
  },
  {
   "cell_type": "code",
   "execution_count": 17,
   "metadata": {},
   "outputs": [],
   "source": [
    "def predict_middle_word(prev_words, post_words):\n",
    "    prev_words = prev_words.split()\n",
    "    post_words = post_words.split()\n",
    "\n",
    "    input_words= make_context_vector(prev_words + post_words, word_to_ix)\n",
    "    input_words = input_words.to(device)\n",
    "    output = model(input_words)\n",
    "    out_ind = output.argmax(1)\n",
    "#     print(word_to_ix)\n",
    "#     out_word = word_to_ix.itos[out_ind.item()]\n",
    "    out_word = key_list[val_list.index(out_ind.item())]\n",
    "    print(out_word)"
   ]
  },
  {
   "cell_type": "code",
   "execution_count": 18,
   "metadata": {},
   "outputs": [
    {
     "name": "stdout",
     "output_type": "stream",
     "text": [
      "neural\n",
      "a\n"
     ]
    }
   ],
   "source": [
    "predict_middle_word(\"a recurrent\", \"network is\")\n",
    "predict_middle_word(\"LSTM is\", \"recurrent neural\")"
   ]
  },
  {
   "cell_type": "markdown",
   "metadata": {},
   "source": [
    "### Now that you saw how to create the CBOW model (word2vec), you should work on doing the \"opposite\" model, Skip-Gram ###\n",
    "\n",
    "Skip-gram as you saw on the lectures, reverses the problem so you need to predict through the \"fake task\" the context of the input"
   ]
  },
  {
   "cell_type": "markdown",
   "metadata": {},
   "source": [
    "# Lab assignment below"
   ]
  },
  {
   "cell_type": "code",
   "execution_count": 19,
   "metadata": {},
   "outputs": [],
   "source": [
    "class Skipgram(nn.Module):\n",
    "    def __init__(self, vocab_size, embed_dim, context,target_size, hidden_size):\n",
    "        super(Skipgram, self).__init__()\n",
    "        self.embedding = nn.Embedding(vocab_size, embed_dim)\n",
    "        self.linear = nn.Sequential(\n",
    "            nn.Linear(embed_dim, hidden_size),\n",
    "            nn.ReLU(),\n",
    "            nn.Linear(hidden_size, vocab_size*target_size),\n",
    "            nn.LogSoftmax(dim = 1)\n",
    "        )\n",
    "        self.target_size=target_size\n",
    "        \n",
    "    def forward(self, inputs):\n",
    "      #  print(\"0\", inputs.shape)\n",
    "#         print(inputs)\n",
    "        out = self.embedding(inputs)\n",
    "     #   print(\"1\", out.shape)\n",
    "        #print(out.shape)\n",
    "        #out = out.view(1, -1)\n",
    "#         print(out.shape)\n",
    "        out = self.linear(out)\n",
    "      #  print(\"2\", out.shape)\n",
    "        out = out.view(self.target_size, -1)\n",
    "      #  print(\"3\", out.shape)\n",
    "        return out\n",
    "    \n",
    "    # This is what we are actually interested on\n",
    "    def get_word_vector(self, word):\n",
    "        out = self.embedding(word)\n",
    "        return out"
   ]
  },
  {
   "cell_type": "code",
   "execution_count": 20,
   "metadata": {},
   "outputs": [],
   "source": [
    "def train(model, epochs, data, optimizer, loss_fn):\n",
    "    model.train()\n",
    "    losses = []\n",
    "    for epoch in range(epochs):\n",
    "        total_loss = 0\n",
    "        for target, context in data:\n",
    "\n",
    "            # Prepare inputs and targets \n",
    "            context_idxs = make_context_vector([context], word_to_ix)\n",
    "            context_idxs = context_idxs.to(device)\n",
    "\n",
    "            target_id = make_context_vector(target, word_to_ix)\n",
    "            target_id = target_id.to(device)\n",
    "            \n",
    "            # Do not accumulate \n",
    "            model.zero_grad()\n",
    "\n",
    "            # Step 3. Run the forward pass\n",
    "            log_probs = model(context_idxs)\n",
    "    #         break\n",
    "\n",
    "            # Step 4. Compute your loss function.\n",
    "            loss = loss_fn(log_probs, target_id)\n",
    "\n",
    "    #       loss = loss_function(log_probs, torch.tensor([word_to_ix[context]], dtype=torch.long))\n",
    "\n",
    "            # Step 5. Do the backward pass and update the gradient\n",
    "            loss.backward()\n",
    "            optimizer.step()\n",
    "\n",
    "            # Get the Python number from a 1-element Tensor by calling tensor.item()\n",
    "            total_loss += loss.item()\n",
    "        losses.append(total_loss)\n",
    "    return losses\n",
    "    "
   ]
  },
  {
   "cell_type": "code",
   "execution_count": 21,
   "metadata": {},
   "outputs": [
    {
     "name": "stdout",
     "output_type": "stream",
     "text": [
      "[899.4872632026672, 895.7377047538757, 892.0125298500061, 888.3110189437866, 884.6314563751221, 880.9740219116211, 877.3364405632019, 873.7178478240967, 870.1160531044006, 866.5306372642517, 862.9610242843628, 859.4066505432129, 855.8679509162903, 852.3429064750671, 848.8295178413391, 845.3266372680664, 841.8338770866394, 838.3502655029297, 834.874819278717, 831.4069576263428, 827.9452252388, 824.4900088310242, 821.0399055480957, 817.5947027206421, 814.1534395217896, 810.7163238525391, 807.2818970680237, 803.8498058319092, 800.4193277359009, 796.989794254303, 793.5617184638977, 790.1352472305298, 786.7105660438538, 783.2864217758179, 779.8612594604492, 776.4359555244446, 773.010055065155, 769.5830039978027, 766.153281211853, 762.7231545448303, 759.2903356552124, 755.8557887077332, 752.4176535606384, 748.9777035713196, 745.5344352722168, 742.0883955955505, 738.6394891738892, 735.1867532730103, 731.7312579154968, 728.2709567546844, 724.8076317310333, 721.340815782547, 717.8692309856415, 714.394243478775, 710.916396856308, 707.4336628913879, 703.9480419158936, 700.4593327045441, 696.9674956798553, 693.4729845523834, 689.9759473800659, 686.4755153656006, 682.9726066589355, 679.467485666275, 675.9588341712952, 672.4487788677216, 668.9362986087799, 665.420706987381, 661.9046776294708, 658.3872685432434, 654.8694183826447, 651.3497846126556, 647.8299269676208, 644.3093464374542, 640.7874751091003, 637.266440153122, 633.7456102371216, 630.2261247634888, 626.7082960605621, 623.1908609867096, 619.6769778728485, 616.1652386188507, 612.6552503108978, 609.1484498977661, 605.6445276737213, 602.1466224193573, 598.6527554988861, 595.1637141704559, 591.6816530227661, 588.206068277359, 584.736409664154, 581.2744090557098, 577.8209180831909, 574.3757908344269, 570.9409000873566, 567.5158431529999, 564.1016066074371, 560.6990416049957, 557.3074345588684, 553.9296114444733]\n"
     ]
    }
   ],
   "source": [
    "VOCAB_SIZE = len(vocab)\n",
    "EMBEDD_DIM = 106\n",
    "CONTEXT_SIZE = 1\n",
    "HIDDEN_SIZE = 512 # 256\n",
    "TARGET_SIZE = 4\n",
    "\n",
    "loss_function = nn.NLLLoss() # Because we are using \n",
    "model = Skipgram(vocab_size, EMBEDD_DIM, CONTEXT_SIZE, TARGET_SIZE, HIDDEN_SIZE)\n",
    "model = model.to(device)\n",
    "optimizer = optim.SGD(model.parameters(), lr=0.001)\n",
    "\n",
    "losses = train(model, 100, data, optimizer, loss_function)\n",
    "model.eval()\n",
    "\n",
    "print(losses)  # The loss decreased every iteration over the training data!"
   ]
  },
  {
   "cell_type": "code",
   "execution_count": 22,
   "metadata": {},
   "outputs": [],
   "source": [
    "#import matplotlib.pyplot as plt\n",
    "#plt.figure()\n",
    "#plt.plot(losses)"
   ]
  },
  {
   "cell_type": "code",
   "execution_count": 23,
   "metadata": {},
   "outputs": [
    {
     "name": "stdout",
     "output_type": "stream",
     "text": [
      "['paper,', 'in', 'been', 'phone', 'limited', 'Unlike', 'models', 'sequences.', 'modeling,', 'the', 'models.', 'cyclic', 'present', 'such', 'more', 'We', 'which', 'successfully', 'at', 'tasks.', 'feedforward', 'a', 'prediction', 'exploding', 'sized', 'speech', 'However,', 'effective', 'networks,', 'making', 'handwriting', 'labeling', 'to', '(LSTM)', 'vanishing', '(RNN)', 'gradient', 'deep', 'we', 'for', 'train', 'use', 'powerful', 'connections', 'problems', 'state', 'RNN', 'LSTM,', 'them', 'sequence', 'art', 'network', 'recurrent', 'acoustic', 'parameters', 'vocabulary', 'Memory', 'conventional', 'scale', 'numbers', 'is', 'based', 'this', 'Long', 'language', 'has', 'recognition,', 'tasks,', 'recognition', 'used', 'novel', 'of', 'as', 'DNN', 'frames.', 'architectures', 'small', 'contrast', 'They', 'show', 'architecture', 'RNNs', 'make', 'quickly', 'that', 'modeling', 'model', 'and', 'RNNs.', 'Short-Term', 'converge', 'designed', 'compare', 'phonetic', 'relatively', 'large', 'configurations.', 'address', 'give', 'LSTM', 'neural', 'performance', 'various', 'In', 'have', 'recognition.']\n",
      "[0, 1, 2, 3, 4, 5, 6, 7, 8, 9, 10, 11, 12, 13, 14, 15, 16, 17, 18, 19, 20, 21, 22, 23, 24, 25, 26, 27, 28, 29, 30, 31, 32, 33, 34, 35, 36, 37, 38, 39, 40, 41, 42, 43, 44, 45, 46, 47, 48, 49, 50, 51, 52, 53, 54, 55, 56, 57, 58, 59, 60, 61, 62, 63, 64, 65, 66, 67, 68, 69, 70, 71, 72, 73, 74, 75, 76, 77, 78, 79, 80, 81, 82, 83, 84, 85, 86, 87, 88, 89, 90, 91, 92, 93, 94, 95, 96, 97, 98, 99, 100, 101, 102, 103, 104, 105]\n"
     ]
    }
   ],
   "source": [
    "# list out keys and values separately\n",
    "key_list = list(word_to_ix.keys())\n",
    "val_list = list(word_to_ix.values())\n",
    "print(key_list)\n",
    "print(val_list)"
   ]
  },
  {
   "cell_type": "markdown",
   "metadata": {},
   "source": [
    "Reverse cbow and use the middle word to predict the 2 words adjacent to the middle word."
   ]
  },
  {
   "cell_type": "code",
   "execution_count": 24,
   "metadata": {},
   "outputs": [],
   "source": [
    "\"\"\"\n",
    "def predict_middle_word(prev_words, post_words):\n",
    "    prev_words = prev_words.split()\n",
    "    post_words = post_words.split()\n",
    "\n",
    "    input_words= make_context_vector(prev_words + post_words, word_to_ix)\n",
    "    input_words = input_words.to(device)\n",
    "    output = model(input_words)\n",
    "    out_ind = output.argmax(1)\n",
    "#     print(word_to_ix)\n",
    "#     out_word = word_to_ix.itos[out_ind.item()]\n",
    "    out_word = key_list[val_list.index(out_ind.item())]\n",
    "    print(out_word)\n",
    "\n",
    "\"\"\"\n",
    "\n",
    "# Reverse cbow and use the middle word to predict the 2 words adjacent to the middle word.\n",
    "def predict_words(middle_word):\n",
    "    context_words = []\n",
    "    \n",
    "    print(\"Word context:\", middle_word)\n",
    "    input_words = make_context_vector([middle_word], word_to_ix)\n",
    "    input_words = input_words.to(device)\n",
    "    #output = model.get_word_vector(input_words)\n",
    "    output = model(input_words)\n",
    "    prediction = output.argmax(1)\n",
    "   # pred = torch.topk(output, 4) # return the most likely elements/words. https://pytorch.org/docs/stable/generated/torch.topk.html \n",
    "    #print(\"predictions\", prediction)\n",
    "    print(\"oi\", prediction)  \n",
    "    \n",
    "    #for word in prediction[1][0]:\n",
    "    for word in prediction:\n",
    "        print(\"word tensor:\", word)\n",
    "        context_words.append(key_list[word])\n",
    "       # print(\"test\", context_words)\n",
    "    context_words.insert(int(len(context_words)/2), middle_word)\n",
    "    print(\"\\n\", context_words)\n",
    "\n"
   ]
  },
  {
   "cell_type": "code",
   "execution_count": 25,
   "metadata": {},
   "outputs": [
    {
     "name": "stdout",
     "output_type": "stream",
     "text": [
      "Word context: neural\n",
      "oi tensor([ 9, 20, 28,  9], device='cuda:0')\n",
      "word tensor: tensor(9, device='cuda:0')\n",
      "word tensor: tensor(20, device='cuda:0')\n",
      "word tensor: tensor(28, device='cuda:0')\n",
      "word tensor: tensor(9, device='cuda:0')\n",
      "\n",
      " ['the', 'feedforward', 'neural', 'networks,', 'the']\n"
     ]
    }
   ],
   "source": [
    "predict_words(\"neural\")"
   ]
  },
  {
   "cell_type": "code",
   "execution_count": 26,
   "metadata": {},
   "outputs": [
    {
     "data": {
      "text/plain": [
       "'   \\ndef predict_topk(middle_word):\\n    print(\"Word context:\", middle_word)\\n    input_words = make_context_vector([middle_word], word_to_ix)\\n    input_words = input_words.to(device)\\n    output = model.get_word_vector(input_words)\\n    #out_index = output.argmax(1)\\n    \\n    prediction = torch.topk(output, 4) # return the most likely elements/words. https://pytorch.org/docs/stable/generated/torch.topk.html \\n    print(\"predictions\", prediction)\\n  \\n    context_words=[]\\n    for word in prediction[1][0]:\\n        print(\"word tensor\", word)\\n        context_words.append(key_list[word])\\n       # print(\"test\", context_words)\\n    context_words.insert(int(len(context_words)/2), middle_word)\\n    print(context_words)\\n'"
      ]
     },
     "execution_count": 26,
     "metadata": {},
     "output_type": "execute_result"
    }
   ],
   "source": [
    "\"\"\"   \n",
    "def predict_topk(middle_word):\n",
    "    print(\"Word context:\", middle_word)\n",
    "    input_words = make_context_vector([middle_word], word_to_ix)\n",
    "    input_words = input_words.to(device)\n",
    "    output = model.get_word_vector(input_words)\n",
    "    #out_index = output.argmax(1)\n",
    "    \n",
    "    prediction = torch.topk(output, 4) # return the most likely elements/words. https://pytorch.org/docs/stable/generated/torch.topk.html \n",
    "    print(\"predictions\", prediction)\n",
    "  \n",
    "    context_words=[]\n",
    "    for word in prediction[1][0]:\n",
    "        print(\"word tensor\", word)\n",
    "        context_words.append(key_list[word])\n",
    "       # print(\"test\", context_words)\n",
    "    context_words.insert(int(len(context_words)/2), middle_word)\n",
    "    print(context_words)\n",
    "\"\"\"\n"
   ]
  },
  {
   "cell_type": "code",
   "execution_count": 27,
   "metadata": {},
   "outputs": [],
   "source": [
    "#predict_topk(\"neural\")"
   ]
  },
  {
   "cell_type": "code",
   "execution_count": 28,
   "metadata": {},
   "outputs": [],
   "source": [
    "#similarity_cbow(\"neural\", \"network\")"
   ]
  },
  {
   "cell_type": "code",
   "execution_count": null,
   "metadata": {},
   "outputs": [],
   "source": []
  }
 ],
 "metadata": {
  "kernelspec": {
   "display_name": "Python 3 (ipykernel)",
   "language": "python",
   "name": "python3"
  },
  "language_info": {
   "codemirror_mode": {
    "name": "ipython",
    "version": 3
   },
   "file_extension": ".py",
   "mimetype": "text/x-python",
   "name": "python",
   "nbconvert_exporter": "python",
   "pygments_lexer": "ipython3",
   "version": "3.8.5"
  }
 },
 "nbformat": 4,
 "nbformat_minor": 4
}
