{
 "cells": [
  {
   "cell_type": "markdown",
   "metadata": {},
   "source": [
    "## Word2Vec ## \n",
    "\n",
    "In this notebook we will go through the step by step creation of the Continouous Bag Of Words (CBOW).\n",
    "CBOW is an embedded model that makes use of a \"fake task\" -> [within short window, predict the current word] to extract a vector that shows the relationship between words."
   ]
  },
  {
   "cell_type": "markdown",
   "metadata": {},
   "source": [
    "### Continuous Bag Of Words ###\n",
    "\n",
    "Adapted from Robert Guthrie"
   ]
  },
  {
   "cell_type": "code",
   "execution_count": 1,
   "metadata": {},
   "outputs": [],
   "source": [
    "import math\n",
    "import torch\n",
    "import torch.nn as nn\n",
    "import torch.nn.functional as F\n",
    "import torch.optim as optim\n",
    "import torch.linalg"
   ]
  },
  {
   "cell_type": "code",
   "execution_count": 2,
   "metadata": {},
   "outputs": [
    {
     "data": {
      "text/plain": [
       "device(type='cuda')"
      ]
     },
     "execution_count": 2,
     "metadata": {},
     "output_type": "execute_result"
    }
   ],
   "source": [
    "device = torch.device(\"cuda\" if torch.cuda.is_available() else \"cpu\")\n",
    "device"
   ]
  },
  {
   "cell_type": "code",
   "execution_count": 3,
   "metadata": {},
   "outputs": [
    {
     "name": "stdout",
     "output_type": "stream",
     "text": [
      "152\n",
      "106\n"
     ]
    }
   ],
   "source": [
    "# CBOW is a window view; we are trying to infer the word in the middle.\n",
    "CONTEXT_SIZE = 2  # 2 words to the left, 2 to the right\n",
    "\n",
    "raw_text= \"\"\"Long Short-Term Memory (LSTM) is a recurrent neural network (RNN) architecture that has been designed\n",
    "to address the vanishing and exploding gradient problems of conventional RNNs. Unlike feedforward neural networks,\n",
    "RNNs have cyclic connections making them powerful for modeling sequences. \n",
    "They have been successfully used for sequence labeling and sequence prediction tasks,\n",
    "such as handwriting recognition, language modeling, phonetic labeling of acoustic frames. However, in contrast to the deep neural\n",
    "networks, the use of RNNs in speech recognition has been limited to phone recognition in small scale tasks. \n",
    "In this paper, we present novel LSTM based RNN architectures which make more effective\n",
    "use of model parameters to train acoustic models for large vocabulary speech recognition. \n",
    "We train and compare LSTM, RNN and DNN models at various numbers of parameters and configurations.\n",
    "We show that LSTM models converge quickly and give state of the art speech recognition performance for relatively small sized models.\"\"\".split()\n",
    "\n",
    "# By deriving a set from \"raw_text\", we deduplicate the array\n",
    "vocab = set(raw_text)\n",
    "vocab_size = len(vocab)\n",
    "\n",
    "# Basic Tokenizer\n",
    "word_to_ix = {word: i for i, word in enumerate(vocab)}\n",
    "\n",
    "print(len(raw_text))\n",
    "print(vocab_size)"
   ]
  },
  {
   "cell_type": "code",
   "execution_count": 4,
   "metadata": {},
   "outputs": [
    {
     "name": "stdout",
     "output_type": "stream",
     "text": [
      "[(['Long', 'Short-Term', '(LSTM)', 'is'], 'Memory'), (['Short-Term', 'Memory', 'is', 'a'], '(LSTM)'), (['Memory', '(LSTM)', 'a', 'recurrent'], 'is'), (['(LSTM)', 'is', 'recurrent', 'neural'], 'a'), (['is', 'a', 'neural', 'network'], 'recurrent')]\n"
     ]
    }
   ],
   "source": [
    "# Now lets create a \"dataset\"\n",
    "data = []\n",
    "for i in range(CONTEXT_SIZE, len(raw_text) - CONTEXT_SIZE):\n",
    "    context = []\n",
    "    for j in range(CONTEXT_SIZE, 0, -1):\n",
    "        context.append(raw_text[i - j])\n",
    "\n",
    "    for j in range(1, CONTEXT_SIZE + 1):\n",
    "        context.append(raw_text[i + j])\n",
    "        \n",
    "    target = raw_text[i]\n",
    "    data.append((context, target))\n",
    "print(data[:5])\n"
   ]
  },
  {
   "cell_type": "markdown",
   "metadata": {},
   "source": [
    "### Create the CBOW Model (as we have seen already other ANN) ###\n",
    "\n",
    "We have to extend from nn.Module as all the other ANN"
   ]
  },
  {
   "cell_type": "code",
   "execution_count": 5,
   "metadata": {},
   "outputs": [],
   "source": [
    "class CBOW(nn.Module):\n",
    "\n",
    "    def __init__(self, vocab_size, embed_dim, context, hidden_size):\n",
    "        super(CBOW, self).__init__()\n",
    "        self.embedding = nn.Embedding(vocab_size, embed_dim)\n",
    "        self.linear = nn.Sequential(\n",
    "            nn.Linear(context*embed_dim, hidden_size),\n",
    "            nn.ReLU(),\n",
    "            nn.Linear(hidden_size, vocab_size),\n",
    "            nn.LogSoftmax(dim = -1)\n",
    "        )\n",
    "        \n",
    "    def forward(self, inputs):\n",
    "#         print(inputs.shape)\n",
    "#         print(inputs)\n",
    "        out = self.embedding(inputs)\n",
    "#         print(out.shape)\n",
    "        out = out.view(1, -1)\n",
    "#         print(out.shape)\n",
    "        out = self.linear(out)\n",
    "#         print(out.shape)\n",
    "        return out\n",
    "    \n",
    "    # This is what we are actually interested on\n",
    "    def get_word_vector(self, word):\n",
    "        out = self.embedding(word)\n",
    "        return out\n"
   ]
  },
  {
   "cell_type": "markdown",
   "metadata": {},
   "source": [
    "#### Lets break it down! ####"
   ]
  },
  {
   "cell_type": "code",
   "execution_count": 6,
   "metadata": {},
   "outputs": [
    {
     "name": "stdout",
     "output_type": "stream",
     "text": [
      "tensor([[ 90,  61,  33,  49],\n",
      "        [ 58,  78,  39,  73],\n",
      "        [ 28,  89, 100,  38],\n",
      "        [ 96,  87, 105,  70],\n",
      "        [ 73,  75,  66,  97],\n",
      "        [ 21,  70,  11,  86]])\n",
      "torch.Size([6, 4])\n"
     ]
    }
   ],
   "source": [
    "VOCAB_SIZE = len(vocab)\n",
    "EMBEDD_DIM = 10\n",
    "BATCH_SIZE = 6\n",
    "FULL_CONTEXT_SIZE = CONTEXT_SIZE * 2\n",
    "HIDDEN_SIZE = 256\n",
    "\n",
    "example_tensor = torch.randint(0, VOCAB_SIZE, [BATCH_SIZE, FULL_CONTEXT_SIZE])\n",
    "print(example_tensor)\n",
    "print(example_tensor.shape)"
   ]
  },
  {
   "cell_type": "code",
   "execution_count": 7,
   "metadata": {},
   "outputs": [
    {
     "name": "stdout",
     "output_type": "stream",
     "text": [
      "torch.Size([6, 4, 10])\n",
      "torch.Size([6, 40])\n"
     ]
    }
   ],
   "source": [
    "CBOW_embedding = nn.Embedding(VOCAB_SIZE, EMBEDD_DIM)\n",
    "example_result = CBOW_embedding(example_tensor)\n",
    "\n",
    "# Now we have a representation of the words in a vector of EMBEDD_DIM Dimensions\n",
    "print(example_result.shape) # [batch_size, context_size*2, EMBEDD_DIM]\n",
    "\n",
    "# example_result = torch.flatten(example_result, start_dim=1)\n",
    "example_result = example_result.view(BATCH_SIZE, -1)\n",
    "print(example_result.shape)"
   ]
  },
  {
   "cell_type": "code",
   "execution_count": 8,
   "metadata": {},
   "outputs": [
    {
     "name": "stdout",
     "output_type": "stream",
     "text": [
      "torch.Size([6, 256])\n"
     ]
    }
   ],
   "source": [
    "CBOW_hidden = nn.Linear(EMBEDD_DIM * FULL_CONTEXT_SIZE, HIDDEN_SIZE)\n",
    "CBOW_hidden_relu = nn.ReLU()\n",
    "\n",
    "example_result = CBOW_hidden(example_result)\n",
    "example_result = CBOW_hidden_relu(example_result)\n",
    "print(example_result.shape)"
   ]
  },
  {
   "cell_type": "code",
   "execution_count": 9,
   "metadata": {},
   "outputs": [
    {
     "name": "stdout",
     "output_type": "stream",
     "text": [
      "torch.Size([6, 106])\n"
     ]
    }
   ],
   "source": [
    "CBOW_output = nn.Linear(HIDDEN_SIZE, VOCAB_SIZE)\n",
    "CBOW_output_soft = nn.LogSoftmax(dim = -1)\n",
    "\n",
    "example_result = CBOW_output(example_result)\n",
    "example_result = CBOW_output_soft(example_result)\n",
    "print(example_result.shape) # 106 (vocab_size) -> [0.002, 0.003, 0.02, ... , n] see which one of the elements are the highest"
   ]
  },
  {
   "cell_type": "code",
   "execution_count": 10,
   "metadata": {},
   "outputs": [
    {
     "name": "stdout",
     "output_type": "stream",
     "text": [
      "tensor(62)\n",
      "tensor([-4.9167, -4.5047, -4.7207, -4.5055, -4.7720, -4.9722, -4.4946, -4.4996,\n",
      "        -4.7299, -4.4009, -4.7111, -4.6857, -4.5435, -4.6608, -4.5856, -4.4767,\n",
      "        -4.5991, -4.6841, -4.6008, -4.9535, -4.9594, -4.4287, -4.6698, -4.6422,\n",
      "        -4.7063, -4.8353, -4.8744, -4.5088, -4.7658, -4.9647, -4.5921, -4.8477,\n",
      "        -4.7816, -4.4679, -4.7227, -4.6913, -4.5758, -4.6915, -4.4834, -4.4173,\n",
      "        -4.5685, -4.4338, -4.3896, -4.5655, -4.3284, -4.4830, -4.8171, -4.8943,\n",
      "        -4.5705, -4.6621, -4.5704, -5.0100, -4.9647, -4.9311, -4.6785, -4.9392,\n",
      "        -4.6119, -4.6453, -4.5574, -4.3053, -4.8308, -4.6025, -4.1148, -4.5481,\n",
      "        -4.8202, -4.7501, -4.7595, -4.7200, -5.3668, -4.5206, -4.7111, -4.7795,\n",
      "        -4.8865, -4.5948, -4.7522, -4.8628, -4.8054, -4.4269, -4.4656, -4.8375,\n",
      "        -4.4048, -4.9503, -5.0272, -4.6859, -4.8072, -4.7599, -4.7577, -4.3968,\n",
      "        -4.8185, -4.3154, -4.6443, -4.5852, -4.4690, -4.9610, -4.6297, -4.9639,\n",
      "        -4.7057, -4.6115, -4.6540, -5.0801, -4.8444, -4.8014, -4.8332, -4.5849,\n",
      "        -4.4732, -4.9009], grad_fn=<SelectBackward>)\n",
      "tensor(94)\n",
      "tensor([-4.7447, -5.2421, -4.5082, -4.7382, -4.8592, -4.5261, -4.5335, -4.7730,\n",
      "        -4.5763, -4.7273, -4.7066, -4.5294, -4.6168, -4.6523, -4.7440, -4.7727,\n",
      "        -4.3810, -4.7069, -4.3342, -4.7047, -4.5538, -4.5812, -4.6312, -4.4750,\n",
      "        -4.6599, -4.6010, -5.1554, -4.8851, -4.4038, -4.6768, -4.3883, -4.9586,\n",
      "        -4.8485, -4.7298, -4.7971, -4.7912, -4.4771, -4.4382, -4.6582, -4.3019,\n",
      "        -4.8165, -4.5482, -4.4816, -4.4596, -4.8213, -4.6962, -4.4286, -4.6665,\n",
      "        -4.8822, -4.7600, -4.8282, -5.3860, -4.6220, -4.6391, -4.4214, -4.8911,\n",
      "        -4.5553, -5.0062, -4.4952, -4.3479, -4.6538, -4.5519, -4.2088, -4.7578,\n",
      "        -4.4739, -4.5356, -4.8449, -5.0280, -5.0318, -4.5316, -4.5461, -4.6020,\n",
      "        -4.9359, -4.4985, -4.7319, -4.7673, -4.7157, -4.6242, -4.4828, -4.9530,\n",
      "        -4.3383, -4.8364, -4.7308, -4.5300, -4.7543, -4.4486, -4.6072, -4.7934,\n",
      "        -4.9805, -4.6380, -4.9011, -4.8232, -4.7056, -4.8861, -4.1883, -4.6080,\n",
      "        -4.5523, -5.0398, -4.9456, -4.9048, -4.6276, -4.8759, -4.9432, -4.8221,\n",
      "        -4.7949, -4.7313], grad_fn=<SelectBackward>)\n"
     ]
    }
   ],
   "source": [
    "print(example_result[0].argmax(-1))\n",
    "print(example_result[0])\n",
    "print(example_result[1].argmax(-1))\n",
    "print(example_result[1])\n",
    "# print(example_result[2].argmax(-1))\n",
    "# print(example_result[3].argmax(-1))\n",
    "# print(example_result[4].argmax(-1))"
   ]
  },
  {
   "cell_type": "markdown",
   "metadata": {},
   "source": [
    "## Back to the notebook ##"
   ]
  },
  {
   "cell_type": "code",
   "execution_count": 11,
   "metadata": {},
   "outputs": [
    {
     "data": {
      "text/plain": [
       "tensor([94, 44, 40, 14])"
      ]
     },
     "execution_count": 11,
     "metadata": {},
     "output_type": "execute_result"
    }
   ],
   "source": [
    "# Simple helper method to transform the context to the expected int vector - tensor\n",
    "\n",
    "def make_context_vector(context, word_to_ix):\n",
    "    idxs = [word_to_ix[w] for w in context]\n",
    "    return torch.tensor(idxs, dtype=torch.long)\n",
    "\n",
    "make_context_vector(data[0][0], word_to_ix)"
   ]
  },
  {
   "cell_type": "code",
   "execution_count": 12,
   "metadata": {},
   "outputs": [],
   "source": [
    "def train(model, epochs, data, optimizer, loss_fn):\n",
    "    model.train()\n",
    "    losses = []\n",
    "    for epoch in range(epochs):\n",
    "        total_loss = 0\n",
    "        for context, target in data:\n",
    "\n",
    "            # Prepare inputs and targets \n",
    "            context_idxs = make_context_vector(context, word_to_ix)\n",
    "            context_idxs = context_idxs.to(device)\n",
    "            \n",
    "            target_id = make_context_vector([target], word_to_ix)\n",
    "            target_id = target_id.to(device)\n",
    "\n",
    "            # Do not accumulate \n",
    "            model.zero_grad()\n",
    "\n",
    "            # Step 3. Run the forward pass\n",
    "            log_probs = model(context_idxs)\n",
    "    #         break\n",
    "\n",
    "            # Step 4. Compute your loss function.\n",
    "            loss = loss_fn(log_probs, target_id)\n",
    "\n",
    "    #         loss = loss_function(log_probs, torch.tensor([word_to_ix[target]], dtype=torch.long))\n",
    "\n",
    "            # Step 5. Do the backward pass and update the gradient\n",
    "            loss.backward()\n",
    "            optimizer.step()\n",
    "\n",
    "            # Get the Python number from a 1-element Tensor by calling tensor.item()\n",
    "            total_loss += loss.item()\n",
    "        losses.append(total_loss)\n",
    "    return losses\n",
    "    "
   ]
  },
  {
   "cell_type": "code",
   "execution_count": 13,
   "metadata": {},
   "outputs": [
    {
     "name": "stdout",
     "output_type": "stream",
     "text": [
      "[697.5052881240845, 690.5906434059143, 683.7699465751648, 677.0398046970367, 670.3956201076508, 663.8321220874786, 657.342515707016, 650.9206223487854, 644.5612609386444, 638.2598602771759, 632.0147347450256, 625.8205578327179, 619.6723718643188, 613.5701248645782, 607.5069546699524, 601.4806604385376, 595.4874603748322, 589.5206079483032, 583.5748262405396, 577.6465163230896, 571.732962846756, 565.8326027393341, 559.9430418014526, 554.0597102642059, 548.1808083057404, 542.3050093650818, 536.4271016120911, 530.5495131015778, 524.6662369966507, 518.776873588562, 512.8807660341263, 506.97223019599915, 501.05758571624756, 495.13486552238464, 489.19853377342224, 483.2521538734436, 477.2936267852783, 471.32160913944244, 465.3371968269348, 459.34034979343414, 453.33001387119293, 447.30980610847473, 441.2786830663681, 435.2417069673538, 429.19513869285583, 423.1394194364548, 417.0780557990074, 411.01127177476883, 404.9383143186569, 398.86509931087494, 392.7885857820511, 386.71150213479996, 380.63899236917496, 374.5702360868454, 368.50404357910156, 362.4485924243927, 356.39920872449875, 350.36176693439484, 344.33955454826355, 338.3307976126671, 332.33849972486496, 326.36683228611946, 320.4164079129696, 314.49222058057785, 308.5959994792938, 302.73116886615753, 296.89527133107185, 291.09747537970543, 285.3384180665016, 279.6183595061302, 273.9426927268505, 268.3100933730602, 262.7275067269802, 257.19549468159676, 251.71787121891975, 246.30003035068512, 240.9355782866478, 235.6361045241356, 230.40031769871712, 225.22708722949028, 220.12234631180763, 215.08587741851807, 210.120382219553, 205.22853229939938, 200.4111413806677, 195.66914846003056, 191.00532360374928, 186.42038968205452, 181.91615344583988, 177.49310480058193, 173.15414780378342, 168.89515072107315, 164.72087934613228, 160.63128162920475, 156.62580880522728, 152.70644322037697, 148.87129452824593, 145.1225289106369, 141.45645239949226, 137.87771558761597]\n"
     ]
    }
   ],
   "source": [
    "VOCAB_SIZE = len(vocab)\n",
    "EMBEDD_DIM = 10\n",
    "BATCH_SIZE = 6\n",
    "FULL_CONTEXT_SIZE = CONTEXT_SIZE * 2\n",
    "HIDDEN_SIZE = 256\n",
    "\n",
    "loss_function = nn.NLLLoss() # Because we are using Log_softmax\n",
    "model = CBOW(vocab_size, EMBEDD_DIM, FULL_CONTEXT_SIZE, HIDDEN_SIZE)\n",
    "model = model.to(device)\n",
    "optimizer = optim.SGD(model.parameters(), lr=0.001)\n",
    "\n",
    "losses = train(model, 100, data, optimizer, loss_function)\n",
    "model.eval()\n",
    "\n",
    "print(losses)  # The loss decreased every iteration over the training data!"
   ]
  },
  {
   "cell_type": "code",
   "execution_count": 14,
   "metadata": {},
   "outputs": [],
   "source": [
    "# list out keys and values separately\n",
    "key_list = list(word_to_ix.keys())\n",
    "val_list = list(word_to_ix.values())"
   ]
  },
  {
   "cell_type": "code",
   "execution_count": 15,
   "metadata": {},
   "outputs": [],
   "source": [
    "def similarity_cbow(word_1, word_2):\n",
    "    \n",
    "    # test word similarity\n",
    "    print(word_1)\n",
    "    print(word_2)\n",
    "    w1_id = torch.tensor(word_to_ix[word_1], dtype=torch.long)\n",
    "    w2_id = torch.tensor(word_to_ix[word_2], dtype=torch.long)\n",
    "    w1_id = w1_id.to(device)\n",
    "    w2_id = w2_id.to(device)\n",
    "    \n",
    "    word_1_vec = model.get_word_vector(w1_id)\n",
    "    word_2_vec = model.get_word_vector(w2_id)\n",
    "    \n",
    "    # The norm of a vector (1D-matrix) is the square root of the sum of all the squared values within the vector.\n",
    "    print(math.sqrt(torch.square(word_1_vec).sum()))    \n",
    "    print(torch.linalg.norm(word_1_vec))\n",
    "    print(torch.linalg.norm(word_2_vec))\n",
    "    print(word_1_vec.dot(word_2_vec))\n",
    "    \n",
    "    word_distance = torch.linalg.norm(word_1_vec - word_2_vec)\n",
    "    print(\"Distance between '{}' & '{}' : {:0.4f}\".format(word_1, word_2, word_distance))\n",
    "    word_similarity = (word_1_vec.dot(word_2_vec) / (torch.linalg.norm(word_1_vec) * torch.linalg.norm(word_2_vec)))\n",
    "    print(\"Similarity between '{}' & '{}' : {:0.4f}\".format(word_1, word_2, word_similarity))\n"
   ]
  },
  {
   "cell_type": "code",
   "execution_count": 16,
   "metadata": {},
   "outputs": [
    {
     "name": "stdout",
     "output_type": "stream",
     "text": [
      "neural\n",
      "network\n",
      "3.527445676562381\n",
      "tensor(3.5274, device='cuda:0', grad_fn=<CopyBackwards>)\n",
      "tensor(3.7175, device='cuda:0', grad_fn=<CopyBackwards>)\n",
      "tensor(-5.5670, device='cuda:0', grad_fn=<DotBackward>)\n",
      "Distance between 'neural' & 'network' : 6.1153\n",
      "Similarity between 'neural' & 'network' : -0.4245\n"
     ]
    }
   ],
   "source": [
    "similarity_cbow(\"neural\", \"network\")"
   ]
  },
  {
   "cell_type": "code",
   "execution_count": 17,
   "metadata": {},
   "outputs": [],
   "source": [
    "def predict_middle_word(prev_words, post_words):\n",
    "    prev_words = prev_words.split()\n",
    "    post_words = post_words.split()\n",
    "\n",
    "    input_words= make_context_vector(prev_words + post_words, word_to_ix)\n",
    "    input_words = input_words.to(device)\n",
    "    output = model(input_words)\n",
    "    out_ind = output.argmax(1)\n",
    "#     print(word_to_ix)\n",
    "#     out_word = word_to_ix.itos[out_ind.item()]\n",
    "    out_word = key_list[val_list.index(out_ind.item())]\n",
    "    print(out_word)"
   ]
  },
  {
   "cell_type": "code",
   "execution_count": 18,
   "metadata": {},
   "outputs": [
    {
     "name": "stdout",
     "output_type": "stream",
     "text": [
      "neural\n",
      "a\n"
     ]
    }
   ],
   "source": [
    "predict_middle_word(\"a recurrent\", \"network is\")\n",
    "predict_middle_word(\"LSTM is\", \"recurrent neural\")"
   ]
  },
  {
   "cell_type": "markdown",
   "metadata": {},
   "source": [
    "### Now that you saw how to create the CBOW model (word2vec), you should work on doing the \"opposite\" model, Skip-Gram ###\n",
    "\n",
    "Skip-gram as you saw on the lectures, reverses the problem so you need to predict through the \"fake task\" the context of the input"
   ]
  },
  {
   "cell_type": "markdown",
   "metadata": {},
   "source": [
    "# Lab assignment below"
   ]
  },
  {
   "cell_type": "code",
   "execution_count": 19,
   "metadata": {},
   "outputs": [],
   "source": [
    "class Skipgram(nn.Module):\n",
    "    def __init__(self, vocab_size, embed_dim, context,target_size, hidden_size):\n",
    "        super(Skipgram, self).__init__()\n",
    "        self.embedding = nn.Embedding(vocab_size, embed_dim)\n",
    "        self.linear = nn.Sequential(\n",
    "            nn.Linear(embed_dim, hidden_size),\n",
    "            nn.ReLU(),\n",
    "            nn.Linear(hidden_size, vocab_size*target_size),\n",
    "            nn.LogSoftmax(dim = 1)\n",
    "        )\n",
    "        self.target_size=target_size\n",
    "        \n",
    "    def forward(self, inputs):\n",
    "      #  print(\"0\", inputs.shape)\n",
    "#         print(inputs)\n",
    "        out = self.embedding(inputs)\n",
    "     #   print(\"1\", out.shape)\n",
    "        #print(out.shape)\n",
    "        #out = out.view(1, -1)\n",
    "#         print(out.shape)\n",
    "        out = self.linear(out)\n",
    "      #  print(\"2\", out.shape)\n",
    "        out = out.view(self.target_size, -1)\n",
    "      #  print(\"3\", out.shape)\n",
    "        return out\n",
    "    \n",
    "    # This is what we are actually interested on\n",
    "    def get_word_vector(self, word):\n",
    "        out = self.embedding(word)\n",
    "        return out"
   ]
  },
  {
   "cell_type": "code",
   "execution_count": 20,
   "metadata": {},
   "outputs": [],
   "source": [
    "def train(model, epochs, data, optimizer, loss_fn):\n",
    "    model.train()\n",
    "    losses = []\n",
    "    for epoch in range(epochs):\n",
    "        total_loss = 0\n",
    "        for target, context in data:\n",
    "\n",
    "            # Prepare inputs and targets \n",
    "            context_idxs = make_context_vector([context], word_to_ix)\n",
    "            context_idxs = context_idxs.to(device)\n",
    "\n",
    "            target_id = make_context_vector(target, word_to_ix)\n",
    "            target_id = target_id.to(device)\n",
    "            \n",
    "            # Do not accumulate \n",
    "            model.zero_grad()\n",
    "\n",
    "            # Step 3. Run the forward pass\n",
    "            log_probs = model(context_idxs)\n",
    "    #         break\n",
    "\n",
    "            # Step 4. Compute your loss function.\n",
    "            loss = loss_fn(log_probs, target_id)\n",
    "\n",
    "    #       loss = loss_function(log_probs, torch.tensor([word_to_ix[context]], dtype=torch.long))\n",
    "\n",
    "            # Step 5. Do the backward pass and update the gradient\n",
    "            loss.backward()\n",
    "            optimizer.step()\n",
    "\n",
    "            # Get the Python number from a 1-element Tensor by calling tensor.item()\n",
    "            total_loss += loss.item()\n",
    "        losses.append(total_loss)\n",
    "    return losses\n",
    "    "
   ]
  },
  {
   "cell_type": "code",
   "execution_count": 21,
   "metadata": {},
   "outputs": [
    {
     "name": "stdout",
     "output_type": "stream",
     "text": [
      "[903.1108045578003, 899.5648446083069, 896.043426990509, 892.5458483695984, 889.0705842971802, 885.6167793273926, 882.1825251579285, 878.7671947479248, 875.36900806427, 871.9868407249451, 868.6202774047852, 865.2679481506348, 861.9296927452087, 858.6043934822083, 855.291042804718, 851.9882702827454, 848.6961522102356, 845.4132289886475, 842.1381502151489, 838.8706531524658, 835.6094164848328, 832.3545713424683, 829.1052265167236, 825.8613700866699, 822.6209464073181, 819.3850607872009, 816.1520094871521, 812.9225950241089, 809.6945934295654, 806.468111038208, 803.243161201477, 800.0170922279358, 796.7909359931946, 793.564197063446, 790.3363180160522, 787.1080965995789, 783.8784775733948, 780.6464247703552, 777.4115467071533, 774.1744046211243, 770.9334411621094, 767.6897888183594, 764.4427080154419, 761.1906213760376, 757.9347906112671, 754.6747288703918, 751.4101343154907, 748.1406664848328, 744.8672037124634, 741.5882654190063, 738.3047499656677, 735.0147638320923, 731.7201466560364, 728.4196705818176, 725.1145277023315, 721.8031504154205, 718.487370967865, 715.1657531261444, 711.838344335556, 708.5042188167572, 705.1649787425995, 701.8207952976227, 698.4716041088104, 695.1171839237213, 691.7578299045563, 688.3935029506683, 685.0249843597412, 681.651656627655, 678.2741780281067, 674.8920226097107, 671.5057029724121, 668.115608215332, 664.7218790054321, 661.3241121768951, 657.9237067699432, 654.5187237262726, 651.1118495464325, 647.7022316455841, 644.2897222042084, 640.8754670619965, 637.4600396156311, 634.043972492218, 630.6265459060669, 627.2096269130707, 623.791853427887, 620.3739495277405, 616.9577829837799, 613.5438506603241, 610.1305201053619, 606.7201251983643, 603.312750339508, 599.9071142673492, 596.5061590671539, 593.108832359314, 589.7147018909454, 586.3263423442841, 582.9438648223877, 579.5672013759613, 576.1960000991821, 572.8322923183441]\n"
     ]
    }
   ],
   "source": [
    "VOCAB_SIZE = len(vocab)\n",
    "EMBEDD_DIM = 106\n",
    "CONTEXT_SIZE = 1\n",
    "HIDDEN_SIZE = 512 # 256\n",
    "TARGET_SIZE = 4\n",
    "\n",
    "loss_function = nn.NLLLoss() # Because we are using \n",
    "model = Skipgram(vocab_size, EMBEDD_DIM, CONTEXT_SIZE, TARGET_SIZE, HIDDEN_SIZE)\n",
    "model = model.to(device)\n",
    "optimizer = optim.SGD(model.parameters(), lr=0.001)\n",
    "\n",
    "losses = train(model, 100, data, optimizer, loss_function)\n",
    "model.eval()\n",
    "\n",
    "print(losses)  # Loss decreasing over time (iterations of training)"
   ]
  },
  {
   "cell_type": "code",
   "execution_count": 22,
   "metadata": {},
   "outputs": [],
   "source": [
    "#import matplotlib.pyplot as plt\n",
    "#plt.figure()\n",
    "#plt.plot(losses)"
   ]
  },
  {
   "cell_type": "code",
   "execution_count": 23,
   "metadata": {},
   "outputs": [
    {
     "name": "stdout",
     "output_type": "stream",
     "text": [
      "['Memory', 'based', 'neural', 'at', 'numbers', 'architecture', 'we', 'They', 'language', 'speech', 'connections', 'powerful', 'a', 'have', 'is', 'sized', 'contrast', 'deep', 'small', 'has', 'quickly', 'paper,', 'network', 'RNNs.', 'sequence', 'modeling,', 'frames.', 'models.', 'as', 'address', 'use', 'RNNs', 'cyclic', 'In', 'feedforward', 'vocabulary', 'of', 'for', 'acoustic', 'RNN', '(LSTM)', 'art', 'phonetic', 'However,', 'Short-Term', 'the', 'relatively', 'them', 'Unlike', 'configurations.', 'tasks,', 'various', 'problems', 'recognition', 'to', 'successfully', 'architectures', 'conventional', 'state', 'LSTM,', 'prediction', 'show', 'model', 'give', 'exploding', 'that', 'recurrent', 'DNN', 'which', 'limited', 'used', 'handwriting', 'in', 'large', 'making', 'parameters', 'phone', 'converge', 'novel', 'make', 'tasks.', 'networks,', 'LSTM', 'sequences.', 'effective', 'performance', 'labeling', 'present', 'vanishing', 'compare', 'train', 'models', 'more', 'recognition,', 'Long', 'recognition.', '(RNN)', 'designed', 'been', 'and', 'scale', 'gradient', 'We', 'this', 'such', 'modeling']\n",
      "[0, 1, 2, 3, 4, 5, 6, 7, 8, 9, 10, 11, 12, 13, 14, 15, 16, 17, 18, 19, 20, 21, 22, 23, 24, 25, 26, 27, 28, 29, 30, 31, 32, 33, 34, 35, 36, 37, 38, 39, 40, 41, 42, 43, 44, 45, 46, 47, 48, 49, 50, 51, 52, 53, 54, 55, 56, 57, 58, 59, 60, 61, 62, 63, 64, 65, 66, 67, 68, 69, 70, 71, 72, 73, 74, 75, 76, 77, 78, 79, 80, 81, 82, 83, 84, 85, 86, 87, 88, 89, 90, 91, 92, 93, 94, 95, 96, 97, 98, 99, 100, 101, 102, 103, 104, 105]\n"
     ]
    }
   ],
   "source": [
    "# list out keys and values separately\n",
    "key_list = list(word_to_ix.keys())\n",
    "val_list = list(word_to_ix.values())\n",
    "print(key_list)\n",
    "print(val_list)"
   ]
  },
  {
   "cell_type": "markdown",
   "metadata": {},
   "source": [
    "Reverse cbow and use the middle word to predict the 2 words adjacent to the middle word."
   ]
  },
  {
   "cell_type": "code",
   "execution_count": 24,
   "metadata": {},
   "outputs": [],
   "source": [
    "\"\"\"\n",
    "def predict_middle_word(prev_words, post_words):\n",
    "    prev_words = prev_words.split()\n",
    "    post_words = post_words.split()\n",
    "\n",
    "    input_words= make_context_vector(prev_words + post_words, word_to_ix)\n",
    "    input_words = input_words.to(device)\n",
    "    output = model(input_words)\n",
    "    out_ind = output.argmax(1)\n",
    "#     print(word_to_ix)\n",
    "#     out_word = word_to_ix.itos[out_ind.item()]\n",
    "    out_word = key_list[val_list.index(out_ind.item())]\n",
    "    print(out_word)\n",
    "\n",
    "\"\"\"\n",
    "\n",
    "# Reverse cbow and use the middle word to predict the 2 words adjacent to the middle word.\n",
    "def predict_adjacent(middle_word):\n",
    "    context_words = []\n",
    "    \n",
    "    print(\"Word context:\", middle_word)\n",
    "    input_words = make_context_vector([middle_word], word_to_ix)\n",
    "    input_words = input_words.to(device)\n",
    "    #output = model.get_word_vector(input_words)\n",
    "    output = model(input_words)\n",
    "    prediction = output.argmax(1)\n",
    "   # pred = torch.topk(output, 4) # return the most likely elements/words. https://pytorch.org/docs/stable/generated/torch.topk.html \n",
    "    #print(\"predictions\", prediction)\n",
    "    print(\"oi\", prediction)  \n",
    "    \n",
    "    #for word in prediction[1][0]:\n",
    "    for word in prediction:\n",
    "        print(\"word tensor:\", word)\n",
    "        context_words.append(key_list[word])\n",
    "       # print(\"test\", context_words)\n",
    "    context_words.insert(int(len(context_words)/2), middle_word)\n",
    "    print(\"\\n\", context_words)\n",
    "\n"
   ]
  },
  {
   "cell_type": "code",
   "execution_count": 25,
   "metadata": {},
   "outputs": [
    {
     "name": "stdout",
     "output_type": "stream",
     "text": [
      "Word context: neural\n",
      "oi tensor([45, 17, 81, 45], device='cuda:0')\n",
      "word tensor: tensor(45, device='cuda:0')\n",
      "word tensor: tensor(17, device='cuda:0')\n",
      "word tensor: tensor(81, device='cuda:0')\n",
      "word tensor: tensor(45, device='cuda:0')\n",
      "\n",
      " ['the', 'deep', 'neural', 'networks,', 'the']\n"
     ]
    }
   ],
   "source": [
    "predict_adjacent(\"neural\")"
   ]
  },
  {
   "cell_type": "code",
   "execution_count": 26,
   "metadata": {},
   "outputs": [
    {
     "data": {
      "text/plain": [
       "'   \\ndef predict_topk(middle_word):\\n    print(\"Word context:\", middle_word)\\n    input_words = make_context_vector([middle_word], word_to_ix)\\n    input_words = input_words.to(device)\\n    output = model.get_word_vector(input_words)\\n    #out_index = output.argmax(1)\\n    \\n    prediction = torch.topk(output, 4) # return the most likely elements/words. https://pytorch.org/docs/stable/generated/torch.topk.html \\n    print(\"predictions\", prediction)\\n  \\n    context_words=[]\\n    for word in prediction[1][0]:\\n        print(\"word tensor\", word)\\n        context_words.append(key_list[word])\\n       # print(\"test\", context_words)\\n    context_words.insert(int(len(context_words)/2), middle_word)\\n    print(context_words)\\n'"
      ]
     },
     "execution_count": 26,
     "metadata": {},
     "output_type": "execute_result"
    }
   ],
   "source": [
    "\"\"\"   \n",
    "def predict_topk(middle_word):\n",
    "    print(\"Word context:\", middle_word)\n",
    "    input_words = make_context_vector([middle_word], word_to_ix)\n",
    "    input_words = input_words.to(device)\n",
    "    output = model.get_word_vector(input_words)\n",
    "    #out_index = output.argmax(1)\n",
    "    \n",
    "    prediction = torch.topk(output, 4) # return the most likely elements/words. https://pytorch.org/docs/stable/generated/torch.topk.html \n",
    "    print(\"predictions\", prediction)\n",
    "  \n",
    "    context_words=[]\n",
    "    for word in prediction[1][0]:\n",
    "        print(\"word tensor\", word)\n",
    "        context_words.append(key_list[word])\n",
    "       # print(\"test\", context_words)\n",
    "    context_words.insert(int(len(context_words)/2), middle_word)\n",
    "    print(context_words)\n",
    "\"\"\"\n"
   ]
  },
  {
   "cell_type": "code",
   "execution_count": 27,
   "metadata": {},
   "outputs": [],
   "source": [
    "#predict_topk(\"neural\")"
   ]
  },
  {
   "cell_type": "code",
   "execution_count": 28,
   "metadata": {},
   "outputs": [],
   "source": [
    "#similarity_cbow(\"neural\", \"network\")"
   ]
  },
  {
   "cell_type": "code",
   "execution_count": null,
   "metadata": {},
   "outputs": [],
   "source": []
  }
 ],
 "metadata": {
  "kernelspec": {
   "display_name": "Python 3 (ipykernel)",
   "language": "python",
   "name": "python3"
  },
  "language_info": {
   "codemirror_mode": {
    "name": "ipython",
    "version": 3
   },
   "file_extension": ".py",
   "mimetype": "text/x-python",
   "name": "python",
   "nbconvert_exporter": "python",
   "pygments_lexer": "ipython3",
   "version": "3.8.5"
  }
 },
 "nbformat": 4,
 "nbformat_minor": 4
}
