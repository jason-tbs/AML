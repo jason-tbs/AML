{
 "cells": [
  {
   "cell_type": "markdown",
   "metadata": {},
   "source": [
    "## Text Classification ##\n",
    "\n",
    "This notebook is based on this Pytorch tutorial: https://pytorch.org/tutorials/intermediate/char_rnn_classification_tutorial\n",
    "        \n",
    "In this notebook, we will train a network to learn how to classify the country of a name. In this example, we will tokenize per character rather than per word"
   ]
  },
  {
   "cell_type": "code",
   "execution_count": 1,
   "metadata": {},
   "outputs": [],
   "source": [
    "from __future__ import unicode_literals, print_function, division\n",
    "from io import open\n",
    "from itertools import compress\n",
    "\n",
    "import glob\n",
    "import os\n",
    "import unicodedata\n",
    "import string\n",
    "import random\n",
    "import time\n",
    "import math\n",
    "\n",
    "import torch\n",
    "import torch.nn as nn\n",
    "import torch.optim as optim\n",
    "from torch.optim import lr_scheduler\n",
    "\n",
    "import matplotlib.pyplot as plt\n",
    "import matplotlib.ticker as ticker"
   ]
  },
  {
   "cell_type": "code",
   "execution_count": 2,
   "metadata": {},
   "outputs": [
    {
     "data": {
      "text/plain": [
       "device(type='cuda')"
      ]
     },
     "execution_count": 2,
     "metadata": {},
     "output_type": "execute_result"
    }
   ],
   "source": [
    "device = torch.device(\"cuda\" if torch.cuda.is_available() else \"cpu\")\n",
    "device"
   ]
  },
  {
   "cell_type": "code",
   "execution_count": 3,
   "metadata": {},
   "outputs": [
    {
     "name": "stdout",
     "output_type": "stream",
     "text": [
      "57\n",
      "Slusarski\n"
     ]
    }
   ],
   "source": [
    "# Vocabulary\n",
    "all_letters = string.ascii_letters + \" .,;'\"\n",
    "n_letters = len(all_letters)\n",
    "\n",
    "print(n_letters)\n",
    "\n",
    "# Turn a Unicode string to plain ASCII, thanks to https://stackoverflow.com/a/518232/2809427\n",
    "def unicodeToAscii(s):\n",
    "    return ''.join(\n",
    "        c for c in unicodedata.normalize('NFD', s)\n",
    "        if unicodedata.category(c) != 'Mn'\n",
    "        and c in all_letters\n",
    "    )\n",
    "\n",
    "print(unicodeToAscii('Ślusàrski'))"
   ]
  },
  {
   "cell_type": "code",
   "execution_count": 4,
   "metadata": {},
   "outputs": [
    {
     "name": "stdout",
     "output_type": "stream",
     "text": [
      "['data/names\\\\Arabic.txt', 'data/names\\\\Chinese.txt', 'data/names\\\\Czech.txt', 'data/names\\\\Dutch.txt', 'data/names\\\\English.txt', 'data/names\\\\French.txt', 'data/names\\\\German.txt', 'data/names\\\\Greek.txt', 'data/names\\\\Irish.txt', 'data/names\\\\Italian.txt', 'data/names\\\\Japanese.txt', 'data/names\\\\Korean.txt', 'data/names\\\\Polish.txt', 'data/names\\\\Portuguese.txt', 'data/names\\\\Russian.txt', 'data/names\\\\Scottish.txt', 'data/names\\\\Spanish.txt', 'data/names\\\\Vietnamese.txt']\n",
      "18\n"
     ]
    }
   ],
   "source": [
    "def findFiles(path): return glob.glob(path)\n",
    "\n",
    "print(findFiles('data/names/*.txt'))\n",
    "\n",
    "# Build the category_lines dictionary, a list of names per language\n",
    "category_lines = {}\n",
    "all_categories = []\n",
    "\n",
    "# Read a file and split into lines\n",
    "def readLines(filename):\n",
    "    lines = open(filename, encoding='utf-8').read().strip().split('\\n')\n",
    "    return [unicodeToAscii(line) for line in lines]\n",
    "\n",
    "for filename in findFiles('data/names/*.txt'):\n",
    "    category = os.path.splitext(os.path.basename(filename))[0]\n",
    "    all_categories.append(category)\n",
    "    lines = readLines(filename)\n",
    "    category_lines[category] = lines\n",
    "\n",
    "n_categories = len(all_categories)\n",
    "print(n_categories) # Classes\n",
    "#print(category_lines)"
   ]
  },
  {
   "cell_type": "code",
   "execution_count": 5,
   "metadata": {},
   "outputs": [
    {
     "name": "stdout",
     "output_type": "stream",
     "text": [
      "['Adamidis', 'Adamou', 'Agelakos', 'Akrivopoulos', 'Alexandropoulos']\n"
     ]
    }
   ],
   "source": [
    "print(category_lines['Greek'][:5])"
   ]
  },
  {
   "cell_type": "markdown",
   "metadata": {},
   "source": [
    "### Make everything into one-hot vector ###\n",
    "\n",
    "For it to be used (transform into a tensor)"
   ]
  },
  {
   "cell_type": "code",
   "execution_count": 6,
   "metadata": {},
   "outputs": [
    {
     "name": "stdout",
     "output_type": "stream",
     "text": [
      "tensor([[0., 0., 0., 0., 0., 0., 0., 0., 0., 0., 0., 0., 0., 0., 0., 0., 0., 0.,\n",
      "         0., 0., 0., 0., 0., 0., 0., 0., 0., 0., 0., 0., 0., 0., 0., 0., 0., 1.,\n",
      "         0., 0., 0., 0., 0., 0., 0., 0., 0., 0., 0., 0., 0., 0., 0., 0., 0., 0.,\n",
      "         0., 0., 0.]])\n",
      "torch.Size([5, 1, 57])\n"
     ]
    }
   ],
   "source": [
    "# Find letter index from all_letters, e.g. \"a\" = 0\n",
    "def letterToIndex(letter):\n",
    "    return all_letters.find(letter)\n",
    "\n",
    "# Just for demonstration, turn a letter into a <1 x n_letters> Tensor\n",
    "def letterToTensor(letter):\n",
    "    tensor = torch.zeros(1, n_letters)\n",
    "    tensor[0][letterToIndex(letter)] = 1\n",
    "    return tensor\n",
    "\n",
    "# Turn a line into a <line_length x 1 x n_letters>,\n",
    "# or an array of one-hot letter vectors\n",
    "def lineToTensor(line):\n",
    "    tensor = torch.zeros(len(line), 1, n_letters)\n",
    "    for li, letter in enumerate(line):\n",
    "        tensor[li][0][letterToIndex(letter)] = 1\n",
    "    return tensor\n",
    "\n",
    "print(letterToTensor('J'))\n",
    "print(lineToTensor('Jones').size()) # [sentence_length, batch_size, vocab_size]"
   ]
  },
  {
   "cell_type": "code",
   "execution_count": 7,
   "metadata": {},
   "outputs": [],
   "source": [
    "class RNN(nn.Module):\n",
    "    def __init__(self, input_size, hidden_size, output_size):\n",
    "        super(RNN, self).__init__()\n",
    "\n",
    "        self.hidden_size = hidden_size\n",
    "\n",
    "        self.hidden_comp = nn.Linear(input_size + hidden_size, hidden_size)\n",
    "        self.output_comp = nn.Linear(input_size + hidden_size, hidden_size)\n",
    "        self.output2output = nn.Linear(hidden_size, output_size)\n",
    "        self.tanh_act = nn.Tanh()\n",
    "        self.lsoftmax = nn.LogSoftmax(dim=1)\n",
    "\n",
    "    def forward(self, x, hidden):\n",
    "#         print(x.shape)\n",
    "        \n",
    "        combined = torch.cat((x, hidden), 1)\n",
    "        hidden = self.hidden_comp(combined)\n",
    "        hidden = self.tanh_act(hidden)\n",
    "#         print(hidden.shape)\n",
    "        \n",
    "        output = self.output_comp(combined)\n",
    "        output = self.tanh_act(output)\n",
    "#         print(output.shape)\n",
    "        output = self.output2output(output)\n",
    "        output = self.lsoftmax(output)\n",
    "#         print(output.shape)\n",
    "        \n",
    "        return output, hidden\n",
    "\n",
    "    def initHidden(self):\n",
    "        return torch.zeros(1, self.hidden_size)\n",
    "\n",
    "n_hidden = 128\n",
    "rnn = RNN(n_letters, n_hidden, n_categories)"
   ]
  },
  {
   "cell_type": "markdown",
   "metadata": {},
   "source": [
    "To run a step of this network we need to pass an input (in our case, the Tensor for the current letter) and a previous hidden state (which we initialize as zeros at first). We’ll get back the output (probability of each language) and a next hidden state (which we keep for the next step)."
   ]
  },
  {
   "cell_type": "code",
   "execution_count": 8,
   "metadata": {},
   "outputs": [
    {
     "name": "stdout",
     "output_type": "stream",
     "text": [
      "tensor([8])\n",
      "tensor([[ 8, 13, 14]])\n"
     ]
    }
   ],
   "source": [
    "x = letterToTensor('A')\n",
    "hidden =torch.zeros(1, n_hidden)\n",
    "hidden = rnn.initHidden()\n",
    "\n",
    "output, next_hidden = rnn(x, hidden)\n",
    "\n",
    "print(output.argmax(-1))\n",
    "print(output.topk(3).indices)"
   ]
  },
  {
   "cell_type": "code",
   "execution_count": 9,
   "metadata": {},
   "outputs": [
    {
     "name": "stdout",
     "output_type": "stream",
     "text": [
      "tensor([13])\n"
     ]
    }
   ],
   "source": [
    "x = lineToTensor('Albert')\n",
    "hidden = torch.zeros(1, n_hidden)\n",
    "\n",
    "output, next_hidden = rnn(x[0], hidden)\n",
    "output, next_hidden = rnn(x[1], hidden)\n",
    "print(output.argmax(-1))"
   ]
  },
  {
   "cell_type": "markdown",
   "metadata": {},
   "source": [
    "## Preparing for training! ##"
   ]
  },
  {
   "cell_type": "code",
   "execution_count": 10,
   "metadata": {},
   "outputs": [
    {
     "name": "stdout",
     "output_type": "stream",
     "text": [
      "('Portuguese', 13)\n"
     ]
    }
   ],
   "source": [
    "# Helper function to get the actual category from the best\n",
    "\n",
    "def categoryFromOutput(output):\n",
    "    top_n, top_i = output.topk(1)\n",
    "    category_i = top_i[0].item()\n",
    "    return all_categories[category_i], category_i\n",
    "\n",
    "print(categoryFromOutput(output))"
   ]
  },
  {
   "cell_type": "markdown",
   "metadata": {},
   "source": [
    "### Quick way to get training example (Src = Name, Trg = Language) ###"
   ]
  },
  {
   "cell_type": "code",
   "execution_count": 11,
   "metadata": {},
   "outputs": [
    {
     "name": "stdout",
     "output_type": "stream",
     "text": [
      "category = Czech / line = Ondrisek\n",
      "category = German / line = Von essen\n",
      "category = Vietnamese / line = Thuy\n",
      "category = Dutch / line = Koning\n",
      "category = Irish / line = Cennetig\n",
      "category = Irish / line = O'Toole\n",
      "category = Russian / line = Hitrenko\n",
      "category = Korean / line = Wang\n",
      "category = Japanese / line = Kano\n",
      "category = Czech / line = Cermak\n"
     ]
    }
   ],
   "source": [
    "def randomChoice(l):\n",
    "    return l[random.randint(0, len(l) - 1)]\n",
    "\n",
    "def randomTrainingExample():\n",
    "    category = randomChoice(all_categories)\n",
    "    line = randomChoice(category_lines[category])\n",
    "    category_tensor = torch.tensor([all_categories.index(category)], dtype=torch.long)\n",
    "    line_tensor = lineToTensor(line)\n",
    "    return category, line, category_tensor, line_tensor\n",
    "\n",
    "for i in range(10):\n",
    "    category, line, category_tensor, line_tensor = randomTrainingExample()\n",
    "    print('category =', category, '/ line =', line)"
   ]
  },
  {
   "cell_type": "code",
   "execution_count": 12,
   "metadata": {},
   "outputs": [],
   "source": [
    "def timeSince(since):\n",
    "    now = time.time()\n",
    "    s = now - since\n",
    "    m = math.floor(s / 60)\n",
    "    s -= m * 60\n",
    "    return '%dm %ds' % (m, s)\n"
   ]
  },
  {
   "cell_type": "markdown",
   "metadata": {},
   "source": [
    "## Train now!!! ##"
   ]
  },
  {
   "cell_type": "code",
   "execution_count": 13,
   "metadata": {},
   "outputs": [],
   "source": [
    "def train(category_tensor, line_tensor, optim, criterion, model):\n",
    "    \n",
    "    model.train()\n",
    "    hidden = model.initHidden()\n",
    "    model.zero_grad()\n",
    "    \n",
    "    category_tensor = category_tensor.to(device)\n",
    "    line_tensor = line_tensor.to(device)\n",
    "\n",
    "    # Iterate through the whole line!\n",
    "    for i in range(line_tensor.size()[0]):\n",
    "        hidden = hidden.to(device)\n",
    "        output, hidden = model(line_tensor[i], hidden)\n",
    "\n",
    "    loss = criterion(output, category_tensor)\n",
    "    \n",
    "    # zero the parameter gradients\n",
    "    optim.zero_grad()\n",
    "    loss.backward()\n",
    "    optim.step()\n",
    "\n",
    "    return output, loss.item()"
   ]
  },
  {
   "cell_type": "markdown",
   "metadata": {},
   "source": [
    "#### Train with the RNN from scrath ####"
   ]
  },
  {
   "cell_type": "code",
   "execution_count": 14,
   "metadata": {},
   "outputs": [
    {
     "name": "stdout",
     "output_type": "stream",
     "text": [
      "5000 50% (0m 9s) 1.4251 Samios / Greek ✓\n",
      "10000 100% (0m 18s) 2.0427 Pesek / Polish ✗ (Czech)\n"
     ]
    }
   ],
   "source": [
    "criterion = nn.NLLLoss() # Because we are using Log_softmax\n",
    "learning_rate = 0.005 # If you set this too high, it might explode. If too low, it might not learn\n",
    "N_HIDDEN = 128\n",
    "\n",
    "model_basic = RNN(n_letters, N_HIDDEN, n_categories) #Vocab_size, hidden size, output classes\n",
    "model_basic = model_basic.to(device)\n",
    "optimizer = optim.SGD(model_basic.parameters(), lr=learning_rate)\n",
    "\n",
    "n_iters = 10000\n",
    "print_every = 5000\n",
    "plot_every = 1000\n",
    "\n",
    "# Keep track of losses for plotting\n",
    "current_loss = 0\n",
    "all_losses = []\n",
    "\n",
    "start = time.time()\n",
    "\n",
    "for iter in range(1, n_iters + 1):\n",
    "    category, line, category_tensor, line_tensor = randomTrainingExample()\n",
    "    output, loss = train(category_tensor, line_tensor, optimizer, criterion, model_basic)\n",
    "    current_loss += loss\n",
    "\n",
    "    # Print iter number, loss, name and guess\n",
    "    if iter % print_every == 0:\n",
    "        guess, guess_i = categoryFromOutput(output)\n",
    "        correct = '✓' if guess == category else '✗ (%s)' % category\n",
    "        print('%d %d%% (%s) %.4f %s / %s %s' % (iter, iter / n_iters * 100, timeSince(start), loss, line, guess, correct))\n",
    "\n",
    "    # Add current loss avg to list of losses\n",
    "    if iter % plot_every == 0:\n",
    "        all_losses.append(current_loss / plot_every)\n",
    "        current_loss = 0"
   ]
  },
  {
   "cell_type": "code",
   "execution_count": 15,
   "metadata": {},
   "outputs": [
    {
     "data": {
      "text/plain": [
       "[<matplotlib.lines.Line2D at 0x23a04bfca30>]"
      ]
     },
     "execution_count": 15,
     "metadata": {},
     "output_type": "execute_result"
    },
    {
     "data": {
      "image/png": "[encoded data removed]",
      "text/plain": [
       "<Figure size 432x288 with 1 Axes>"
      ]
     },
     "metadata": {
      "needs_background": "light"
     },
     "output_type": "display_data"
    }
   ],
   "source": [
    "# PLOT THE RESULT\n",
    "\n",
    "import matplotlib.pyplot as plt\n",
    "import matplotlib.ticker as ticker\n",
    "\n",
    "plt.figure()\n",
    "plt.plot(all_losses)"
   ]
  },
  {
   "cell_type": "markdown",
   "metadata": {},
   "source": [
    "## Evaluate the results with a confusion matrix! ##"
   ]
  },
  {
   "cell_type": "code",
   "execution_count": 16,
   "metadata": {},
   "outputs": [
    {
     "name": "stderr",
     "output_type": "stream",
     "text": [
      "C:\\Users\\jason\\AppData\\Local\\Temp/ipykernel_8012/3315315813.py:36: UserWarning: FixedFormatter should only be used together with FixedLocator\n",
      "  ax.set_xticklabels([''] + all_categories, rotation=90)\n",
      "C:\\Users\\jason\\AppData\\Local\\Temp/ipykernel_8012/3315315813.py:37: UserWarning: FixedFormatter should only be used together with FixedLocator\n",
      "  ax.set_yticklabels([''] + all_categories)\n"
     ]
    },
    {
     "data": {
      "image/png": "[encoded data removed]",
      "text/plain": [
       "<Figure size 432x288 with 2 Axes>"
      ]
     },
     "metadata": {
      "needs_background": "light"
     },
     "output_type": "display_data"
    }
   ],
   "source": [
    "# Keep track of correct guesses in a confusion matrix\n",
    "confusion = torch.zeros(n_categories, n_categories)\n",
    "n_confusion = 10000\n",
    "\n",
    "# Just return an output given a line\n",
    "def evaluate(line_tensor, model):\n",
    "    model.eval()\n",
    "    hidden = model.initHidden()\n",
    "    line_tensor = line_tensor.to(device)\n",
    "\n",
    "    for i in range(line_tensor.size()[0]):\n",
    "        hidden = hidden.to(device)\n",
    "        output, hidden = model(line_tensor[i], hidden)\n",
    "\n",
    "    return output\n",
    "\n",
    "# Go through a bunch of examples and record which are correctly guessed\n",
    "for i in range(n_confusion):\n",
    "    category, line, category_tensor, line_tensor = randomTrainingExample()\n",
    "    output = evaluate(line_tensor, model_basic)\n",
    "    guess, guess_i = categoryFromOutput(output)\n",
    "    category_i = all_categories.index(category)\n",
    "    confusion[category_i][guess_i] += 1\n",
    "\n",
    "# Normalize by dividing every row by its sum\n",
    "for i in range(n_categories):\n",
    "    confusion[i] = confusion[i] / confusion[i].sum()\n",
    "\n",
    "# Set up plot\n",
    "fig = plt.figure()\n",
    "ax = fig.add_subplot(111)\n",
    "cax = ax.matshow(confusion.numpy())\n",
    "fig.colorbar(cax)\n",
    "\n",
    "# Set up axes\n",
    "ax.set_xticklabels([''] + all_categories, rotation=90)\n",
    "ax.set_yticklabels([''] + all_categories)\n",
    "\n",
    "# Force label at every tick\n",
    "ax.xaxis.set_major_locator(ticker.MultipleLocator(1))\n",
    "ax.yaxis.set_major_locator(ticker.MultipleLocator(1))\n",
    "\n",
    "# sphinx_gallery_thumbnail_number = 2\n",
    "plt.show()"
   ]
  },
  {
   "cell_type": "markdown",
   "metadata": {},
   "source": [
    "## Now we can try predicting our own things! ##"
   ]
  },
  {
   "cell_type": "code",
   "execution_count": 17,
   "metadata": {},
   "outputs": [
    {
     "name": "stdout",
     "output_type": "stream",
     "text": [
      "\n",
      "> Dovesky\n",
      "(-1.59) Russian\n",
      "(-1.60) Polish\n",
      "(-2.29) Czech\n",
      "\n",
      "> Jackson\n",
      "(-1.48) Russian\n",
      "(-2.04) Scottish\n",
      "(-2.16) Irish\n",
      "\n",
      "> Satoshi\n",
      "(-1.48) Italian\n",
      "(-1.62) Polish\n",
      "(-1.78) Japanese\n",
      "\n",
      "> Alberto\n",
      "(-1.52) Italian\n",
      "(-1.87) Spanish\n",
      "(-2.10) Portuguese\n"
     ]
    }
   ],
   "source": [
    "def predict(input_line, n_predictions=3):\n",
    "    print('\\n> %s' % input_line)\n",
    "    with torch.no_grad():\n",
    "        output = evaluate(lineToTensor(input_line), model_basic)\n",
    "\n",
    "        # Get top N categories\n",
    "        topv, topi = output.topk(n_predictions, 1, True)\n",
    "        predictions = []\n",
    "\n",
    "        for i in range(n_predictions):\n",
    "            value = topv[0][i].item()\n",
    "            category_index = topi[0][i].item()\n",
    "            print('(%.2f) %s' % (value, all_categories[category_index]))\n",
    "            predictions.append([value, all_categories[category_index]])\n",
    "\n",
    "predict('Dovesky')\n",
    "predict('Jackson')\n",
    "predict('Satoshi')\n",
    "predict('Alberto')"
   ]
  },
  {
   "cell_type": "markdown",
   "metadata": {},
   "source": [
    "### So now lets shift to using the RNN Module from Pytorch ###"
   ]
  },
  {
   "cell_type": "code",
   "execution_count": 18,
   "metadata": {},
   "outputs": [
    {
     "name": "stdout",
     "output_type": "stream",
     "text": [
      "category = Vietnamese / line = Han\n",
      "category = Korean / line = Park \n",
      "category = German / line = Krause\n",
      "category = Czech / line = Antonowitsch\n",
      "category = Polish / line = Klimek\n",
      "category = Irish / line = Giolla\n",
      "category = Irish / line = Cennetig\n",
      "category = Scottish / line = Brown\n",
      "category = Irish / line = Dubhan\n",
      "category = Korean / line = Yi\n"
     ]
    }
   ],
   "source": [
    "def categoryToTensor(category):\n",
    "#     tensor = torch.zeros([1, 1], dtype=torch.long)\n",
    "#     tensor[0][0] = all_categories.index(category)\n",
    "    tensor = torch.zeros([1, len(all_categories)], dtype=torch.long)\n",
    "    tensor[0][all_categories.index(category)] = 1\n",
    "    return tensor\n",
    "\n",
    "def randomChoice(l):\n",
    "    return l[random.randint(0, len(l) - 1)]\n",
    "\n",
    "def randomTrainingExample():\n",
    "    category = randomChoice(all_categories)\n",
    "    line = randomChoice(category_lines[category])\n",
    "    category_tensor = categoryToTensor(category)\n",
    "    line_tensor = lineToTensor(line)\n",
    "    return category, line, category_tensor, line_tensor\n",
    "\n",
    "for i in range(10):\n",
    "    category, line, category_tensor, line_tensor = randomTrainingExample()\n",
    "    print('category =', category, '/ line =', line)\n",
    "#     print(category_tensor.shape)"
   ]
  },
  {
   "cell_type": "code",
   "execution_count": 19,
   "metadata": {},
   "outputs": [],
   "source": [
    "class RNNPytorch(nn.Module):\n",
    "    def __init__(self, input_size, hidden_size, output_size):\n",
    "        super(RNNPytorch, self).__init__()\n",
    "\n",
    "        self.hidden_size = hidden_size\n",
    "        \n",
    "        self.rnn = nn.RNN(input_size, hidden_size, num_layers=1, batch_first=True) # 1 is num_layers\n",
    "        self.fc = nn.Linear(hidden_size, output_size)\n",
    "        self.lsoftmax = nn.LogSoftmax(dim=1)\n",
    "\n",
    "    def forward(self, x, hidden):\n",
    "\n",
    "        hidden, output = self.rnn(x, hidden)\n",
    "\n",
    "        #print(hidden.shape)\n",
    "        output = output.contiguous().view(-1, self.hidden_size)\n",
    "        output = self.fc(output)\n",
    "        output = self.lsoftmax(output)\n",
    "        \n",
    "        return output, hidden\n",
    "\n",
    "    def initHidden(self, batch_size):\n",
    "        return torch.zeros(1, 1, self.hidden_size)"
   ]
  },
  {
   "cell_type": "code",
   "execution_count": 20,
   "metadata": {},
   "outputs": [],
   "source": [
    "def train_pytorch_model(category_tensor, line_tensor, optim, criterion, model):\n",
    "    \n",
    "    model.train()\n",
    "    hidden = model.initHidden(line_tensor.shape[1])\n",
    "    model.zero_grad()\n",
    "    line_tensor = line_tensor.permute(1, 0, 2)\n",
    "#     print(line_tensor.shape)\n",
    "    \n",
    "#     print(category_tensor.shape)\n",
    "    category_tensor = category_tensor.to(device)\n",
    "    line_tensor = line_tensor.to(device)\n",
    "    \n",
    "    # Iterate through the whole line!\n",
    "    hidden = hidden.to(device)\n",
    "    output, hidden = model(line_tensor, hidden)\n",
    "\n",
    "    loss = criterion(output, torch.topk(category_tensor, 1).indices.view(-1))\n",
    "    \n",
    "    # zero the parameter gradients\n",
    "    optim.zero_grad()\n",
    "    loss.backward()\n",
    "    optim.step()\n",
    "\n",
    "    return output, loss.item()"
   ]
  },
  {
   "cell_type": "markdown",
   "metadata": {},
   "source": [
    "#### Train from the RNN using pytorch approach ####"
   ]
  },
  {
   "cell_type": "code",
   "execution_count": 21,
   "metadata": {},
   "outputs": [
    {
     "name": "stdout",
     "output_type": "stream",
     "text": [
      "5000 50% (0m 5s) 1.9520 Assaf / Arabic ✓\n",
      "10000 100% (0m 10s) 2.4150 Ferrara / Japanese ✗ (Italian)\n"
     ]
    }
   ],
   "source": [
    "criterion = nn.NLLLoss() # Because we are using Log_softmax\n",
    "learning_rate = 0.005 # If you set this too high, it might explode. If too low, it might not learn\n",
    "N_HIDDEN = 128\n",
    "\n",
    "model_pytorch = RNNPytorch(n_letters, N_HIDDEN, n_categories) #Vocab_size, hidden size, output classes\n",
    "model_pytorch = model_pytorch.to(device)\n",
    "optimizer = optim.SGD(model_pytorch.parameters(), lr=learning_rate)\n",
    "\n",
    "n_iters = 10000\n",
    "print_every = 5000\n",
    "plot_every = 1000\n",
    "\n",
    "# Keep track of losses for plotting\n",
    "current_loss = 0\n",
    "all_losses = []\n",
    "\n",
    "start = time.time()\n",
    "\n",
    "for iter in range(1, n_iters + 1):\n",
    "    category, line, category_tensor, line_tensor = randomTrainingExample()\n",
    "    output, loss = train_pytorch_model(category_tensor, line_tensor, optimizer, criterion, model_pytorch)\n",
    "    current_loss += loss\n",
    "    # Print iter number, loss, name and guess\n",
    "    if iter % print_every == 0:\n",
    "        guess, guess_i = categoryFromOutput(output)\n",
    "        correct = '✓' if guess == category else '✗ (%s)' % category\n",
    "        print('%d %d%% (%s) %.4f %s / %s %s' % (iter, iter / n_iters * 100, timeSince(start), loss, line, guess, correct))\n",
    "\n",
    "    # Add current loss avg to list of losses\n",
    "    if iter % plot_every == 0:\n",
    "        all_losses.append(current_loss / plot_every)\n",
    "        current_loss = 0"
   ]
  },
  {
   "cell_type": "code",
   "execution_count": 22,
   "metadata": {},
   "outputs": [
    {
     "data": {
      "text/plain": [
       "[<matplotlib.lines.Line2D at 0x23a10bb8250>]"
      ]
     },
     "execution_count": 22,
     "metadata": {},
     "output_type": "execute_result"
    },
    {
     "data": {
      "image/png": "[encoded data removed]",
      "text/plain": [
       "<Figure size 432x288 with 1 Axes>"
      ]
     },
     "metadata": {
      "needs_background": "light"
     },
     "output_type": "display_data"
    }
   ],
   "source": [
    "# PLOT THE RESULT\n",
    "\n",
    "import matplotlib.pyplot as plt\n",
    "import matplotlib.ticker as ticker\n",
    "\n",
    "plt.figure()\n",
    "plt.plot(all_losses)"
   ]
  },
  {
   "cell_type": "code",
   "execution_count": 23,
   "metadata": {},
   "outputs": [],
   "source": [
    "# Just return an output given a line\n",
    "def evaluate(line_tensor, model):\n",
    "    model.eval()\n",
    "    hidden = model.initHidden(line_tensor.shape[1])\n",
    "    hidden = hidden.to(device)\n",
    "\n",
    "    line_tensor = line_tensor.permute(1, 0, 2)\n",
    "    line_tensor = line_tensor.to(device)\n",
    "    output, hidden = model(line_tensor, hidden)\n",
    "    \n",
    "    return output"
   ]
  },
  {
   "cell_type": "code",
   "execution_count": 24,
   "metadata": {},
   "outputs": [
    {
     "name": "stdout",
     "output_type": "stream",
     "text": [
      "\n",
      "> Dovesky\n",
      "(-0.98) Polish\n",
      "(-1.69) Russian\n",
      "(-2.19) Czech\n",
      "\n",
      "> Jackson\n",
      "(-1.48) Russian\n",
      "(-2.03) Scottish\n",
      "(-2.12) Polish\n",
      "\n",
      "> Satoshi\n",
      "(-0.97) Polish\n",
      "(-1.66) Italian\n",
      "(-2.18) Czech\n",
      "\n",
      "> Alberto\n",
      "(-1.23) Italian\n",
      "(-1.61) Portuguese\n",
      "(-2.01) Spanish\n"
     ]
    }
   ],
   "source": [
    "def predict(input_line, n_predictions=3):\n",
    "    print('\\n> %s' % input_line)\n",
    "    with torch.no_grad():\n",
    "        output = evaluate(lineToTensor(input_line), model_pytorch)\n",
    "\n",
    "        # Get top N categories\n",
    "        topv, topi = output.topk(n_predictions, 1, True)\n",
    "        predictions = []\n",
    "\n",
    "        for i in range(n_predictions):\n",
    "            value = topv[0][i].item()\n",
    "            category_index = topi[0][i].item()\n",
    "            print('(%.2f) %s' % (value, all_categories[category_index]))\n",
    "            predictions.append([value, all_categories[category_index]])\n",
    "\n",
    "predict('Dovesky')\n",
    "predict('Jackson')\n",
    "predict('Satoshi')\n",
    "predict('Alberto')"
   ]
  },
  {
   "cell_type": "markdown",
   "metadata": {},
   "source": [
    "# Lab Assignment below:\n",
    "## Now one of your assigments is to adapt/expand this text classifier! ##\n",
    "\n",
    "- Adapt the task to another similar task\n",
    "- Use LSTMs or GRU to compare with both Vanilla RNN approaches\n",
    "\n",
    "You can keep it at character-level or you can extend it to word-level (the vocabulary will change)\n",
    "\n",
    "Try with different datasets with a similar Input/Output system:\n",
    "- Book or character name -> writer\n",
    "- Game's titles -> company or genre\n",
    "- Any word -> language\n",
    "- Whatever you can think it can be classified"
   ]
  },
  {
   "cell_type": "code",
   "execution_count": 25,
   "metadata": {},
   "outputs": [],
   "source": [
    "\n",
    "txt_file = \"C:/Users/jason/Python/Jason/Done/2-language-models-lab/data/book-summaries/booksummaries_public/booksummaries/booksummaries.txt\"\n",
    "file_in=open(txt_file,encoding='utf-8')\n",
    "\n",
    "a = set()\n",
    "arr = []\n",
    "author_list = []\n",
    "n_authors = 30\n",
    "book = []\n",
    "a_s = []\n",
    "authors = []\n",
    "data = {}\n",
    "words=set()\n",
    "titles = []\n",
    "\n",
    "while len(a_s) < n_authors: #\n",
    "    line = file_in.readline()\n",
    "    line_strip = line.strip()\n",
    "    line_split = line_strip.split('\\t')\n",
    "    if len(line_split[3]) != 0:\n",
    "        author = line_split[3].title()\n",
    "        author = line_split[3].replace(\" \",\"\")\n",
    "        a_s.append(author) #\n",
    "    \n",
    "for line in file_in:\n",
    "    line_strip = line.strip()\n",
    "    line_split = line_strip.split('\\t')\n",
    "    arr.append(line_split)\n",
    "    if author in a_s: #\n",
    "        title=line_split[2]#.lower()\n",
    "        title_split=title.split(\" \")\n",
    "        for w in title_split:\n",
    "            words.add(w)\n",
    "            \n",
    "for paragraph in arr:\n",
    "    if len(paragraph[3]) != 0:\n",
    "        #print(paragraph[3])\n",
    "        a.add(paragraph[3])\n",
    "        \n",
    "\n",
    "old_author = \"\"\n",
    "for author in a:\n",
    "    author = author.title()\n",
    "    author = author.replace(\" \", \"\")\n",
    "    old_author = author\n",
    "    if author in a_s: \n",
    "        for p in arr: #paragraph\n",
    "            for word in p: #word in paragraph\n",
    "                word = word.title()\n",
    "                word = word.replace(\" \", \"\")\n",
    "                if author == word:\n",
    "                    new_author = p[3]\n",
    "                   # print(p[2], p[3])\n",
    "                    if new_author != old_author:\n",
    "                        titles.append(book)\n",
    "                        old_author = new_author\n",
    "                        book = []\n",
    "                    if p[2] not in book:\n",
    "                       #print(\"adding\", book)\n",
    "                        book.append(p[2]) # add books that are not in list\n",
    "                       \n",
    "                    if p[3] not in authors:\n",
    "                        authors.append(p[3]) # add authors that are not in list\n",
    "                        \n",
    "file_in.close()\n",
    "\n",
    "if not titles[0]:\n",
    "    titles = titles[1:]\n",
    "\n",
    "words.add(\" \")  \n",
    "words=list(words)\n",
    "n_words=len(words)\n",
    "\n",
    "for i in range(0, len(authors)):\n",
    "    authors[i] = authors[i].title()\n",
    "    authors[i] = authors[i].replace(\" \", \"\")\n",
    "    \n",
    "for i in range(1, len(book)):\n",
    "    book[i] = book[i].title()\n",
    "    book[i] = book[i].replace(\" \", \"\")\n",
    "    \n",
    "for key in authors:\n",
    "    data[key] = []\n",
    "\n",
    "\n",
    "for i in range(0, len(titles)):\n",
    "    data[authors[i]] = titles[i]\n",
    "\n",
    "\n",
    "#print(\"titles: \", titles)\n",
    "#print(\"authors:\", authors)\n",
    "#print(\"data:\", data)\n",
    "\n",
    "        "
   ]
  },
  {
   "cell_type": "code",
   "execution_count": 26,
   "metadata": {},
   "outputs": [
    {
     "name": "stdout",
     "output_type": "stream",
     "text": [
      "titles:  [['Nostromo', 'The Secret Agent', 'Lord Jim', 'The Rover', \"Almayer's Folly\", 'Typhoon', 'Under Western Eyes', 'Amy Foster', 'Victory'], ['Consciousness Explained', 'Elbow Room', 'Freedom Evolves', 'Breaking the Spell: Religion as a Natural Phenomenon'], ['Macbeth', 'Othello', 'Romeo and Juliet', 'The Merchant of Venice', 'Cymbeline', \"A Midsummer Night's Dream\", 'Henry V', 'King Lear', 'Julius Caesar', 'Titus Andronicus', 'Measure for Measure', \"All's Well That Ends Well\", 'The Taming of the Shrew', 'Antony and Cleopatra', 'King John', \"Love's Labour's Lost\", 'Richard II', \"The Winter's Tale\", 'Richard III', 'Henry VI, part 1', 'Henry VI, part 3', 'The Merry Wives of Windsor', 'Henry IV, Part 1', 'Pericles, Prince of Tyre', 'The Two Gentlemen of Verona', 'Timon of Athens', 'Troilus and Cressida', 'The Comedy of Errors', 'Venus and Adonis', 'Twelfth Night, or What You Will', 'Henry IV, Part 2', 'Coriolanus', 'Much Ado About Nothing', 'As You Like It', 'The Tempest'], ['The World According to Garp', 'The Hotel New Hampshire', 'A Prayer for Owen Meany', 'The 158-Pound Marriage', 'The Water-Method Man', 'A Widow for One Year', 'The Fourth Hand', 'Setting Free the Bears', 'A Sound Like Someone Trying Not to Make a Sound', 'Last Night In Twisted River'], ['Blade Runner 4: Eye and Talon', 'The Mandalorian Armor', 'Infernal Devices: A Mad Victorian Fantasy'], ['The Tombs of Atuan', 'The Farthest Shore', 'The Other Wind', 'Tehanu', \"Rocannon's World\", 'Always Coming Home', 'Planet of Exile', 'City of Illusions', 'Malafrena', 'The Lathe of Heaven', 'The Word for World is Forest', 'The Telling', 'The Eye of the Heron', 'The Beginning Place', \"Buffalo Gals, Won't You Come Out Tonight\", 'The Left Hand of Darkness'], ['Uncle Silas', 'The House by the Churchyard', 'Letters on the English', 'Zadig, ou La destinee', 'The White Bull', 'Mahomet'], ['Heretics of Dune', 'Dune', 'The Dragon in the Sea', 'Destination: Void', 'Whipping Star', 'The Dosadi Experiment', 'The White Plague', 'The Santaroga Barrier', 'The Jesus Incident', 'The Godmakers', 'The Eyes of Heisenberg', 'The Green Brain', 'The Ascension Factor', 'The Heaven Makers', 'Direct Descent', 'Soul Catcher'], ['Lair of the White Worm', \"Dracula's Guest\", 'The Primrose Path'], ['In the Penal Colony', 'Amerika', 'The Castle', 'Description of a Struggle', 'The Village Schoolmaster'], ['Dandelion Wine', 'Something Wicked This Way Comes', 'Death Is a Lonely Business', 'The Halloween Tree', 'Green Shadows, White Whale', 'The Pedestrian', 'The Golden Kite, The Silver Wind', 'The Dragon'], ['Leaf by Niggle', 'The Lord of the Rings', 'The Hobbit', 'The Two Towers', 'The Return of the King', 'Smith of Wootton Major', 'The Fellowship of the Ring', 'The Silmarillion'], ['True Names', 'A Deepness in the Sky', 'The Peace War', 'Marooned in Realtime', 'The Cookie Monster', 'The Ungoverned', 'Rainbows End'], ['Empire of the Sun', 'High Rise', 'The Atrocity Exhibition', 'Super-Cannes', 'Cocaine Nights', 'The Crystal World', 'Concrete Island', 'Rushing to Paradise', 'The Drought', 'The Drowned World', 'Hello America', 'Millennium People', 'The Day of Creation', 'Running Wild', 'The Kindness of Women', 'The Unlimited Dream Company'], ['The Wanting Seed', 'Earthly Powers', 'Nineteen Eighty-Five', 'Abba Abba', 'A Dead Man in Deptford', 'The Kingdom of the Wicked', \"Beard's Roman Women\", 'Inside Mr. Enderby', 'Enderby Outside', \"The Clockwork Testament, or Enderby's End\", 'M/F', 'Tremor of Intent: An Eschatological Spy Novel', 'The Doctor is Sick', 'Honey for the Bears', \"Enderby's Dark Lady, or No End of Enderby\", 'Man of Nazareth'], ['Keep the Aspidistra Flying', 'Down and Out in Paris and London', 'Coming Up for Air', 'Shooting an Elephant', 'Burmese Days', \"A Clergyman's Daughter\", 'Nineteen Eighty-Four'], ['Three Comrades', 'Arch of Triumph', 'Heaven Has No Favorites'], ['Murder Must Advertise', 'Whose Body?', 'Clouds of Witness', 'Unnatural Death', 'The Unpleasantness at the Bellona Club', 'Strong Poison', 'Five Red Herrings', 'Have His Carcase', 'The Nine Tailors', \"Busman's Honeymoon\", 'The Documents in the Case'], ['An Enquiry Concerning the Principles of Morals']]\n",
      "authors: ['JosephConrad', 'DanielDennett', 'WilliamShakespeare', 'JohnIrving', 'K.W.Jeter', 'UrsulaK.LeGuin', 'SheridanLeFanu', 'Voltaire', 'FrankHerbert', 'BramStoker', 'FranzKafka', 'RayBradbury', 'J.R.R.Tolkien', 'VernorVinge', 'J.G.Ballard', 'AnthonyBurgess', 'GeorgeOrwell', 'ErichMariaRemarque', 'DorothyL.Sayers']\n",
      "data: {'JosephConrad': ['Nostromo', 'The Secret Agent', 'Lord Jim', 'The Rover', \"Almayer's Folly\", 'Typhoon', 'Under Western Eyes', 'Amy Foster', 'Victory'], 'DanielDennett': ['Consciousness Explained', 'Elbow Room', 'Freedom Evolves', 'Breaking the Spell: Religion as a Natural Phenomenon'], 'WilliamShakespeare': ['Macbeth', 'Othello', 'Romeo and Juliet', 'The Merchant of Venice', 'Cymbeline', \"A Midsummer Night's Dream\", 'Henry V', 'King Lear', 'Julius Caesar', 'Titus Andronicus', 'Measure for Measure', \"All's Well That Ends Well\", 'The Taming of the Shrew', 'Antony and Cleopatra', 'King John', \"Love's Labour's Lost\", 'Richard II', \"The Winter's Tale\", 'Richard III', 'Henry VI, part 1', 'Henry VI, part 3', 'The Merry Wives of Windsor', 'Henry IV, Part 1', 'Pericles, Prince of Tyre', 'The Two Gentlemen of Verona', 'Timon of Athens', 'Troilus and Cressida', 'The Comedy of Errors', 'Venus and Adonis', 'Twelfth Night, or What You Will', 'Henry IV, Part 2', 'Coriolanus', 'Much Ado About Nothing', 'As You Like It', 'The Tempest'], 'JohnIrving': ['The World According to Garp', 'The Hotel New Hampshire', 'A Prayer for Owen Meany', 'The 158-Pound Marriage', 'The Water-Method Man', 'A Widow for One Year', 'The Fourth Hand', 'Setting Free the Bears', 'A Sound Like Someone Trying Not to Make a Sound', 'Last Night In Twisted River'], 'K.W.Jeter': ['Blade Runner 4: Eye and Talon', 'The Mandalorian Armor', 'Infernal Devices: A Mad Victorian Fantasy'], 'UrsulaK.LeGuin': ['The Tombs of Atuan', 'The Farthest Shore', 'The Other Wind', 'Tehanu', \"Rocannon's World\", 'Always Coming Home', 'Planet of Exile', 'City of Illusions', 'Malafrena', 'The Lathe of Heaven', 'The Word for World is Forest', 'The Telling', 'The Eye of the Heron', 'The Beginning Place', \"Buffalo Gals, Won't You Come Out Tonight\", 'The Left Hand of Darkness'], 'SheridanLeFanu': ['Uncle Silas', 'The House by the Churchyard', 'Letters on the English', 'Zadig, ou La destinee', 'The White Bull', 'Mahomet'], 'Voltaire': ['Heretics of Dune', 'Dune', 'The Dragon in the Sea', 'Destination: Void', 'Whipping Star', 'The Dosadi Experiment', 'The White Plague', 'The Santaroga Barrier', 'The Jesus Incident', 'The Godmakers', 'The Eyes of Heisenberg', 'The Green Brain', 'The Ascension Factor', 'The Heaven Makers', 'Direct Descent', 'Soul Catcher'], 'FrankHerbert': ['Lair of the White Worm', \"Dracula's Guest\", 'The Primrose Path'], 'BramStoker': ['In the Penal Colony', 'Amerika', 'The Castle', 'Description of a Struggle', 'The Village Schoolmaster'], 'FranzKafka': ['Dandelion Wine', 'Something Wicked This Way Comes', 'Death Is a Lonely Business', 'The Halloween Tree', 'Green Shadows, White Whale', 'The Pedestrian', 'The Golden Kite, The Silver Wind', 'The Dragon'], 'RayBradbury': ['Leaf by Niggle', 'The Lord of the Rings', 'The Hobbit', 'The Two Towers', 'The Return of the King', 'Smith of Wootton Major', 'The Fellowship of the Ring', 'The Silmarillion'], 'J.R.R.Tolkien': ['True Names', 'A Deepness in the Sky', 'The Peace War', 'Marooned in Realtime', 'The Cookie Monster', 'The Ungoverned', 'Rainbows End'], 'VernorVinge': ['Empire of the Sun', 'High Rise', 'The Atrocity Exhibition', 'Super-Cannes', 'Cocaine Nights', 'The Crystal World', 'Concrete Island', 'Rushing to Paradise', 'The Drought', 'The Drowned World', 'Hello America', 'Millennium People', 'The Day of Creation', 'Running Wild', 'The Kindness of Women', 'The Unlimited Dream Company'], 'J.G.Ballard': ['The Wanting Seed', 'Earthly Powers', 'Nineteen Eighty-Five', 'Abba Abba', 'A Dead Man in Deptford', 'The Kingdom of the Wicked', \"Beard's Roman Women\", 'Inside Mr. Enderby', 'Enderby Outside', \"The Clockwork Testament, or Enderby's End\", 'M/F', 'Tremor of Intent: An Eschatological Spy Novel', 'The Doctor is Sick', 'Honey for the Bears', \"Enderby's Dark Lady, or No End of Enderby\", 'Man of Nazareth'], 'AnthonyBurgess': ['Keep the Aspidistra Flying', 'Down and Out in Paris and London', 'Coming Up for Air', 'Shooting an Elephant', 'Burmese Days', \"A Clergyman's Daughter\", 'Nineteen Eighty-Four'], 'GeorgeOrwell': ['Three Comrades', 'Arch of Triumph', 'Heaven Has No Favorites'], 'ErichMariaRemarque': ['Murder Must Advertise', 'Whose Body?', 'Clouds of Witness', 'Unnatural Death', 'The Unpleasantness at the Bellona Club', 'Strong Poison', 'Five Red Herrings', 'Have His Carcase', 'The Nine Tailors', \"Busman's Honeymoon\", 'The Documents in the Case'], 'DorothyL.Sayers': ['An Enquiry Concerning the Principles of Morals']}\n"
     ]
    }
   ],
   "source": [
    "# do some data processing, remove authors without books that has came into our data.\n",
    "data = dict(compress(data.items(), data.values()))\n",
    "authors = authors[:-2]  \n",
    "print(\"titles: \", titles)\n",
    "print(\"authors:\", authors)\n",
    "print(\"data:\", data)  \n"
   ]
  },
  {
   "cell_type": "code",
   "execution_count": 27,
   "metadata": {},
   "outputs": [
    {
     "name": "stdout",
     "output_type": "stream",
     "text": [
      "author = K.W.Jeter / title = The Mandalorian Armor\n",
      "author = AnthonyBurgess / title = A Clergyman's Daughter\n",
      "author = J.R.R.Tolkien / title = The Ungoverned\n",
      "author = JohnIrving / title = The Hotel New Hampshire\n",
      "author = ErichMariaRemarque / title = Whose Body?\n"
     ]
    }
   ],
   "source": [
    "# Find word index from all words\n",
    "def wordToIndex(word):\n",
    "    return words.index(word)\n",
    "\n",
    "# Turn a title into a tensor\n",
    "# <title_length x 1 x n_words>\n",
    "def titleToTensor(title):\n",
    "    if isinstance(title, str):\n",
    "        tensor = torch.zeros(len(title.split(\" \")), 1, n_words)\n",
    "        for li, word in enumerate(title.split(\" \")):\n",
    "            tensor[li][0][wordToIndex(word)] = 1\n",
    "        return tensor\n",
    "\n",
    "# Turn a author into a tensor\n",
    "def authorToTensor(author):\n",
    "    tensor = torch.zeros([1, len(authors)], dtype=torch.long)\n",
    "    tensor[0][list(data.keys()).index(author)] = 1\n",
    "    return tensor\n",
    "\n",
    "def randomChoice(l):\n",
    "    return l[random.randint(0, len(l) - 1)]\n",
    "\n",
    "def randomTrainingExample():\n",
    "    author = randomChoice(authors)\n",
    "    title = randomChoice(data[author])\n",
    "    author_tensor = authorToTensor(author)\n",
    "    title_tensor = titleToTensor(title)\n",
    "    return author, title, author_tensor, title_tensor\n",
    "\n",
    "# Helper function to get the actual category from the best\n",
    "def categoryFromOutput(output):\n",
    "    top_n, top_i = output.topk(1)\n",
    "    category_i = top_i[0].item()\n",
    "    return authors[category_i], category_i\n",
    "\n",
    "def getAuthorFromTitle(title):\n",
    "    for author in data:\n",
    "        for ti in data.get(author):\n",
    "            if ti == title:\n",
    "                return author\n",
    "    return None\n",
    "\n",
    "for i in range(5):\n",
    "    author, title, author_tensor, title_tensor = randomTrainingExample()\n",
    "    print('author =', author, '/ title =', title)\n",
    "    \n",
    "\n",
    "#print(titleToTensor(randomChoice(titles)))\n",
    "#print(categoryFromOutput(output)\n",
    "#getAuthorFromTitle(\"Uncle Silas\")\n"
   ]
  },
  {
   "cell_type": "code",
   "execution_count": 28,
   "metadata": {},
   "outputs": [],
   "source": [
    "class GRU(nn.Module):\n",
    "    def __init__(self, input_size, hidden_size, output_size):\n",
    "        super(GRU, self).__init__()\n",
    "\n",
    "        self.hidden_size = hidden_size\n",
    "        \n",
    "        self.gru = nn.GRU(input_size, hidden_size, num_layers=1, batch_first=True)\n",
    "        self.fc = nn.Linear(hidden_size, output_size)\n",
    "        self.tanh_act = nn.Tanh()\n",
    "        self.lsoftmax = nn.LogSoftmax(dim=1)\n",
    "\n",
    "    def forward(self, x, hidden):\n",
    "\n",
    "        hidden, output = self.gru(x, hidden)\n",
    "        output = output.contiguous().view(-1, self.hidden_size)\n",
    "        output = self.fc(output)\n",
    "        output = self.tanh_act(output)\n",
    "        output = self.lsoftmax(output)\n",
    "        \n",
    "        return output, hidden\n",
    "\n",
    "    def initHidden(self, batch_size):\n",
    "        return torch.zeros(1, 1, self.hidden_size)"
   ]
  },
  {
   "cell_type": "code",
   "execution_count": 29,
   "metadata": {},
   "outputs": [],
   "source": [
    "def train_pytorch_model(author_tensor, title_tensor, optim, criterion, model):\n",
    "    \n",
    "    model.train()\n",
    "    hidden = model.initHidden(title_tensor.shape[1])\n",
    "    model.zero_grad()\n",
    "    title_tensor = title_tensor.permute(1, 0, 2)\n",
    "#     print(title_tensor.shape)\n",
    "    \n",
    "#     print(author_tensor.shape)\n",
    "    author_tensor = author_tensor.to(device)\n",
    "    title_tensor = title_tensor.to(device)\n",
    "    \n",
    "    # Iterate through the whole line!\n",
    "    hidden = hidden.to(device)\n",
    "    output, hidden = model(title_tensor, hidden)\n",
    "\n",
    "    loss = criterion(output, torch.topk(author_tensor, 1).indices.view(-1))\n",
    "    \n",
    "    # zero the parameter gradients\n",
    "    optim.zero_grad()\n",
    "    loss.backward()\n",
    "    optim.step()\n",
    "\n",
    "    return output, loss.item()\n"
   ]
  },
  {
   "cell_type": "code",
   "execution_count": 30,
   "metadata": {},
   "outputs": [
    {
     "name": "stdout",
     "output_type": "stream",
     "text": [
      "current loss 2938.423464536667\n",
      "current loss 2926.5565328598022\n",
      "current loss 2907.114103078842\n",
      "current loss 2895.3669080734253\n",
      "current loss 2884.8009293079376\n",
      "current loss 2861.9258003234863\n",
      "current loss 2845.2205817699432\n",
      "current loss 2823.895723581314\n",
      "current loss 2805.7318000793457\n",
      "10000 12% (0m 42s) 2.5914 Three Comrades / GeorgeOrwell ✓\n",
      "current loss 2771.643550157547\n",
      "current loss 2733.0957320928574\n",
      "current loss 2718.222158551216\n",
      "current loss 2676.758485674858\n",
      "current loss 2662.033959507942\n",
      "current loss 2611.541328072548\n",
      "current loss 2573.7283239364624\n",
      "current loss 2562.329514503479\n",
      "current loss 2515.3956065177917\n",
      "current loss 2469.842162966728\n",
      "20000 25% (1m 26s) 2.5491 The Two Towers / RayBradbury ✓\n",
      "current loss 2448.5989381074905\n",
      "current loss 2401.7729481458664\n",
      "current loss 2365.3115686178207\n",
      "current loss 2315.247356772423\n",
      "current loss 2280.9888758659363\n",
      "current loss 2260.879120707512\n",
      "current loss 2203.766655445099\n",
      "current loss 2174.1854597330093\n",
      "current loss 2110.948921442032\n",
      "current loss 2083.1596890687943\n",
      "30000 37% (2m 9s) 2.3105 The Water-Method Man / JohnIrving ✓\n",
      "current loss 2042.7869412899017\n",
      "current loss 2013.324832201004\n",
      "current loss 1984.735938668251\n",
      "current loss 1945.7154445648193\n",
      "current loss 1886.7672827243805\n",
      "current loss 1900.305666923523\n",
      "current loss 1849.9219253063202\n",
      "current loss 1824.223131775856\n",
      "current loss 1796.3365062475204\n",
      "current loss 1778.5907889604568\n",
      "40000 50% (2m 54s) 1.7438 Strong Poison / ErichMariaRemarque ✓\n",
      "current loss 1758.838615655899\n",
      "current loss 1724.215661406517\n",
      "current loss 1676.9092292785645\n",
      "current loss 1674.0551869869232\n",
      "current loss 1642.9618936777115\n",
      "current loss 1620.063807964325\n",
      "current loss 1620.0200743675232\n",
      "current loss 1590.573266506195\n",
      "current loss 1570.9495663642883\n",
      "current loss 1551.4388835430145\n",
      "50000 62% (3m 40s) 1.4166 A Prayer for Owen Meany / JohnIrving ✓\n",
      "current loss 1543.845428109169\n",
      "current loss 1517.3594868183136\n",
      "current loss 1524.7475078105927\n",
      "current loss 1483.10315990448\n",
      "current loss 1484.8646621704102\n",
      "current loss 1481.642862200737\n",
      "current loss 1464.104686498642\n",
      "current loss 1434.1104170084\n",
      "current loss 1427.3619782924652\n",
      "current loss 1435.7578294277191\n",
      "60000 75% (4m 26s) 1.4513 Amerika / BramStoker ✓\n",
      "current loss 1414.4565485715866\n",
      "current loss 1398.8501012325287\n",
      "current loss 1395.3655853271484\n",
      "current loss 1393.8700090646744\n",
      "current loss 1380.4875118732452\n",
      "current loss 1380.4089977741241\n",
      "current loss 1356.9710125923157\n",
      "current loss 1362.5186361074448\n",
      "current loss 1356.6691340208054\n",
      "current loss 1351.3226828575134\n",
      "70000 87% (5m 14s) 1.2412 An Enquiry Concerning the Principles of Morals / DorothyL.Sayers ✓\n",
      "current loss 1351.4313988685608\n",
      "current loss 1338.0452011823654\n",
      "current loss 1337.683077454567\n",
      "current loss 1330.2087973356247\n",
      "current loss 1328.7003190517426\n",
      "current loss 1328.6088635921478\n",
      "current loss 1314.9054189920425\n",
      "current loss 1317.0893017053604\n",
      "current loss 1311.5555877685547\n",
      "current loss 1305.9773873090744\n",
      "80000 100% (6m 3s) 1.2668 Shooting an Elephant / AnthonyBurgess ✓\n",
      "current loss 1305.392355799675\n"
     ]
    }
   ],
   "source": [
    "criterion = nn.NLLLoss() # Because we are using Log_softmax\n",
    "learning_rate = 0.005 # If you set this too high, it might explode. If too low, it might not learn\n",
    "N_HIDDEN = 256\n",
    "\n",
    "model_pytorch = GRU(n_words, N_HIDDEN, len(authors)) #Vocab_size, hidden size, output classes\n",
    "model_pytorch = model_pytorch.to(device)\n",
    "optimizer = optim.SGD(model_pytorch.parameters(), lr=learning_rate)\n",
    "\n",
    "n_iters = 80000\n",
    "print_every = 10000\n",
    "plot_every = 1000\n",
    "\n",
    "# Keep track of losses for plotting\n",
    "current_loss = 0\n",
    "all_losses = []\n",
    "\n",
    "start = time.time()\n",
    "\n",
    "for iter in range(1, n_iters + 1):\n",
    "    category, line, category_tensor, line_tensor = randomTrainingExample()\n",
    "    output, loss = train_pytorch_model(category_tensor, line_tensor, optimizer, criterion, model_pytorch)\n",
    "    current_loss += loss\n",
    "    # Print iter number, loss, name and guess\n",
    "    if iter % print_every == 0:\n",
    "        guess, guess_i = categoryFromOutput(output)\n",
    "        correct = '✓' if guess == category else '✗ (%s)' % category\n",
    "        print('%d %d%% (%s) %.4f %s / %s %s' % (iter, iter / n_iters * 100, timeSince(start), loss, line, guess, correct))\n",
    "\n",
    "    # Add current loss avg to list of losses\n",
    "    if iter % plot_every == 0:\n",
    "        all_losses.append(current_loss / plot_every)\n",
    "        print(\"current loss\", current_loss)\n",
    "        current_loss = 0"
   ]
  },
  {
   "cell_type": "code",
   "execution_count": 31,
   "metadata": {},
   "outputs": [
    {
     "data": {
      "text/plain": [
       "[<matplotlib.lines.Line2D at 0x23a7d258790>]"
      ]
     },
     "execution_count": 31,
     "metadata": {},
     "output_type": "execute_result"
    },
    {
     "data": {
      "image/png": "[encoded data removed]",
      "text/plain": [
       "<Figure size 432x288 with 1 Axes>"
      ]
     },
     "metadata": {
      "needs_background": "light"
     },
     "output_type": "display_data"
    }
   ],
   "source": [
    "# PLOT THE RESULT\n",
    "import matplotlib.pyplot as plt\n",
    "import matplotlib.ticker as ticker\n",
    "\n",
    "plt.figure()\n",
    "plt.plot(all_losses)"
   ]
  },
  {
   "cell_type": "code",
   "execution_count": 32,
   "metadata": {},
   "outputs": [],
   "source": [
    "# Just return an output given a line\n",
    "def evaluate(title_tensor, model):\n",
    "    model.eval()\n",
    "    hidden = model.initHidden(title_tensor.shape[1])\n",
    "    hidden = hidden.to(device)\n",
    "\n",
    "    title_tensor = title_tensor.permute(1, 0, 2)\n",
    "    title_tensor = title_tensor.to(device)\n",
    "    output, hidden = model(title_tensor, hidden)\n",
    "    \n",
    "    return output"
   ]
  },
  {
   "cell_type": "code",
   "execution_count": 33,
   "metadata": {},
   "outputs": [
    {
     "name": "stdout",
     "output_type": "stream",
     "text": [
      "\n",
      "> The Other Wind - UrsulaK.LeGuin\n",
      "(-1.41) UrsulaK.LeGuin \n",
      "(-2.71) FranzKafka \n",
      "(-3.00) Voltaire \n",
      "\n",
      "> Lair of the White Worm - FrankHerbert\n",
      "(-1.24) FrankHerbert \n",
      "(-3.20) DorothyL.Sayers \n",
      "(-3.20) RayBradbury \n",
      "\n",
      "> A Prayer - None\n",
      "(-2.72) WilliamShakespeare \n",
      "(-2.91) J.R.R.Tolkien \n",
      "(-2.91) JosephConrad \n"
     ]
    }
   ],
   "source": [
    "def predict(input_line, n_predictions=3):\n",
    "    print('\\n> %s -' % input_line, getAuthorFromTitle(input_line))\n",
    "    with torch.no_grad():\n",
    "        output = evaluate(titleToTensor(input_line), model_pytorch)\n",
    "\n",
    "        # Get top N categories\n",
    "        topv, topi = output.topk(n_predictions, 1, True)\n",
    "        predictions = []\n",
    "\n",
    "        for i in range(n_predictions):\n",
    "            value = topv[0][i].item()\n",
    "            category_index = topi[0][i].item()\n",
    "            print('(%.2f) %s ' % (value, authors[category_index]))\n",
    "            predictions.append([value, authors[category_index]])\n",
    "\n",
    "#Predicting three authors for the word(s) given\n",
    "predict(randomTrainingExample()[1])\n",
    "predict(randomTrainingExample()[1])\n",
    "predict('A Prayer')"
   ]
  },
  {
   "cell_type": "code",
   "execution_count": null,
   "metadata": {},
   "outputs": [],
   "source": []
  },
  {
   "cell_type": "code",
   "execution_count": null,
   "metadata": {},
   "outputs": [],
   "source": []
  }
 ],
 "metadata": {
  "kernelspec": {
   "display_name": "Python 3 (ipykernel)",
   "language": "python",
   "name": "python3"
  },
  "language_info": {
   "codemirror_mode": {
    "name": "ipython",
    "version": 3
   },
   "file_extension": ".py",
   "mimetype": "text/x-python",
   "name": "python",
   "nbconvert_exporter": "python",
   "pygments_lexer": "ipython3",
   "version": "3.8.5"
  }
 },
 "nbformat": 4,
 "nbformat_minor": 4
}
