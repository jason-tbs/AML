{
 "cells": [
  {
   "cell_type": "markdown",
   "metadata": {},
   "source": [
    "## Language Models Lab ##\n",
    "\n",
    "Through these notebooks, we will explore different important and interesting techniques, approaches, and uses of language models to address mainly Natural Language Processing tasks.\n",
    "\n",
    "We will explore the following:\n",
    "\n",
    "- Creating Recurrent Neural Networks (RNN) and Long short-term memory (LSTM) networks\n",
    "- Word2Vec\n",
    "    - Continuous Bag-Of-Words (CBOW)\n",
    "- Using RNNS in practice!\n",
    "    - Text classification\n",
    "- Seq2Seq\n",
    "    - Using Torchtext\n",
    "    - Machine Translation\n",
    "- Using Pre-trained models!"
   ]
  },
  {
   "cell_type": "markdown",
   "metadata": {},
   "source": [
    "### Assignments ###\n",
    "\n",
    "#### Mandatory: ####\n",
    "\n",
    "- Compare RNN, LSTM, and GRU with perplexity\n",
    "    - Implement GRU in this Notebook\n",
    "- Implement Skip-gram and compare embeddings with CBOW\n",
    "- Adapt/expand the text classifier example to one of the proposed ones in the notebook\n",
    "    - Use LSTMs or GRU to compare with the current approach (RNN)\n",
    "    - Possible tasks\n",
    "        - Book or character name -> writer\n",
    "        - Game's titles -> company or genre\n",
    "        - Any word -> language\n",
    "        - Whatever you can think it can be classified\n",
    "\n",
    "- Implement and test Pytorch’s own Transformer models for machine translation\n",
    "    - Analyze based on the output and measurements.\n",
    "    - Compare to provided example seq2seq\n",
    "    \n",
    "#### Advanced: ####\n",
    "\n",
    "- Use RNNs, LSTMs, GRUs, or Transformer for text generation\n",
    "    - Specifically, you should/could generate:\n",
    "        - Names based on countries\n",
    "        - Cities based on countries\n",
    "        - Game ideas based on genres\n",
    "- Fine-tune any of the hugginface models to any specific task you are interested on such as:\n",
    "    - Generation of quests\n",
    "    - Chatbot\n",
    "    - Recipe generation"
   ]
  },
  {
   "cell_type": "markdown",
   "metadata": {},
   "source": [
    "-------------\n",
    "## Basic testing of RNN, LSTM, and GRU ##"
   ]
  },
  {
   "cell_type": "code",
   "execution_count": 1,
   "metadata": {},
   "outputs": [],
   "source": [
    "import torch\n",
    "import torch.nn as nn\n",
    "import torch.nn.functional as F\n",
    "import torch.optim as optim\n",
    "import matplotlib.pyplot as plt"
   ]
  },
  {
   "cell_type": "code",
   "execution_count": 2,
   "metadata": {},
   "outputs": [
    {
     "name": "stdout",
     "output_type": "stream",
     "text": [
      "{'The': 0, 'dog': 1, 'ate': 2, 'the': 3, 'apple': 4, 'Everybody': 5, 'read': 6, 'that': 7, 'book': 8, 'does': 9, 'machine': 10, 'learning': 11, 'nowadays': 12}\n"
     ]
    }
   ],
   "source": [
    "def prepare_sequence(seq, to_ix):\n",
    "    idxs = [to_ix[w] for w in seq]\n",
    "    return torch.tensor(idxs, dtype=torch.long)\n",
    "\n",
    "# What will happen here?\n",
    "training_data = [\n",
    "    # Tags are: DET - determiner; NN - noun; V - verb\n",
    "    # For example, the word \"The\" is a determiner\n",
    "    (\"The dog ate the apple\".split(), [\"DET\", \"NN\", \"V\", \"DET\", \"NN\"]),\n",
    "    (\"Everybody read that book\".split(), [\"NN\", \"V\", \"DET\", \"NN\"]),\n",
    "    (\"Everybody does machine learning nowadays\".split(), [\"NN\", \"V\", \"NN\", \"NN\", \"ADV\", ])\n",
    "]\n",
    "\n",
    "#vocabulary\n",
    "word_to_ix = {}\n",
    "# For each words-list (sentence) and tags-list in each tuple of training_data\n",
    "for sent, tags in training_data:\n",
    "    for word in sent:\n",
    "        if word not in word_to_ix:  # word has not been assigned an index yet\n",
    "            word_to_ix[word] = len(word_to_ix)  # Assign each word with a unique index\n",
    "            \n",
    "print(word_to_ix)\n",
    "\n",
    "#Possible classes\n",
    "tag_to_ix = {\"DET\": 0, \"NN\": 1, \"V\": 2, \"ADV\": 3}  # Assign each tag with a unique index"
   ]
  },
  {
   "cell_type": "code",
   "execution_count": 3,
   "metadata": {},
   "outputs": [],
   "source": [
    "EMBEDDING_DIM = 6\n",
    "HIDDEN_DIM = 12\n",
    "VOCAB_SIZE = len(word_to_ix)\n",
    "NUM_CLASSES = len(tag_to_ix)"
   ]
  },
  {
   "cell_type": "code",
   "execution_count": 4,
   "metadata": {},
   "outputs": [],
   "source": [
    "def train(model, optimizer, criterion, epochs):\n",
    "    epoch_loss = []\n",
    "    for epoch in range(epochs):  # again, normally you would NOT do 300 epochs, it is toy data\n",
    "        final_loss = 0\n",
    "        for sentence, tags in training_data:\n",
    "            \n",
    "            model.zero_grad()\n",
    "\n",
    "            # get inputs and targets ready for the network!\n",
    "            sentence_in = prepare_sequence(sentence, word_to_ix)\n",
    "            targets = prepare_sequence(tags, tag_to_ix)\n",
    "\n",
    "            # get the tag scores\n",
    "            tag_scores = model(sentence_in)\n",
    "            \n",
    "            loss = criterion(tag_scores, targets)\n",
    "            optimizer.zero_grad()\n",
    "            loss.backward()\n",
    "            optimizer.step()\n",
    "            final_loss += loss.item()\n",
    "        epoch_loss.append(final_loss)\n",
    "    \n",
    "    return epoch_loss\n"
   ]
  },
  {
   "cell_type": "code",
   "execution_count": 5,
   "metadata": {},
   "outputs": [],
   "source": [
    "def evaluate(model, test_sequence):\n",
    "    with torch.no_grad():\n",
    "        inputs = prepare_sequence(training_data[test_sequence][0], word_to_ix)\n",
    "        tag_scores = model(inputs)\n",
    "        \n",
    "        outputs = []\n",
    "        \n",
    "        print(tag_to_ix)\n",
    "        print(training_data[test_sequence][0])\n",
    "        print(training_data[test_sequence][1])\n",
    "        \n",
    "        for tag_score in tag_scores:\n",
    "            outputs.append(tag_score.topk(1).indices.item())\n",
    "            \n",
    "        print(outputs)\n",
    "        print(\"--------------\")"
   ]
  },
  {
   "cell_type": "markdown",
   "metadata": {},
   "source": [
    "### Recurrent Neural Networks (RNN) ###"
   ]
  },
  {
   "cell_type": "code",
   "execution_count": 6,
   "metadata": {},
   "outputs": [],
   "source": [
    "class RNNTagger(nn.Module):\n",
    "\n",
    "    def __init__(self, embedding_dim, hidden_dim, vocab_size, tagset_size):\n",
    "        super(RNNTagger, self).__init__()\n",
    "        self.hidden_dim = hidden_dim\n",
    "\n",
    "        self.word_embeddings = nn.Embedding(vocab_size, embedding_dim)\n",
    "\n",
    "        # The RNN takes word embeddings as inputs, and outputs hidden states and output\n",
    "        self.rnn = nn.RNN(embedding_dim, hidden_dim)\n",
    "\n",
    "        # The linear layer that maps from hidden state space to tag space\n",
    "        self.hidden2tag = nn.Linear(hidden_dim, tagset_size)\n",
    "\n",
    "    def forward(self, sentence):\n",
    "        \n",
    "        embeds = self.word_embeddings(sentence)\n",
    "        rnn_out, _ = self.rnn(embeds.view(len(sentence), 1, -1)) #The module is expecting [sentence_length, batch_size, embedding_dim] [sentence_length, 1, 6]\n",
    "        \n",
    "        # in this case, rnn_out.view(len(sentence), -1) is the same as doing what function?\n",
    "        tag_space = self.hidden2tag(rnn_out.view(len(sentence), -1))\n",
    "        \n",
    "        tag_scores = F.log_softmax(tag_space, dim=1)\n",
    "        return tag_scores"
   ]
  },
  {
   "cell_type": "code",
   "execution_count": 7,
   "metadata": {},
   "outputs": [
    {
     "name": "stdout",
     "output_type": "stream",
     "text": [
      "[3.9089622497558594, 3.5560734272003174, 3.269106686115265, 3.0115485787391663, 2.7651079893112183, 2.5238438844680786, 2.2897955775260925, 2.0687650442123413, 1.8666587173938751, 1.687193900346756, 1.5310904383659363, 1.3965246677398682, 1.280337780714035, 1.179184377193451, 1.0901561081409454, 1.0109538286924362, 0.9398371875286102, 0.8755080699920654, 0.8169949799776077, 0.7635588049888611, 0.7146233469247818, 0.6697247475385666, 0.6284769028425217, 0.590548612177372, 0.555647999048233, 0.5235135555267334, 0.4939073622226715, 0.4666120335459709, 0.4414284974336624, 0.4181739017367363, 0.3966806083917618, 0.37679511308670044, 0.358377642929554, 0.34129976481199265, 0.325445719063282, 0.3107093274593353, 0.2969949021935463, 0.2842150777578354, 0.2722908705472946, 0.2611507475376129, 0.25072967261075974, 0.24096886068582535, 0.23181496188044548, 0.22321955859661102, 0.21513860300183296, 0.20753225684165955, 0.20036432147026062, 0.19360143691301346, 0.18721376731991768, 0.18117393553256989, 0.17545680701732635, 0.17003950849175453, 0.16490109264850616, 0.16002236306667328, 0.15538573637604713, 0.15097521618008614, 0.14677605405449867, 0.14277424663305283, 0.13895754516124725, 0.13531416840851307, 0.13183370046317577, 0.12850604206323624, 0.12532193586230278, 0.12227320671081543, 0.1193518377840519, 0.11655069142580032, 0.11386275291442871, 0.11128196492791176, 0.10880238190293312, 0.10641846805810928, 0.10412526875734329, 0.10191786289215088, 0.09979191422462463, 0.09774341806769371, 0.09576821513473988, 0.09386273100972176, 0.09202362969517708, 0.0902476105839014, 0.08853183314204216, 0.08687322214245796, 0.08526929840445518, 0.08371752873063087, 0.08221548236906528, 0.08076095022261143, 0.07935184799134731, 0.0779862180352211, 0.07666213996708393, 0.0753778163343668, 0.07413168251514435, 0.07292207144200802, 0.07174748368561268, 0.07060662284493446, 0.06949777528643608, 0.06842006556689739, 0.0673722056671977, 0.06635274831205606, 0.06536093540489674, 0.06439544539898634, 0.06345555186271667, 0.06254013255238533]\n",
      "{'DET': 0, 'NN': 1, 'V': 2, 'ADV': 3}\n",
      "['The', 'dog', 'ate', 'the', 'apple']\n",
      "['DET', 'NN', 'V', 'DET', 'NN']\n",
      "[0, 1, 2, 0, 1]\n",
      "--------------\n",
      "{'DET': 0, 'NN': 1, 'V': 2, 'ADV': 3}\n",
      "['Everybody', 'read', 'that', 'book']\n",
      "['NN', 'V', 'DET', 'NN']\n",
      "[1, 2, 0, 1]\n",
      "--------------\n",
      "{'DET': 0, 'NN': 1, 'V': 2, 'ADV': 3}\n",
      "['Everybody', 'does', 'machine', 'learning', 'nowadays']\n",
      "['NN', 'V', 'NN', 'NN', 'ADV']\n",
      "[1, 2, 1, 1, 3]\n",
      "--------------\n"
     ]
    }
   ],
   "source": [
    "model = RNNTagger(EMBEDDING_DIM, HIDDEN_DIM, len(word_to_ix), len(tag_to_ix))\n",
    "loss_function = nn.NLLLoss()\n",
    "optimizer = optim.SGD(model.parameters(), lr=0.1)\n",
    "losses = train(model, optimizer, loss_function, 100)\n",
    "print(losses)\n",
    "evaluate(model, 0)\n",
    "evaluate(model, 1)\n",
    "evaluate(model, 2)\n"
   ]
  },
  {
   "cell_type": "markdown",
   "metadata": {},
   "source": [
    "#### Visualise the loss with a plot"
   ]
  },
  {
   "cell_type": "code",
   "execution_count": 8,
   "metadata": {},
   "outputs": [
    {
     "data": {
      "image/png": "[encoded data removed]",
      "text/plain": [
       "<Figure size 432x288 with 1 Axes>"
      ]
     },
     "metadata": {
      "needs_background": "light"
     },
     "output_type": "display_data"
    }
   ],
   "source": [
    "plt.plot(losses)\n",
    "plt.xlabel(\"Iteration\")\n",
    "plt.ylabel(\"Loss\")\n",
    "plt.title('RNN Loss change during training')\n",
    "plt.show()"
   ]
  },
  {
   "cell_type": "markdown",
   "metadata": {},
   "source": [
    "### Long Short-Term Memory (LSTM) ###"
   ]
  },
  {
   "cell_type": "code",
   "execution_count": 9,
   "metadata": {},
   "outputs": [],
   "source": [
    "class LSTMTagger(nn.Module):\n",
    "\n",
    "    def __init__(self, embedding_dim, hidden_dim, vocab_size, tagset_size):\n",
    "        super(LSTMTagger, self).__init__()\n",
    "        self.hidden_dim = hidden_dim\n",
    "\n",
    "        self.word_embeddings = nn.Embedding(vocab_size, embedding_dim)\n",
    "\n",
    "        # The LSTM takes word embeddings as inputs, and outputs hidden states\n",
    "        # with dimensionality hidden_dim.\n",
    "        self.lstm = nn.LSTM(embedding_dim, hidden_dim)\n",
    "\n",
    "        # The linear layer that maps from hidden state space to tag space\n",
    "        self.hidden2tag = nn.Linear(hidden_dim, tagset_size)\n",
    "\n",
    "    def forward(self, sentence):\n",
    "        embeds = self.word_embeddings(sentence)\n",
    "        lstm_out, _ = self.lstm(embeds.view(len(sentence), 1, -1))\n",
    "        tag_space = self.hidden2tag(lstm_out.view(len(sentence), -1))\n",
    "        tag_scores = F.log_softmax(tag_space, dim=1)\n",
    "        return tag_scores"
   ]
  },
  {
   "cell_type": "code",
   "execution_count": 10,
   "metadata": {},
   "outputs": [
    {
     "name": "stdout",
     "output_type": "stream",
     "text": [
      "[4.060427188873291, 3.9658223390579224, 3.8848962783813477, 3.8152447938919067, 3.7547976970672607, 3.7017874717712402, 3.654718041419983, 3.6123331785202026, 3.5735853910446167, 3.5376075506210327, 3.5036895275115967, 3.471253752708435, 3.4398365020751953, 3.4090657234191895, 3.378644347190857, 3.348331332206726, 3.317929744720459, 3.2872737646102905, 3.2562233209609985, 3.224658191204071, 3.1924760341644287, 3.1595890522003174, 3.12592351436615, 3.0914175510406494, 3.0560214519500732, 3.0196958780288696, 2.98241126537323, 2.944148004055023, 2.904895782470703, 2.8646536469459534, 2.8234311938285828, 2.7812463641166687, 2.7381279468536377, 2.6941148042678833, 2.649256646633148, 2.6036130785942078, 2.557254731655121, 2.5102615356445312, 2.4627233147621155, 2.414737582206726, 2.366408348083496, 2.3178451657295227, 2.269160270690918, 2.220466673374176, 2.1718756556510925, 2.1234959959983826, 2.0754303336143494, 2.02777498960495, 1.9806180000305176, 1.9340384602546692, 1.8881057500839233, 1.8428800106048584, 1.7984112203121185, 1.7547408938407898, 1.7119011282920837, 1.6699165403842926, 1.6288044452667236, 1.5885758996009827, 1.5492363572120667, 1.5107867419719696, 1.4732240736484528, 1.4365416467189789, 1.4007309079170227, 1.3657804131507874, 1.331677883863449, 1.2984092235565186, 1.2659597396850586, 1.2343145310878754, 1.2034572958946228, 1.1733726561069489, 1.1440447866916656, 1.1154577136039734, 1.0875957906246185, 1.0604440569877625, 1.0339873135089874, 1.0082109868526459, 0.9831008911132812, 0.9586429446935654, 0.9348236173391342, 0.9116298854351044, 0.8890486806631088, 0.8670674413442612, 0.845673605799675, 0.8248553425073624, 0.80460025370121, 0.7848968505859375, 0.7657327800989151, 0.7470968663692474, 0.7289769351482391, 0.7113617211580276, 0.6942393928766251, 0.6775984764099121, 0.661427229642868, 0.6457143872976303, 0.6304483413696289, 0.6156174093484879, 0.6012105941772461, 0.5872166603803635, 0.5736242085695267, 0.5604223757982254]\n",
      "{'DET': 0, 'NN': 1, 'V': 2, 'ADV': 3}\n",
      "['The', 'dog', 'ate', 'the', 'apple']\n",
      "['DET', 'NN', 'V', 'DET', 'NN']\n",
      "[0, 1, 2, 0, 1]\n",
      "--------------\n",
      "{'DET': 0, 'NN': 1, 'V': 2, 'ADV': 3}\n",
      "['Everybody', 'read', 'that', 'book']\n",
      "['NN', 'V', 'DET', 'NN']\n",
      "[1, 2, 0, 1]\n",
      "--------------\n",
      "{'DET': 0, 'NN': 1, 'V': 2, 'ADV': 3}\n",
      "['Everybody', 'does', 'machine', 'learning', 'nowadays']\n",
      "['NN', 'V', 'NN', 'NN', 'ADV']\n",
      "[1, 2, 1, 1, 3]\n",
      "--------------\n"
     ]
    }
   ],
   "source": [
    "model = LSTMTagger(EMBEDDING_DIM, HIDDEN_DIM, len(word_to_ix), len(tag_to_ix))\n",
    "loss_function = nn.NLLLoss()\n",
    "optimizer = optim.SGD(model.parameters(), lr=0.1)\n",
    "losses = train(model, optimizer, loss_function, 100)\n",
    "print(losses)\n",
    "evaluate(model, 0)\n",
    "evaluate(model, 1)\n",
    "evaluate(model, 2)"
   ]
  },
  {
   "cell_type": "code",
   "execution_count": 11,
   "metadata": {},
   "outputs": [
    {
     "data": {
      "image/png": "[encoded data removed]",
      "text/plain": [
       "<Figure size 432x288 with 1 Axes>"
      ]
     },
     "metadata": {
      "needs_background": "light"
     },
     "output_type": "display_data"
    }
   ],
   "source": [
    "plt.plot(losses)\n",
    "plt.xlabel(\"Iteration\")\n",
    "plt.ylabel(\"Loss\")\n",
    "plt.title('LSTM Loss change during training')\n",
    "plt.show()"
   ]
  },
  {
   "cell_type": "markdown",
   "metadata": {},
   "source": [
    "# Lab assignment below\n",
    "## Replace LSTM and RNN with GRU ##\n",
    "\n",
    "Implement a network with nn.GRU, and compare with the other networks through loss and perplexity. If wanted, you can extend this toy example with more sentences or vary the task for testing the networks and observing the differences."
   ]
  },
  {
   "cell_type": "code",
   "execution_count": 12,
   "metadata": {},
   "outputs": [],
   "source": [
    "class GRUnet(nn.Module):\n",
    "\n",
    "    def __init__(self, embedding_dim, hidden_dim, vocab_size, tagset_size):\n",
    "        super(GRUnet, self).__init__()\n",
    "        self.hidden_dim = hidden_dim\n",
    "\n",
    "        self.word_embeddings = nn.Embedding(vocab_size, embedding_dim)\n",
    "\n",
    "        self.gru = nn.GRU(embedding_dim, hidden_dim)\n",
    "\n",
    "        # The linear layer that maps from hidden state space to tag space\n",
    "        self.hidden2tag = nn.Linear(hidden_dim, tagset_size)\n",
    "\n",
    "    def forward(self, sentence):\n",
    "        embeds = self.word_embeddings(sentence)\n",
    "        gru_out, _ = self.gru(embeds.view(len(sentence), 1, -1))\n",
    "        tag_space = self.hidden2tag(gru_out.view(len(sentence), -1))\n",
    "        tag_scores = F.log_softmax(tag_space, dim=1)\n",
    "        return tag_scores"
   ]
  },
  {
   "cell_type": "code",
   "execution_count": 13,
   "metadata": {},
   "outputs": [
    {
     "name": "stdout",
     "output_type": "stream",
     "text": [
      "loss [4.2393776178359985, 4.079993844032288, 3.955852746963501, 3.856730818748474, 3.7756729125976562, 3.7077698707580566, 3.64946186542511, 3.598119378089905, 3.5517746210098267, 3.508943557739258, 3.468499779701233, 3.4295852184295654, 3.3915421962738037, 3.3538661003112793, 3.316168427467346, 3.278148055076599, 3.2395700216293335, 3.20025098323822, 3.160045027732849, 3.1188340187072754, 3.0765217542648315, 3.033026099205017, 2.9882757663726807, 2.9422082901000977, 2.894766390323639, 2.845900058746338, 2.795565962791443, 2.7437291145324707, 2.690366744995117, 2.6354684233665466, 2.579041361808777, 2.5211111903190613, 2.4617244601249695, 2.4009507298469543, 2.338882088661194, 2.2756340503692627, 2.2113450169563293, 2.146174430847168, 2.080302655696869, 2.013927698135376, 1.947264015674591, 1.8805386424064636, 1.8139883279800415, 1.7478549480438232, 1.6823803782463074, 1.617802083492279, 1.5543461441993713, 1.4922233819961548, 1.431623935699463, 1.3727136254310608, 1.3156309127807617, 1.2604863941669464, 1.2073616683483124, 1.1563107371330261, 1.1073618233203888, 1.0605194866657257, 1.0157680213451385, 0.9730747938156128, 0.932392492890358, 0.8936628848314285, 0.8568197041749954, 0.8217905461788177, 0.7884994447231293, 0.7568686008453369, 0.726819708943367, 0.6982755362987518, 0.6711602210998535, 0.6454000771045685, 0.6209245920181274, 0.5976658165454865, 0.575559064745903, 0.5545429140329361, 0.5345591902732849, 0.5155522376298904, 0.4974699914455414, 0.48026275634765625, 0.4638836532831192, 0.4482883960008621, 0.43343494087457657, 0.41928353905677795, 0.40579649806022644, 0.3929384648799896, 0.3806755617260933, 0.36897582560777664, 0.3578093573451042, 0.34714749455451965, 0.3369632810354233, 0.3272312730550766, 0.3179273083806038, 0.3090287297964096, 0.30051402747631073, 0.29236289113759995, 0.2845563292503357, 0.27707619220018387, 0.269905399531126, 0.2630281560122967, 0.2564290128648281, 0.2500939667224884, 0.24400944262742996, 0.23816296085715294] \n",
      "\n",
      "PP: tensor([69.3647, 59.1451, 52.2402, 47.3104, 43.6269, 40.7628, 38.4540, 36.5295,\n",
      "        34.8751, 33.4129, 32.0886, 30.8638, 29.7117, 28.6131, 27.5546, 26.5266,\n",
      "        25.5227, 24.5387, 23.5717, 22.6200, 21.6829, 20.7600, 19.8514, 18.9577,\n",
      "        18.0793, 17.2170, 16.3719, 15.5448, 14.7371, 13.9498, 13.1845, 12.4424,\n",
      "        11.7250, 11.0337, 10.3696,  9.7341,  9.1280,  8.5521,  8.0069,  7.4927,\n",
      "         7.0095,  6.5570,  6.1349,  5.7423,  5.3783,  5.0420,  4.7320,  4.4470,\n",
      "         4.1855,  3.9460,  3.7271,  3.5271,  3.3446,  3.1782,  3.0264,  2.8879,\n",
      "         2.7615,  2.6461,  2.5406,  2.4441,  2.3557,  2.2746,  2.2001,  2.1316,\n",
      "         2.0685,  2.0103,  1.9565,  1.9067,  1.8606,  1.8179,  1.7781,  1.7411,\n",
      "         1.7067,  1.6746,  1.6446,  1.6165,  1.5902,  1.5656,  1.5425,  1.5209,\n",
      "         1.5005,  1.4813,  1.4633,  1.4463,  1.4302,  1.4150,  1.4007,  1.3871,\n",
      "         1.3743,  1.3621,  1.3506,  1.3396,  1.3292,  1.3193,  1.3098,  1.3009,\n",
      "         1.2923,  1.2841,  1.2764,  1.2689]) \n",
      "\n",
      "{'DET': 0, 'NN': 1, 'V': 2, 'ADV': 3}\n",
      "['The', 'dog', 'ate', 'the', 'apple']\n",
      "['DET', 'NN', 'V', 'DET', 'NN']\n",
      "[0, 1, 2, 0, 1]\n",
      "--------------\n",
      "{'DET': 0, 'NN': 1, 'V': 2, 'ADV': 3}\n",
      "['Everybody', 'read', 'that', 'book']\n",
      "['NN', 'V', 'DET', 'NN']\n",
      "[1, 2, 0, 1]\n",
      "--------------\n",
      "{'DET': 0, 'NN': 1, 'V': 2, 'ADV': 3}\n",
      "['Everybody', 'does', 'machine', 'learning', 'nowadays']\n",
      "['NN', 'V', 'NN', 'NN', 'ADV']\n",
      "[1, 2, 1, 1, 3]\n",
      "--------------\n"
     ]
    }
   ],
   "source": [
    "model = GRUnet(EMBEDDING_DIM, HIDDEN_DIM, len(word_to_ix), len(tag_to_ix))\n",
    "loss_function = nn.NLLLoss()\n",
    "optimizer = optim.SGD(model.parameters(), lr=0.1)\n",
    "losses = train(model, optimizer, loss_function, 100)\n",
    "print(\"loss\", losses, \"\\n\")\n",
    "\n",
    "loss = torch.FloatTensor(losses)\n",
    "perplexity  = torch.exp(loss)\n",
    "print(\"PP:\", perplexity ,\"\\n\")  \n",
    "\n",
    "evaluate(model, 0)\n",
    "evaluate(model, 1)\n",
    "evaluate(model, 2)"
   ]
  },
  {
   "cell_type": "code",
   "execution_count": 14,
   "metadata": {},
   "outputs": [
    {
     "data": {
      "image/png": "[encoded data removed]",
      "text/plain": [
       "<Figure size 432x288 with 1 Axes>"
      ]
     },
     "metadata": {
      "needs_background": "light"
     },
     "output_type": "display_data"
    }
   ],
   "source": [
    "plt.plot(losses)\n",
    "plt.xlabel(\"Iteration\")\n",
    "plt.ylabel(\"Loss\")\n",
    "plt.title('GRU Loss change during training')\n",
    "plt.show()"
   ]
  },
  {
   "cell_type": "code",
   "execution_count": null,
   "metadata": {},
   "outputs": [],
   "source": []
  }
 ],
 "metadata": {
  "kernelspec": {
   "display_name": "Python 3 (ipykernel)",
   "language": "python",
   "name": "python3"
  },
  "language_info": {
   "codemirror_mode": {
    "name": "ipython",
    "version": 3
   },
   "file_extension": ".py",
   "mimetype": "text/x-python",
   "name": "python",
   "nbconvert_exporter": "python",
   "pygments_lexer": "ipython3",
   "version": "3.8.5"
  }
 },
 "nbformat": 4,
 "nbformat_minor": 4
}
