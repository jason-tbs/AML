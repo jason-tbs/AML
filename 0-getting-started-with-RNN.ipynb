{
 "cells": [
  {
   "cell_type": "markdown",
   "metadata": {},
   "source": [
    "## Language Models Lab ##\n",
    "\n",
    "Through these notebooks, we will explore different important and interesting techniques, approaches, and uses of language models to address mainly Natural Language Processing tasks.\n",
    "\n",
    "We will explore the following:\n",
    "\n",
    "- Creating Recurrent Neural Networks (RNN) and Long short-term memory (LSTM) networks\n",
    "- Word2Vec\n",
    "    - Continuous Bag-Of-Words (CBOW)\n",
    "- Using RNNS in practice!\n",
    "    - Text classification\n",
    "- Seq2Seq\n",
    "    - Using Torchtext\n",
    "    - Machine Translation\n",
    "- Using Pre-trained models!"
   ]
  },
  {
   "cell_type": "markdown",
   "metadata": {},
   "source": [
    "### Assignments ###\n",
    "\n",
    "#### Mandatory: ####\n",
    "\n",
    "- Compare RNN, LSTM, and GRU with perplexity\n",
    "    - Implement GRU in this Notebook\n",
    "- Implement Skip-gram and compare embeddings with CBOW\n",
    "- Adapt/expand the text classifier example to one of the proposed ones in the notebook\n",
    "    - Use LSTMs or GRU to compare with the current approach (RNN)\n",
    "    - Possible tasks\n",
    "        - Book or character name -> writer\n",
    "        - Game's titles -> company or genre\n",
    "        - Any word -> language\n",
    "        - Whatever you can think it can be classified\n",
    "\n",
    "- Implement and test Pytorch’s own Transformer models for machine translation\n",
    "    - Analyze based on the output and measurements.\n",
    "    - Compare to provided example seq2seq\n",
    "    \n",
    "#### Advanced: ####\n",
    "\n",
    "- Use RNNs, LSTMs, GRUs, or Transformer for text generation\n",
    "    - Specifically, you should/could generate:\n",
    "        - Names based on countries\n",
    "        - Cities based on countries\n",
    "        - Game ideas based on genres\n",
    "- Fine-tune any of the hugginface models to any specific task you are interested on such as:\n",
    "    - Generation of quests\n",
    "    - Chatbot\n",
    "    - Recipe generation"
   ]
  },
  {
   "cell_type": "markdown",
   "metadata": {},
   "source": [
    "-------------\n",
    "## Basic testing of RNN, LSTM, and GRU ##"
   ]
  },
  {
   "cell_type": "code",
   "execution_count": 1,
   "metadata": {},
   "outputs": [],
   "source": [
    "import torch\n",
    "import torch.nn as nn\n",
    "import torch.nn.functional as F\n",
    "import torch.optim as optim\n",
    "import matplotlib.pyplot as plt"
   ]
  },
  {
   "cell_type": "code",
   "execution_count": 2,
   "metadata": {},
   "outputs": [
    {
     "name": "stdout",
     "output_type": "stream",
     "text": [
      "{'The': 0, 'dog': 1, 'ate': 2, 'the': 3, 'apple': 4, 'Everybody': 5, 'read': 6, 'that': 7, 'book': 8, 'does': 9, 'machine': 10, 'learning': 11, 'nowadays': 12}\n"
     ]
    }
   ],
   "source": [
    "def prepare_sequence(seq, to_ix):\n",
    "    idxs = [to_ix[w] for w in seq]\n",
    "    return torch.tensor(idxs, dtype=torch.long)\n",
    "\n",
    "# What will happen here?\n",
    "training_data = [\n",
    "    # Tags are: DET - determiner; NN - noun; V - verb\n",
    "    # For example, the word \"The\" is a determiner\n",
    "    (\"The dog ate the apple\".split(), [\"DET\", \"NN\", \"V\", \"DET\", \"NN\"]),\n",
    "    (\"Everybody read that book\".split(), [\"NN\", \"V\", \"DET\", \"NN\"]),\n",
    "    (\"Everybody does machine learning nowadays\".split(), [\"NN\", \"V\", \"NN\", \"NN\", \"ADV\", ])\n",
    "]\n",
    "\n",
    "#vocabulary\n",
    "word_to_ix = {}\n",
    "# For each words-list (sentence) and tags-list in each tuple of training_data\n",
    "for sent, tags in training_data:\n",
    "    for word in sent:\n",
    "        if word not in word_to_ix:  # word has not been assigned an index yet\n",
    "            word_to_ix[word] = len(word_to_ix)  # Assign each word with a unique index\n",
    "            \n",
    "print(word_to_ix)\n",
    "\n",
    "#Possible classes\n",
    "tag_to_ix = {\"DET\": 0, \"NN\": 1, \"V\": 2, \"ADV\": 3}  # Assign each tag with a unique index"
   ]
  },
  {
   "cell_type": "code",
   "execution_count": 3,
   "metadata": {},
   "outputs": [],
   "source": [
    "EMBEDDING_DIM = 6\n",
    "HIDDEN_DIM = 12\n",
    "VOCAB_SIZE = len(word_to_ix)\n",
    "NUM_CLASSES = len(tag_to_ix)"
   ]
  },
  {
   "cell_type": "code",
   "execution_count": 4,
   "metadata": {},
   "outputs": [],
   "source": [
    "def train(model, optimizer, criterion, epochs):\n",
    "    epoch_loss = []\n",
    "    for epoch in range(epochs):  # again, normally you would NOT do 300 epochs, it is toy data\n",
    "        final_loss = 0\n",
    "        for sentence, tags in training_data:\n",
    "            \n",
    "            model.zero_grad()\n",
    "\n",
    "            # get inputs and targets ready for the network!\n",
    "            sentence_in = prepare_sequence(sentence, word_to_ix)\n",
    "            targets = prepare_sequence(tags, tag_to_ix)\n",
    "\n",
    "            # get the tag scores\n",
    "            tag_scores = model(sentence_in)\n",
    "            \n",
    "            loss = criterion(tag_scores, targets)\n",
    "            optimizer.zero_grad()\n",
    "            loss.backward()\n",
    "            optimizer.step()\n",
    "            final_loss += loss.item()\n",
    "        epoch_loss.append(final_loss)\n",
    "    \n",
    "    return epoch_loss\n"
   ]
  },
  {
   "cell_type": "code",
   "execution_count": 5,
   "metadata": {},
   "outputs": [],
   "source": [
    "def evaluate(model, test_sequence):\n",
    "    with torch.no_grad():\n",
    "        inputs = prepare_sequence(training_data[test_sequence][0], word_to_ix)\n",
    "        tag_scores = model(inputs)\n",
    "        \n",
    "        outputs = []\n",
    "        \n",
    "        print(tag_to_ix)\n",
    "        print(training_data[test_sequence][0])\n",
    "        print(training_data[test_sequence][1])\n",
    "        \n",
    "        for tag_score in tag_scores:\n",
    "            outputs.append(tag_score.topk(1).indices.item())\n",
    "            \n",
    "        print(outputs)\n",
    "        print(\"--------------\")"
   ]
  },
  {
   "cell_type": "markdown",
   "metadata": {},
   "source": [
    "### Recurrent Neural Networks (RNN) ###"
   ]
  },
  {
   "cell_type": "code",
   "execution_count": 6,
   "metadata": {},
   "outputs": [],
   "source": [
    "class RNNTagger(nn.Module):\n",
    "\n",
    "    def __init__(self, embedding_dim, hidden_dim, vocab_size, tagset_size):\n",
    "        super(RNNTagger, self).__init__()\n",
    "        self.hidden_dim = hidden_dim\n",
    "\n",
    "        self.word_embeddings = nn.Embedding(vocab_size, embedding_dim)\n",
    "\n",
    "        # The RNN takes word embeddings as inputs, and outputs hidden states and output\n",
    "        self.rnn = nn.RNN(embedding_dim, hidden_dim)\n",
    "\n",
    "        # The linear layer that maps from hidden state space to tag space\n",
    "        self.hidden2tag = nn.Linear(hidden_dim, tagset_size)\n",
    "\n",
    "    def forward(self, sentence):\n",
    "        \n",
    "        embeds = self.word_embeddings(sentence)\n",
    "        rnn_out, _ = self.rnn(embeds.view(len(sentence), 1, -1)) #The module is expecting [sentence_length, batch_size, embedding_dim] [sentence_length, 1, 6]\n",
    "        \n",
    "        # in this case, rnn_out.view(len(sentence), -1) is the same as doing what function?\n",
    "        tag_space = self.hidden2tag(rnn_out.view(len(sentence), -1))\n",
    "        \n",
    "        tag_scores = F.log_softmax(tag_space, dim=1)\n",
    "        return tag_scores"
   ]
  },
  {
   "cell_type": "code",
   "execution_count": 7,
   "metadata": {},
   "outputs": [
    {
     "name": "stdout",
     "output_type": "stream",
     "text": [
      "[4.017087936401367, 3.687728762626648, 3.429865837097168, 3.222933292388916, 3.0489230155944824, 2.8919837474823, 2.7402908205986023, 2.586885154247284, 2.4293200373649597, 2.2686046957969666, 2.1077007055282593, 1.950084924697876, 1.7988740801811218, 1.656463086605072, 1.5243872702121735, 1.4032939970493317, 1.2930443584918976, 1.1929331123828888, 1.1019536256790161, 1.0190259218215942, 0.9431486278772354, 0.8734757602214813, 0.8093356043100357, 0.7502153962850571, 0.6957278698682785, 0.6455713957548141, 0.5994946360588074, 0.5572682395577431, 0.5186662003397942, 0.4834563583135605, 0.4513980373740196, 0.42224517464637756, 0.3957502916455269, 0.37167133390903473, 0.34977563470602036, 0.32984543591737747, 0.31167886406183243, 0.2950921393930912, 0.27991941571235657, 0.266011793166399, 0.253236997872591, 0.241477333009243, 0.23062866926193237, 0.22059904783964157, 0.21130693331360817, 0.2026802822947502, 0.19465571269392967, 0.1871761977672577, 0.1801920011639595, 0.17365846782922745, 0.16753577440977097, 0.16178889200091362, 0.15638568624854088, 0.15129814110696316, 0.14650064893066883, 0.14197022281587124, 0.137686463072896, 0.13363035209476948, 0.12978532165288925, 0.12613587081432343, 0.1226680800318718, 0.11936936154961586, 0.11622821912169456, 0.1132338959723711, 0.11037690192461014, 0.10764838010072708, 0.10503997281193733, 0.10254465043544769, 0.10015509650111198, 0.09786505997180939, 0.09566893056035042, 0.09356093592941761, 0.0915362797677517, 0.08959031663835049, 0.08771850541234016, 0.08591711707413197, 0.08418217115104198, 0.0825103148818016, 0.080898298881948, 0.07934299390763044, 0.0778416721150279, 0.07639152929186821, 0.07499020081013441, 0.07363532204180956, 0.07232457958161831, 0.07105622999370098, 0.06982803903520107, 0.06863837223500013, 0.06748526357114315, 0.06636737007647753, 0.065282984636724, 0.0642308946698904, 0.06320948712527752, 0.06221762113273144, 0.06125399190932512, 0.060317530296742916, 0.05940705444663763, 0.05852174013853073, 0.05766028631478548, 0.05682208854705095]\n",
      "Perplexity: tensor([55.5391, 39.9540, 30.8725, 25.1016, 21.0926, 18.0290, 15.4915, 13.2883,\n",
      "        11.3512,  9.6659,  8.2293,  7.0293,  6.0428,  5.2407,  4.5923,  4.0686,\n",
      "         3.6439,  3.2967,  3.0100,  2.7705,  2.5681,  2.3952,  2.2464,  2.1175,\n",
      "         2.0052,  1.9071,  1.8212,  1.7459,  1.6798,  1.6217,  1.5705,  1.5254,\n",
      "         1.4855,  1.4502,  1.4187,  1.3908,  1.3657,  1.3433,  1.3230,  1.3048,\n",
      "         1.2882,  1.2731,  1.2594,  1.2468,  1.2353,  1.2247,  1.2149,  1.2058,\n",
      "         1.1974,  1.1896,  1.1824,  1.1756,  1.1693,  1.1633,  1.1578,  1.1525,\n",
      "         1.1476,  1.1430,  1.1386,  1.1344,  1.1305,  1.1268,  1.1233,  1.1199,\n",
      "         1.1167,  1.1137,  1.1108,  1.1080,  1.1053,  1.1028,  1.1004,  1.0981,\n",
      "         1.0959,  1.0937,  1.0917,  1.0897,  1.0878,  1.0860,  1.0843,  1.0826,\n",
      "         1.0810,  1.0794,  1.0779,  1.0764,  1.0750,  1.0736,  1.0723,  1.0710,\n",
      "         1.0698,  1.0686,  1.0675,  1.0663,  1.0652,  1.0642,  1.0632,  1.0622,\n",
      "         1.0612,  1.0603,  1.0594,  1.0585]) \n",
      "\n",
      "{'DET': 0, 'NN': 1, 'V': 2, 'ADV': 3}\n",
      "['The', 'dog', 'ate', 'the', 'apple']\n",
      "['DET', 'NN', 'V', 'DET', 'NN']\n",
      "[0, 1, 2, 0, 1]\n",
      "--------------\n",
      "{'DET': 0, 'NN': 1, 'V': 2, 'ADV': 3}\n",
      "['Everybody', 'read', 'that', 'book']\n",
      "['NN', 'V', 'DET', 'NN']\n",
      "[1, 2, 0, 1]\n",
      "--------------\n",
      "{'DET': 0, 'NN': 1, 'V': 2, 'ADV': 3}\n",
      "['Everybody', 'does', 'machine', 'learning', 'nowadays']\n",
      "['NN', 'V', 'NN', 'NN', 'ADV']\n",
      "[1, 2, 1, 1, 3]\n",
      "--------------\n"
     ]
    }
   ],
   "source": [
    "model = RNNTagger(EMBEDDING_DIM, HIDDEN_DIM, len(word_to_ix), len(tag_to_ix))\n",
    "loss_function = nn.NLLLoss()\n",
    "optimizer = optim.SGD(model.parameters(), lr=0.1)\n",
    "losses = train(model, optimizer, loss_function, 100)\n",
    "print(losses)\n",
    "\n",
    "loss = torch.FloatTensor(losses)\n",
    "perplexity  = torch.exp(loss)\n",
    "print(\"Perplexity:\", perplexity ,\"\\n\")  \n",
    "\n",
    "evaluate(model, 0)\n",
    "evaluate(model, 1)\n",
    "evaluate(model, 2)\n"
   ]
  },
  {
   "cell_type": "markdown",
   "metadata": {},
   "source": [
    "#### Visualise the loss with a plot"
   ]
  },
  {
   "cell_type": "code",
   "execution_count": 8,
   "metadata": {},
   "outputs": [
    {
     "data": {
      "image/png": "[encoded data removed]",
      "text/plain": [
       "<Figure size 432x288 with 1 Axes>"
      ]
     },
     "metadata": {
      "needs_background": "light"
     },
     "output_type": "display_data"
    }
   ],
   "source": [
    "plt.plot(losses)\n",
    "plt.xlabel(\"Iteration\")\n",
    "plt.ylabel(\"Loss\")\n",
    "plt.title('RNN Loss change during training')\n",
    "plt.show()"
   ]
  },
  {
   "cell_type": "markdown",
   "metadata": {},
   "source": [
    "### Long Short-Term Memory (LSTM) ###"
   ]
  },
  {
   "cell_type": "code",
   "execution_count": 9,
   "metadata": {},
   "outputs": [],
   "source": [
    "class LSTMTagger(nn.Module):\n",
    "\n",
    "    def __init__(self, embedding_dim, hidden_dim, vocab_size, tagset_size):\n",
    "        super(LSTMTagger, self).__init__()\n",
    "        self.hidden_dim = hidden_dim\n",
    "\n",
    "        self.word_embeddings = nn.Embedding(vocab_size, embedding_dim)\n",
    "\n",
    "        # The LSTM takes word embeddings as inputs, and outputs hidden states\n",
    "        # with dimensionality hidden_dim.\n",
    "        self.lstm = nn.LSTM(embedding_dim, hidden_dim)\n",
    "\n",
    "        # The linear layer that maps from hidden state space to tag space\n",
    "        self.hidden2tag = nn.Linear(hidden_dim, tagset_size)\n",
    "\n",
    "    def forward(self, sentence):\n",
    "        embeds = self.word_embeddings(sentence)\n",
    "        lstm_out, _ = self.lstm(embeds.view(len(sentence), 1, -1))\n",
    "        tag_space = self.hidden2tag(lstm_out.view(len(sentence), -1))\n",
    "        tag_scores = F.log_softmax(tag_space, dim=1)\n",
    "        return tag_scores"
   ]
  },
  {
   "cell_type": "code",
   "execution_count": 10,
   "metadata": {},
   "outputs": [
    {
     "name": "stdout",
     "output_type": "stream",
     "text": [
      "[4.103051543235779, 4.021551012992859, 3.9526424407958984, 3.894487738609314, 3.84543514251709, 3.8040281534194946, 3.7690006494522095, 3.7392690181732178, 3.71391499042511, 3.692169666290283, 3.6733914613723755, 3.6570515632629395, 3.6427143812179565, 3.630022883415222, 3.6186846494674683, 3.6084614992141724, 3.5991588830947876, 3.5906171798706055, 3.582706332206726, 3.5753201246261597, 3.5683703422546387, 3.561784863471985, 3.555503010749817, 3.5494751930236816, 3.5436588525772095, 3.5380183458328247, 3.532523512840271, 3.527147889137268, 3.5218684673309326, 3.516666054725647, 3.5115225315093994, 3.5064220428466797, 3.501351237297058, 3.4962962865829468, 3.491245985031128, 3.4861884117126465, 3.4811140298843384, 3.476012945175171, 3.4708757400512695, 3.4656938314437866, 3.4604583978652954, 3.4551610946655273, 3.449794054031372, 3.4443494081497192, 3.4388192892074585, 3.4331958293914795, 3.4274712800979614, 3.4216384887695312, 3.415689468383789, 3.409616708755493, 3.4034124612808228, 3.397068738937378, 3.390578269958496, 3.383932948112488, 3.377124309539795, 3.3701449632644653, 3.362986207008362, 3.355639934539795, 3.3480969667434692, 3.3403496742248535, 3.3323886394500732, 3.3242048025131226, 3.3157894611358643, 3.307132601737976, 3.298225164413452, 3.2890576124191284, 3.279619574546814, 3.2699012756347656, 3.259892702102661, 3.2495830059051514, 3.238961637020111, 3.228018283843994, 3.2167415618896484, 3.205120623111725, 3.193143904209137, 3.1808005571365356, 3.1680787205696106, 3.154966950416565, 3.141453266143799, 3.1275264024734497, 3.1131742000579834, 3.098384976387024, 3.083147168159485, 3.067448675632477, 3.0512779355049133, 3.034623384475708, 3.0174739956855774, 2.999818205833435, 2.9816450476646423, 2.962944209575653, 2.9437054991722107, 2.923918843269348, 2.903575360774994, 2.882666051387787, 2.8611830472946167, 2.8391188979148865, 2.81646728515625, 2.793222427368164, 2.76937997341156, 2.7449358701705933]\n",
      "Perplexity: tensor([60.5247, 55.7876, 52.0728, 49.1309, 46.7790, 44.8816, 43.3367, 42.0672,\n",
      "        41.0141, 40.1318, 39.3853, 38.7469, 38.1954, 37.7137, 37.2885, 36.9092,\n",
      "        36.5675, 36.2564, 35.9708, 35.7061, 35.4588, 35.2260, 35.0054, 34.7951,\n",
      "        34.5933, 34.3987, 34.2102, 34.0268, 33.8476, 33.6720, 33.4992, 33.3288,\n",
      "        33.1602, 32.9930, 32.8268, 32.6612, 32.4959, 32.3306, 32.1649, 31.9987,\n",
      "        31.8316, 31.6634, 31.4939, 31.3229, 31.1502, 30.9755, 30.7987, 30.6195,\n",
      "        30.4379, 30.2536, 30.0665, 29.8764, 29.6831, 29.4865, 29.2864, 29.0827,\n",
      "        28.8753, 28.6639, 28.4485, 28.2290, 28.0052, 27.7769, 27.5441, 27.3067,\n",
      "        27.0646, 26.8176, 26.5657, 26.3087, 26.0467, 25.7796, 25.5072, 25.2296,\n",
      "        24.9467, 24.6585, 24.3649, 24.0660, 23.7618, 23.4523, 23.1375, 22.8175,\n",
      "        22.4923, 22.1621, 21.8270, 21.4870, 21.1423, 20.7931, 20.4396, 20.0819,\n",
      "        19.7202, 19.3549, 18.9861, 18.6141, 18.2392, 17.8618, 17.4822, 17.1007,\n",
      "        16.7177, 16.3336, 15.9487, 15.5636]) \n",
      "\n",
      "{'DET': 0, 'NN': 1, 'V': 2, 'ADV': 3}\n",
      "['The', 'dog', 'ate', 'the', 'apple']\n",
      "['DET', 'NN', 'V', 'DET', 'NN']\n",
      "[1, 1, 1, 0, 1]\n",
      "--------------\n",
      "{'DET': 0, 'NN': 1, 'V': 2, 'ADV': 3}\n",
      "['Everybody', 'read', 'that', 'book']\n",
      "['NN', 'V', 'DET', 'NN']\n",
      "[1, 1, 0, 1]\n",
      "--------------\n",
      "{'DET': 0, 'NN': 1, 'V': 2, 'ADV': 3}\n",
      "['Everybody', 'does', 'machine', 'learning', 'nowadays']\n",
      "['NN', 'V', 'NN', 'NN', 'ADV']\n",
      "[1, 1, 1, 1, 1]\n",
      "--------------\n"
     ]
    }
   ],
   "source": [
    "model = LSTMTagger(EMBEDDING_DIM, HIDDEN_DIM, len(word_to_ix), len(tag_to_ix))\n",
    "loss_function = nn.NLLLoss()\n",
    "optimizer = optim.SGD(model.parameters(), lr=0.1)\n",
    "losses = train(model, optimizer, loss_function, 100)\n",
    "print(losses)\n",
    "\n",
    "loss = torch.FloatTensor(losses)\n",
    "perplexity  = torch.exp(loss)\n",
    "print(\"Perplexity:\", perplexity ,\"\\n\") \n",
    "\n",
    "evaluate(model, 0)\n",
    "evaluate(model, 1)\n",
    "evaluate(model, 2)"
   ]
  },
  {
   "cell_type": "code",
   "execution_count": 11,
   "metadata": {},
   "outputs": [
    {
     "data": {
      "image/png": "[encoded data removed]",
      "text/plain": [
       "<Figure size 432x288 with 1 Axes>"
      ]
     },
     "metadata": {
      "needs_background": "light"
     },
     "output_type": "display_data"
    }
   ],
   "source": [
    "plt.plot(losses)\n",
    "plt.xlabel(\"Iteration\")\n",
    "plt.ylabel(\"Loss\")\n",
    "plt.title('LSTM Loss change during training')\n",
    "plt.show()"
   ]
  },
  {
   "cell_type": "markdown",
   "metadata": {},
   "source": [
    "# Lab assignment below\n",
    "## Replace LSTM and RNN with GRU ##\n",
    "\n",
    "Implement a network with nn.GRU, and compare with the other networks through loss and perplexity. If wanted, you can extend this toy example with more sentences or vary the task for testing the networks and observing the differences."
   ]
  },
  {
   "cell_type": "code",
   "execution_count": 12,
   "metadata": {},
   "outputs": [],
   "source": [
    "class GRUnet(nn.Module):\n",
    "\n",
    "    def __init__(self, embedding_dim, hidden_dim, vocab_size, tagset_size):\n",
    "        super(GRUnet, self).__init__()\n",
    "        self.hidden_dim = hidden_dim\n",
    "\n",
    "        self.word_embeddings = nn.Embedding(vocab_size, embedding_dim)\n",
    "\n",
    "        self.gru = nn.GRU(embedding_dim, hidden_dim)\n",
    "\n",
    "        # linear layer maps hidden state space  --> tag space\n",
    "        self.hidden2tag = nn.Linear(hidden_dim, tagset_size)\n",
    "\n",
    "    def forward(self, sentence):\n",
    "        embeds = self.word_embeddings(sentence)\n",
    "        gru_out, _ = self.gru(embeds.view(len(sentence), 1, -1))\n",
    "        tag_space = self.hidden2tag(gru_out.view(len(sentence), -1))\n",
    "        tag_scores = F.log_softmax(tag_space, dim=1)\n",
    "        return tag_scores"
   ]
  },
  {
   "cell_type": "code",
   "execution_count": 13,
   "metadata": {},
   "outputs": [
    {
     "name": "stdout",
     "output_type": "stream",
     "text": [
      "loss [4.619685173034668, 4.307417154312134, 4.065161943435669, 3.8773343563079834, 3.7324488162994385, 3.620567560195923, 3.532819628715515, 3.461726427078247, 3.4014667868614197, 3.3478248715400696, 3.2979109287261963, 3.249820053577423, 3.2023309469223022, 3.1546781063079834, 3.106396734714508, 3.0572206377983093, 3.007018506526947, 2.955751061439514, 2.9034414887428284, 2.850155770778656, 2.7959868907928467, 2.7410438656806946, 2.68544340133667, 2.629306375980377, 2.5727538466453552, 2.5159056186676025, 2.4588780999183655, 2.4017857909202576, 2.3447383642196655, 2.2878409028053284, 2.231192708015442, 2.1748847663402557, 2.1189988255500793, 2.0636050701141357, 2.008760154247284, 1.9545093476772308, 1.9008837938308716, 1.8479042053222656, 1.7955822944641113, 1.7439239919185638, 1.6929315328598022, 1.6426074802875519, 1.5929559469223022, 1.5439852178096771, 1.4957094490528107, 1.4481476843357086, 1.401325136423111, 1.3552713096141815, 1.3100193738937378, 1.2656039893627167, 1.222059279680252, 1.1794180572032928, 1.137709617614746, 1.0969594717025757, 1.0571894645690918, 1.018417701125145, 0.9806593954563141, 0.9439269751310349, 0.9082317352294922, 0.8735832571983337, 0.8399897664785385, 0.8074588477611542, 0.7759961932897568, 0.7456057220697403, 0.7162887901067734, 0.6880442798137665, 0.6608681082725525, 0.634752169251442, 0.6096855252981186, 0.5856537073850632, 0.5626386180520058, 0.5406192019581795, 0.5195717290043831, 0.4994697570800781, 0.48028479516506195, 0.4619866758584976, 0.444543719291687, 0.42792369425296783, 0.41209349036216736, 0.3970195800065994, 0.38266880065202713, 0.3690081685781479, 0.3560052439570427, 0.3436279445886612, 0.3318454995751381, 0.320627897977829, 0.3099457770586014, 0.29977184534072876, 0.2900789603590965, 0.2808417081832886, 0.27203574404120445, 0.2636376656591892, 0.2556258887052536, 0.2479792758822441, 0.2406781055033207, 0.23370367661118507, 0.22703830897808075, 0.2206653356552124, 0.21456920728087425, 0.20873496681451797] \n",
      "\n",
      "Perplexity: tensor([101.4621,  74.2485,  58.2743,  48.2953,  41.7813,  37.3588,  34.2203,\n",
      "         31.8720,  30.0081,  28.4408,  27.0561,  25.7857,  24.5898,  23.4455,\n",
      "         22.3404,  21.2684,  20.2270,  19.2161,  18.2368,  17.2905,  16.3788,\n",
      "         15.5032,  14.6647,  13.8641,  13.1019,  12.3778,  11.6917,  11.0429,\n",
      "         10.4305,   9.8536,   9.3110,   8.8012,   8.3228,   7.8743,   7.4541,\n",
      "          7.0605,   6.6918,   6.3465,   6.0230,   5.7197,   5.4354,   5.1686,\n",
      "          4.9183,   4.6832,   4.4625,   4.2552,   4.0606,   3.8778,   3.7062,\n",
      "          3.5452,   3.3942,   3.2525,   3.1196,   2.9950,   2.8783,   2.7688,\n",
      "          2.6662,   2.5701,   2.4799,   2.3955,   2.3163,   2.2422,   2.1728,\n",
      "          2.1077,   2.0468,   1.9898,   1.9365,   1.8866,   1.8399,   1.7962,\n",
      "          1.7553,   1.7171,   1.6813,   1.6478,   1.6165,   1.5872,   1.5598,\n",
      "          1.5341,   1.5100,   1.4874,   1.4662,   1.4463,   1.4276,   1.4101,\n",
      "          1.3935,   1.3780,   1.3634,   1.3496,   1.3365,   1.3242,   1.3126,\n",
      "          1.3017,   1.2913,   1.2814,   1.2721,   1.2633,   1.2549,   1.2469,\n",
      "          1.2393,   1.2321]) \n",
      "\n",
      "{'DET': 0, 'NN': 1, 'V': 2, 'ADV': 3}\n",
      "['The', 'dog', 'ate', 'the', 'apple']\n",
      "['DET', 'NN', 'V', 'DET', 'NN']\n",
      "[0, 1, 2, 0, 1]\n",
      "--------------\n",
      "{'DET': 0, 'NN': 1, 'V': 2, 'ADV': 3}\n",
      "['Everybody', 'read', 'that', 'book']\n",
      "['NN', 'V', 'DET', 'NN']\n",
      "[1, 2, 0, 1]\n",
      "--------------\n",
      "{'DET': 0, 'NN': 1, 'V': 2, 'ADV': 3}\n",
      "['Everybody', 'does', 'machine', 'learning', 'nowadays']\n",
      "['NN', 'V', 'NN', 'NN', 'ADV']\n",
      "[1, 2, 1, 1, 3]\n",
      "--------------\n"
     ]
    }
   ],
   "source": [
    "model = GRUnet(EMBEDDING_DIM, HIDDEN_DIM, len(word_to_ix), len(tag_to_ix))\n",
    "loss_function = nn.NLLLoss()\n",
    "optimizer = optim.SGD(model.parameters(), lr=0.1)\n",
    "losses = train(model, optimizer, loss_function, 100)\n",
    "print(\"loss\", losses, \"\\n\")\n",
    "\n",
    "loss = torch.FloatTensor(losses)\n",
    "perplexity  = torch.exp(loss)\n",
    "print(\"Perplexity:\", perplexity ,\"\\n\")  \n",
    "\n",
    "evaluate(model, 0)\n",
    "evaluate(model, 1)\n",
    "evaluate(model, 2)\n",
    "\n",
    "\n"
   ]
  },
  {
   "cell_type": "code",
   "execution_count": 14,
   "metadata": {},
   "outputs": [
    {
     "data": {
      "image/png": "[encoded data removed]",
      "text/plain": [
       "<Figure size 432x288 with 1 Axes>"
      ]
     },
     "metadata": {
      "needs_background": "light"
     },
     "output_type": "display_data"
    }
   ],
   "source": [
    "plt.plot(losses)\n",
    "plt.xlabel(\"Iteration\")\n",
    "plt.ylabel(\"Loss\")\n",
    "plt.title('GRU Loss change during training')\n",
    "plt.show()"
   ]
  },
  {
   "cell_type": "code",
   "execution_count": null,
   "metadata": {},
   "outputs": [],
   "source": []
  }
 ],
 "metadata": {
  "kernelspec": {
   "display_name": "Python 3 (ipykernel)",
   "language": "python",
   "name": "python3"
  },
  "language_info": {
   "codemirror_mode": {
    "name": "ipython",
    "version": 3
   },
   "file_extension": ".py",
   "mimetype": "text/x-python",
   "name": "python",
   "nbconvert_exporter": "python",
   "pygments_lexer": "ipython3",
   "version": "3.8.5"
  }
 },
 "nbformat": 4,
 "nbformat_minor": 4
}
